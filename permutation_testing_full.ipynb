{
 "cells": [
  {
   "cell_type": "markdown",
   "id": "2e2d7d85",
   "metadata": {},
   "source": [
    "$\\newcommand{L}[1]{\\| #1 \\|}\\newcommand{VL}[1]{\\L{ \\vec{#1} }}\\newcommand{R}[1]{\\operatorname{Re}\\,(#1)}\\newcommand{I}[1]{\\operatorname{Im}\\, (#1)}$\n",
    "\n",
    "## Comparing two groups with permutation testing\n",
    "\n",
    "In a moment we are going to compare some measures we collected from two\n",
    "different groups.\n",
    "\n",
    "The data we are going to compare is from an experiment in which domestic\n",
    "chicks were fed a feed supplement (`with_supplement`), or were fed a normal\n",
    "diet without supplements (`no_supplement`). They were weighed after 2 weeks\n",
    "on these diets to test whether the supplement increases chick weight.\n",
    "\n",
    "Here are the chick weights for the two groups:"
   ]
  },
  {
   "cell_type": "code",
   "execution_count": 1,
   "id": "0af94687",
   "metadata": {
    "execution": {
     "iopub.execute_input": "2024-09-28T15:59:42.340881Z",
     "iopub.status.busy": "2024-09-28T15:59:42.340594Z",
     "iopub.status.idle": "2024-09-28T15:59:42.344210Z",
     "shell.execute_reply": "2024-09-28T15:59:42.343599Z"
    }
   },
   "outputs": [],
   "source": [
    "no_supplement = [179, 160, 136, 227, 217, 168, 108, 124, 143, 140]\n",
    "with_supplement = [309, 229, 181, 141, 260, 203, 148, 169, 213, 257, 244, 271]"
   ]
  },
  {
   "cell_type": "markdown",
   "id": "014189e5",
   "metadata": {},
   "source": [
    "`no_supplement` and `with_supplement` are lists.\n",
    "\n",
    "We can get the number of items in the list using `len`. For example, there\n",
    "are 10 chicks in the `no_supplement` group:"
   ]
  },
  {
   "cell_type": "code",
   "execution_count": 2,
   "id": "3a4f9379",
   "metadata": {
    "execution": {
     "iopub.execute_input": "2024-09-28T15:59:42.346652Z",
     "iopub.status.busy": "2024-09-28T15:59:42.346410Z",
     "iopub.status.idle": "2024-09-28T15:59:42.352906Z",
     "shell.execute_reply": "2024-09-28T15:59:42.352388Z"
    }
   },
   "outputs": [
    {
     "data": {
      "text/plain": [
       "10"
      ]
     },
     "execution_count": 2,
     "metadata": {},
     "output_type": "execute_result"
    }
   ],
   "source": [
    "len(no_supplement)"
   ]
  },
  {
   "cell_type": "markdown",
   "id": "64faf074",
   "metadata": {},
   "source": [
    "We can get the sum of the values in the list with `sum`:"
   ]
  },
  {
   "cell_type": "code",
   "execution_count": 3,
   "id": "bbc5bb83",
   "metadata": {
    "execution": {
     "iopub.execute_input": "2024-09-28T15:59:42.355400Z",
     "iopub.status.busy": "2024-09-28T15:59:42.355004Z",
     "iopub.status.idle": "2024-09-28T15:59:42.359174Z",
     "shell.execute_reply": "2024-09-28T15:59:42.358608Z"
    }
   },
   "outputs": [
    {
     "data": {
      "text/plain": [
       "1602"
      ]
     },
     "execution_count": 3,
     "metadata": {},
     "output_type": "execute_result"
    }
   ],
   "source": [
    "sum(no_supplement)"
   ]
  },
  {
   "cell_type": "code",
   "execution_count": 4,
   "id": "f10830a7",
   "metadata": {
    "execution": {
     "iopub.execute_input": "2024-09-28T15:59:42.361724Z",
     "iopub.status.busy": "2024-09-28T15:59:42.361454Z",
     "iopub.status.idle": "2024-09-28T15:59:42.365447Z",
     "shell.execute_reply": "2024-09-28T15:59:42.364898Z"
    }
   },
   "outputs": [
    {
     "data": {
      "text/plain": [
       "1602"
      ]
     },
     "execution_count": 4,
     "metadata": {},
     "output_type": "execute_result"
    }
   ],
   "source": [
    "# Checking that the sum is the addition of all the elements.\n",
    "179 + 160 + 136 + 227 + 217 + 168 + 108 + 124 + 143 + 140"
   ]
  },
  {
   "cell_type": "markdown",
   "id": "9d85a49d",
   "metadata": {},
   "source": [
    "The *mean* of the values in the list is defined as the sum divided by\n",
    "the number of items. For example, here is the mean of the weights in the\n",
    "`no_supplement` group:"
   ]
  },
  {
   "cell_type": "code",
   "execution_count": 5,
   "id": "eecabe10",
   "metadata": {
    "execution": {
     "iopub.execute_input": "2024-09-28T15:59:42.367954Z",
     "iopub.status.busy": "2024-09-28T15:59:42.367693Z",
     "iopub.status.idle": "2024-09-28T15:59:42.371539Z",
     "shell.execute_reply": "2024-09-28T15:59:42.370975Z"
    }
   },
   "outputs": [
    {
     "data": {
      "text/plain": [
       "160.2"
      ]
     },
     "execution_count": 5,
     "metadata": {},
     "output_type": "execute_result"
    }
   ],
   "source": [
    "sum(no_supplement) / len(no_supplement)"
   ]
  },
  {
   "cell_type": "markdown",
   "id": "87d48162",
   "metadata": {},
   "source": [
    "We can define a “function” that calculates the mean, like this:"
   ]
  },
  {
   "cell_type": "code",
   "execution_count": 6,
   "id": "9c426904",
   "metadata": {
    "execution": {
     "iopub.execute_input": "2024-09-28T15:59:42.373888Z",
     "iopub.status.busy": "2024-09-28T15:59:42.373653Z",
     "iopub.status.idle": "2024-09-28T15:59:42.376969Z",
     "shell.execute_reply": "2024-09-28T15:59:42.376350Z"
    }
   },
   "outputs": [],
   "source": [
    "def mean(some_list):\n",
    "    \"\"\" Calculates the mean of the values in `some_list`\n",
    "    \"\"\"\n",
    "    return sum(some_list) / len(some_list)"
   ]
  },
  {
   "cell_type": "markdown",
   "id": "f85c5b3c",
   "metadata": {},
   "source": [
    "Now we can get the mean with:"
   ]
  },
  {
   "cell_type": "code",
   "execution_count": 7,
   "id": "d694cbe6",
   "metadata": {
    "execution": {
     "iopub.execute_input": "2024-09-28T15:59:42.379798Z",
     "iopub.status.busy": "2024-09-28T15:59:42.379477Z",
     "iopub.status.idle": "2024-09-28T15:59:42.383734Z",
     "shell.execute_reply": "2024-09-28T15:59:42.383099Z"
    }
   },
   "outputs": [
    {
     "data": {
      "text/plain": [
       "160.2"
      ]
     },
     "execution_count": 7,
     "metadata": {},
     "output_type": "execute_result"
    }
   ],
   "source": [
    "mean(no_supplement)"
   ]
  },
  {
   "cell_type": "markdown",
   "id": "0a68da2b",
   "metadata": {},
   "source": [
    "The mean is greater for the `with_supplement` group:"
   ]
  },
  {
   "cell_type": "code",
   "execution_count": 8,
   "id": "5779d2c0",
   "metadata": {
    "execution": {
     "iopub.execute_input": "2024-09-28T15:59:42.386852Z",
     "iopub.status.busy": "2024-09-28T15:59:42.386592Z",
     "iopub.status.idle": "2024-09-28T15:59:42.390317Z",
     "shell.execute_reply": "2024-09-28T15:59:42.389748Z"
    }
   },
   "outputs": [
    {
     "data": {
      "text/plain": [
       "218.75"
      ]
     },
     "execution_count": 8,
     "metadata": {},
     "output_type": "execute_result"
    }
   ],
   "source": [
    "mean(with_supplement)"
   ]
  },
  {
   "cell_type": "markdown",
   "id": "a639003f",
   "metadata": {},
   "source": [
    "The difference between the means is:"
   ]
  },
  {
   "cell_type": "code",
   "execution_count": 9,
   "id": "a67a9213",
   "metadata": {
    "execution": {
     "iopub.execute_input": "2024-09-28T15:59:42.392823Z",
     "iopub.status.busy": "2024-09-28T15:59:42.392478Z",
     "iopub.status.idle": "2024-09-28T15:59:42.396719Z",
     "shell.execute_reply": "2024-09-28T15:59:42.396138Z"
    }
   },
   "outputs": [
    {
     "data": {
      "text/plain": [
       "58.55000000000001"
      ]
     },
     "execution_count": 9,
     "metadata": {},
     "output_type": "execute_result"
    }
   ],
   "source": [
    "observed_difference = mean(with_supplement) - mean(no_supplement)\n",
    "observed_difference"
   ]
  },
  {
   "cell_type": "markdown",
   "id": "6cb8f8ad",
   "metadata": {},
   "source": [
    "We see that the means of the two groups are different - but can we be\n",
    "confident that this difference did not come about by chance?\n",
    "\n",
    "As you can see from the `no_supplement` values, all the chicks have\n",
    "different weights.  These differences are due to factors we cannot control,\n",
    "such as genetic variation.  But, these differences create a problem in\n",
    "comparing the means between `no_supplement` and `with_supplement`.  For\n",
    "example, we could take another 10 chicks that didn’t take the supplement, and\n",
    "make a new group called `no_supplement_2`.  Because of the ordinary\n",
    "variation in chick weights, the `no_supplement_2` group would have a\n",
    "different set of weights to `no_supplement`, and therefore, a different\n",
    "mean.  Therefore, if we subtract the mean for `no_supplement` from the mean\n",
    "for `no_supplement_2`, the value will not be zero.  Sometimes the difference\n",
    "in means will be above zero, and sometimes below.\n",
    "\n",
    "So, even if we take two samples in the `no_supplement` condition, they will\n",
    "differ.  We want to be sure we aren’t fooling ourselves about the\n",
    "`observed_difference` - maybe that kind of difference could have come about\n",
    "when comparing two samples in the `no_supplement` condition, just due to\n",
    "ordinary variation in chick weights.  Maybe there is no real effect of the\n",
    "supplement, and the `with_supplement` values are not distinguishable from\n",
    "another sample of 13 chicks in the `no_supplement` condition.\n",
    "\n",
    "Statistical hypothesis testing is like resolving an argument between a sceptic\n",
    "and an optimist.   The sceptic says “you are fooling yourself” and argues that\n",
    "`observed_difference` came about by chance, because of ordinary variation in\n",
    "the chick weight, and not because of the effect of the supplement.  This is\n",
    "called the *null* hypothesis - the hypothesis that nothing but chance is\n",
    "necessary to explain the results.  The optimist advances the *alternative*\n",
    "hypothesis - in this case that the `observed_difference` should be explained\n",
    "by a real effect of the supplement, and cannot be explained by chance\n",
    "variation alone.  We will proceed by looking to see how likely\n",
    "`observed_difference` is, under the null hypothesis - that is, under the\n",
    "hypothesis that the difference can be explained by ordinary variation alone.\n",
    "\n",
    "One way we could check whether `observed_difference` could have come about\n",
    "by ordinary variation, is by measuring the weights of thousands of chicks in\n",
    "the `no_supplement` condition.  We could split these new samples into groups\n",
    "of 23, and then further split the group of 23 into a `group_A` group\n",
    "of size 10 and another `group_B` group of size 13.  Then we\n",
    "calculate the difference in the means between `group_A` and\n",
    "`group_B`, store it, and move on to the next 23 chick weights, to\n",
    "repeat the procedure.  We would end up with a distribution of the mean weight\n",
    "differences that arise just due to ordinary variation.  If\n",
    "`observed_difference` is very large compared to the range of differences in\n",
    "this no-supplement experiment, we might be prepared to reject the null\n",
    "hypothesis.\n",
    "\n",
    "Sadly, we do not have thousands of chick weights that we need to do that\n",
    "check.  But, it turns out we can get something very similar by *permuting* the\n",
    "data we have.\n",
    "\n",
    "Let’s start with the null hypothesis - that there is no difference in chick\n",
    "weight caused by the supplement.  If that hypothesis is true, then all the\n",
    "weights in `no_supplement` and in `with_supplement` can be considered as\n",
    "being samples from the `no_supplement` condition.\n",
    "\n",
    "To express this, I’m going to pool all the weights into one big group, like\n",
    "this:"
   ]
  },
  {
   "cell_type": "code",
   "execution_count": 10,
   "id": "c45aabfe",
   "metadata": {
    "execution": {
     "iopub.execute_input": "2024-09-28T15:59:42.399230Z",
     "iopub.status.busy": "2024-09-28T15:59:42.398965Z",
     "iopub.status.idle": "2024-09-28T15:59:42.403887Z",
     "shell.execute_reply": "2024-09-28T15:59:42.403346Z"
    }
   },
   "outputs": [
    {
     "data": {
      "text/plain": [
       "[179,\n",
       " 160,\n",
       " 136,\n",
       " 227,\n",
       " 217,\n",
       " 168,\n",
       " 108,\n",
       " 124,\n",
       " 143,\n",
       " 140,\n",
       " 309,\n",
       " 229,\n",
       " 181,\n",
       " 141,\n",
       " 260,\n",
       " 203,\n",
       " 148,\n",
       " 169,\n",
       " 213,\n",
       " 257,\n",
       " 244,\n",
       " 271]"
      ]
     },
     "execution_count": 10,
     "metadata": {},
     "output_type": "execute_result"
    }
   ],
   "source": [
    "# The + below appends the second list to the first\n",
    "all_chicks = no_supplement + with_supplement\n",
    "all_chicks"
   ]
  },
  {
   "cell_type": "markdown",
   "id": "918cd2be",
   "metadata": {},
   "source": [
    "In this new pooled list, the first 10 weights are from the\n",
    "`no_supplement` group, and the rest are from the `with_supplement`\n",
    "group.\n",
    "\n",
    "Here I am getting the first 10 values from the combined list - the\n",
    "`no_supplement` values:"
   ]
  },
  {
   "cell_type": "code",
   "execution_count": 11,
   "id": "12972936",
   "metadata": {
    "execution": {
     "iopub.execute_input": "2024-09-28T15:59:42.406246Z",
     "iopub.status.busy": "2024-09-28T15:59:42.406007Z",
     "iopub.status.idle": "2024-09-28T15:59:42.409934Z",
     "shell.execute_reply": "2024-09-28T15:59:42.409400Z"
    }
   },
   "outputs": [
    {
     "data": {
      "text/plain": [
       "[179, 160, 136, 227, 217, 168, 108, 124, 143, 140]"
      ]
     },
     "execution_count": 11,
     "metadata": {},
     "output_type": "execute_result"
    }
   ],
   "source": [
    "# All values up to (including) the tenth\n",
    "# (the no_supplement list)\n",
    "all_chicks[:10]"
   ]
  },
  {
   "cell_type": "markdown",
   "id": "6903d3b1",
   "metadata": {},
   "source": [
    "We can also get the `with_supplement` values from the combined list:"
   ]
  },
  {
   "cell_type": "code",
   "execution_count": 12,
   "id": "8cf5aa20",
   "metadata": {
    "execution": {
     "iopub.execute_input": "2024-09-28T15:59:42.412719Z",
     "iopub.status.busy": "2024-09-28T15:59:42.412435Z",
     "iopub.status.idle": "2024-09-28T15:59:42.416792Z",
     "shell.execute_reply": "2024-09-28T15:59:42.416201Z"
    }
   },
   "outputs": [
    {
     "data": {
      "text/plain": [
       "[309, 229, 181, 141, 260, 203, 148, 169, 213, 257, 244, 271]"
      ]
     },
     "execution_count": 12,
     "metadata": {},
     "output_type": "execute_result"
    }
   ],
   "source": [
    "# All values from (but not including) the tenth\n",
    "# (the with_supplement list)\n",
    "all_chicks[10:]"
   ]
  },
  {
   "cell_type": "markdown",
   "id": "4cf25181",
   "metadata": {},
   "source": [
    "Now we have the new pooled list, we can do something similar to taking the new\n",
    "`group_A` and `group_B` groups we imagined above.  That\n",
    "is, we can *shuffle* the combined group to a random order, and split this\n",
    "shuffled combined group into a group of 10 and a group of 13.  We get the\n",
    "difference in means of these two groups, and store it.  We keep shuffling, to\n",
    "create more `group_A` and `group_B` groups, and more\n",
    "differences in means. The generated distribution of the mean differences is\n",
    "the distribution we expect on the null hypothesis, that there is no real\n",
    "difference between the two groups.  We can see where `observed_difference`\n",
    "lies in this generated distribution, and this gives us a measure of whether\n",
    "the `observed_difference` is likely on the null hypothesis.\n",
    "\n",
    "Python’s `random.shuffle` function can do the shuffle for us:"
   ]
  },
  {
   "cell_type": "code",
   "execution_count": 13,
   "id": "bbbf41cf",
   "metadata": {
    "execution": {
     "iopub.execute_input": "2024-09-28T15:59:42.420163Z",
     "iopub.status.busy": "2024-09-28T15:59:42.419899Z",
     "iopub.status.idle": "2024-09-28T15:59:42.422686Z",
     "shell.execute_reply": "2024-09-28T15:59:42.422188Z"
    }
   },
   "outputs": [],
   "source": [
    "import random"
   ]
  },
  {
   "cell_type": "markdown",
   "id": "7e40cbfe",
   "metadata": {},
   "source": [
    "`random.shuffle` takes a list and shuffles it to a random order. Here I make\n",
    "a small example list and shuffle it a few times to show you that the order of\n",
    "the list changes:"
   ]
  },
  {
   "cell_type": "code",
   "execution_count": 14,
   "id": "4c175420",
   "metadata": {
    "execution": {
     "iopub.execute_input": "2024-09-28T15:59:42.424998Z",
     "iopub.status.busy": "2024-09-28T15:59:42.424707Z",
     "iopub.status.idle": "2024-09-28T15:59:42.429174Z",
     "shell.execute_reply": "2024-09-28T15:59:42.428617Z"
    }
   },
   "outputs": [
    {
     "data": {
      "text/plain": [
       "[3, 4, 5, 2, 1]"
      ]
     },
     "execution_count": 14,
     "metadata": {},
     "output_type": "execute_result"
    }
   ],
   "source": [
    "# A small example list\n",
    "a_list = [1, 2, 3, 4, 5]\n",
    "# Shuffle it\n",
    "random.shuffle(a_list)\n",
    "# The shuffled list has a different (random) order\n",
    "a_list"
   ]
  },
  {
   "cell_type": "code",
   "execution_count": 15,
   "id": "b0e7f5e3",
   "metadata": {
    "execution": {
     "iopub.execute_input": "2024-09-28T15:59:42.431470Z",
     "iopub.status.busy": "2024-09-28T15:59:42.431238Z",
     "iopub.status.idle": "2024-09-28T15:59:42.435573Z",
     "shell.execute_reply": "2024-09-28T15:59:42.435034Z"
    }
   },
   "outputs": [
    {
     "data": {
      "text/plain": [
       "[1, 2, 4, 5, 3]"
      ]
     },
     "execution_count": 15,
     "metadata": {},
     "output_type": "execute_result"
    }
   ],
   "source": [
    "# Shuffling again gives a different order\n",
    "random.shuffle(a_list)\n",
    "a_list"
   ]
  },
  {
   "cell_type": "code",
   "execution_count": 16,
   "id": "9c3c780e",
   "metadata": {
    "execution": {
     "iopub.execute_input": "2024-09-28T15:59:42.437956Z",
     "iopub.status.busy": "2024-09-28T15:59:42.437699Z",
     "iopub.status.idle": "2024-09-28T15:59:42.441676Z",
     "shell.execute_reply": "2024-09-28T15:59:42.441182Z"
    }
   },
   "outputs": [
    {
     "data": {
      "text/plain": [
       "[2, 1, 3, 5, 4]"
      ]
     },
     "execution_count": 16,
     "metadata": {},
     "output_type": "execute_result"
    }
   ],
   "source": [
    "random.shuffle(a_list)\n",
    "a_list"
   ]
  },
  {
   "cell_type": "markdown",
   "id": "574d30cb",
   "metadata": {},
   "source": [
    "Here’s a random shuffle of the combined `no_supplement` and\n",
    "`with_supplement` list:"
   ]
  },
  {
   "cell_type": "code",
   "execution_count": 17,
   "id": "61b71e00",
   "metadata": {
    "execution": {
     "iopub.execute_input": "2024-09-28T15:59:42.444584Z",
     "iopub.status.busy": "2024-09-28T15:59:42.444308Z",
     "iopub.status.idle": "2024-09-28T15:59:42.448663Z",
     "shell.execute_reply": "2024-09-28T15:59:42.448038Z"
    }
   },
   "outputs": [
    {
     "data": {
      "text/plain": [
       "[309,\n",
       " 169,\n",
       " 227,\n",
       " 203,\n",
       " 124,\n",
       " 108,\n",
       " 229,\n",
       " 168,\n",
       " 148,\n",
       " 181,\n",
       " 160,\n",
       " 213,\n",
       " 217,\n",
       " 141,\n",
       " 260,\n",
       " 179,\n",
       " 257,\n",
       " 244,\n",
       " 143,\n",
       " 271,\n",
       " 136,\n",
       " 140]"
      ]
     },
     "execution_count": 17,
     "metadata": {},
     "output_type": "execute_result"
    }
   ],
   "source": [
    "random.shuffle(all_chicks)\n",
    "all_chicks"
   ]
  },
  {
   "cell_type": "markdown",
   "id": "7920b8b3",
   "metadata": {},
   "source": [
    "Now for our permutation test.  We’ve assumed the null hypothesis.  We have\n",
    "randomly shuffled the combined group.  We’ll call the first 10 values\n",
    "`group_A` and the last 13 values `group_B`.\n",
    "\n",
    "After the shuffling, the `group_A` group is a random mix of the\n",
    "`no_supplement` and `with_supplement` values, as is the\n",
    "`group_B` group.\n",
    "\n",
    "Here is a function that takes the combined list and returns the difference in\n",
    "means:"
   ]
  },
  {
   "cell_type": "code",
   "execution_count": 18,
   "id": "f038cd42",
   "metadata": {
    "execution": {
     "iopub.execute_input": "2024-09-28T15:59:42.451252Z",
     "iopub.status.busy": "2024-09-28T15:59:42.450930Z",
     "iopub.status.idle": "2024-09-28T15:59:42.454561Z",
     "shell.execute_reply": "2024-09-28T15:59:42.453993Z"
    }
   },
   "outputs": [],
   "source": [
    "def difference_in_means(combined_list):\n",
    "    \"\"\" Split suffled combind group into two, return mean difference\n",
    "    \"\"\"\n",
    "    group_A = combined_list[:10]\n",
    "    group_B = combined_list[10:]\n",
    "    return mean(group_B) - mean(group_A)"
   ]
  },
  {
   "cell_type": "markdown",
   "id": "7da7fdd7",
   "metadata": {},
   "source": [
    "Let’s get the difference in means for these new groups, generated by the\n",
    "shuffle:"
   ]
  },
  {
   "cell_type": "code",
   "execution_count": 19,
   "id": "c5e04fc5",
   "metadata": {
    "execution": {
     "iopub.execute_input": "2024-09-28T15:59:42.457667Z",
     "iopub.status.busy": "2024-09-28T15:59:42.457372Z",
     "iopub.status.idle": "2024-09-28T15:59:42.463138Z",
     "shell.execute_reply": "2024-09-28T15:59:42.462490Z"
    }
   },
   "outputs": [
    {
     "data": {
      "text/plain": [
       "10.150000000000006"
      ]
     },
     "execution_count": 19,
     "metadata": {},
     "output_type": "execute_result"
    }
   ],
   "source": [
    "difference_in_means(all_chicks)"
   ]
  },
  {
   "cell_type": "markdown",
   "id": "e1f36bad",
   "metadata": {},
   "source": [
    "That difference from the shuffled groups looks a lot less than the difference\n",
    "we originally found:"
   ]
  },
  {
   "cell_type": "code",
   "execution_count": 20,
   "id": "0d42bbfd",
   "metadata": {
    "execution": {
     "iopub.execute_input": "2024-09-28T15:59:42.465840Z",
     "iopub.status.busy": "2024-09-28T15:59:42.465555Z",
     "iopub.status.idle": "2024-09-28T15:59:42.469866Z",
     "shell.execute_reply": "2024-09-28T15:59:42.469317Z"
    }
   },
   "outputs": [
    {
     "data": {
      "text/plain": [
       "58.55000000000001"
      ]
     },
     "execution_count": 20,
     "metadata": {},
     "output_type": "execute_result"
    }
   ],
   "source": [
    "observed_difference"
   ]
  },
  {
   "cell_type": "markdown",
   "id": "a1a0a980",
   "metadata": {},
   "source": [
    "One difference is not enough.  We need more shuffled mean differences to see\n",
    "whether `observed_difference` is really unusual compared to the range of\n",
    "permuted group differences.  Here we run the shuffle procedure 5000 times, to\n",
    "get a large range of values:"
   ]
  },
  {
   "cell_type": "code",
   "execution_count": 21,
   "id": "9d5cc758",
   "metadata": {
    "execution": {
     "iopub.execute_input": "2024-09-28T15:59:42.472246Z",
     "iopub.status.busy": "2024-09-28T15:59:42.471988Z",
     "iopub.status.idle": "2024-09-28T15:59:42.526453Z",
     "shell.execute_reply": "2024-09-28T15:59:42.525842Z"
    }
   },
   "outputs": [],
   "source": [
    "n_repeats = 5000\n",
    "counter = n_repeats\n",
    "shuffled_differences = []  # An empty list to store the differences\n",
    "while counter > 0:\n",
    "    random.shuffle(all_chicks)\n",
    "    new_difference = difference_in_means(all_chicks)\n",
    "    # Collect the new mean by adding to the end of the list\n",
    "    shuffled_differences.append(new_difference)\n",
    "    # Count down\n",
    "    counter = counter - 1"
   ]
  },
  {
   "cell_type": "markdown",
   "id": "8bcbd541",
   "metadata": {},
   "source": [
    "This gives us 5000 differences from groups that are compatible with our null\n",
    "hypothesis.   We can now ask whether `observed_difference` is unusually\n",
    "large compared to the distribution of these 5000 differences."
   ]
  },
  {
   "cell_type": "code",
   "execution_count": 22,
   "id": "bcbd2b09",
   "metadata": {
    "execution": {
     "iopub.execute_input": "2024-09-28T15:59:42.528993Z",
     "iopub.status.busy": "2024-09-28T15:59:42.528746Z",
     "iopub.status.idle": "2024-09-28T15:59:42.940973Z",
     "shell.execute_reply": "2024-09-28T15:59:42.940397Z"
    }
   },
   "outputs": [],
   "source": [
    "%matplotlib inline"
   ]
  },
  {
   "cell_type": "code",
   "execution_count": 23,
   "id": "6f5fc762",
   "metadata": {
    "execution": {
     "iopub.execute_input": "2024-09-28T15:59:42.943637Z",
     "iopub.status.busy": "2024-09-28T15:59:42.943333Z",
     "iopub.status.idle": "2024-09-28T15:59:42.946364Z",
     "shell.execute_reply": "2024-09-28T15:59:42.945763Z"
    }
   },
   "outputs": [],
   "source": [
    "# The plotting package\n",
    "import matplotlib.pyplot as plt"
   ]
  },
  {
   "cell_type": "code",
   "execution_count": 24,
   "id": "2ae1c6ac",
   "metadata": {
    "execution": {
     "iopub.execute_input": "2024-09-28T15:59:42.949378Z",
     "iopub.status.busy": "2024-09-28T15:59:42.949000Z",
     "iopub.status.idle": "2024-09-28T15:59:43.117916Z",
     "shell.execute_reply": "2024-09-28T15:59:43.117317Z"
    }
   },
   "outputs": [
    {
     "data": {
      "text/plain": [
       "(array([  15.,  104.,  398.,  855., 1206., 1238.,  795.,  306.,   71.,\n",
       "          12.]),\n",
       " array([-77.48333333, -61.68      , -45.87666667, -30.07333333,\n",
       "        -14.27      ,   1.53333333,  17.33666667,  33.14      ,\n",
       "         48.94333333,  64.74666667,  80.55      ]),\n",
       " <BarContainer object of 10 artists>)"
      ]
     },
     "execution_count": 24,
     "metadata": {},
     "output_type": "execute_result"
    },
    {
     "data": {
      "image/png": "[encoded data removed]",
      "text/plain": [
       "<Figure size 640x480 with 1 Axes>"
      ]
     },
     "metadata": {},
     "output_type": "display_data"
    }
   ],
   "source": [
    "plt.hist(shuffled_differences)"
   ]
  },
  {
   "cell_type": "markdown",
   "id": "db42db7f",
   "metadata": {},
   "source": [
    "Remember our `observed_difference`?"
   ]
  },
  {
   "cell_type": "code",
   "execution_count": 25,
   "id": "ea1374c9",
   "metadata": {
    "execution": {
     "iopub.execute_input": "2024-09-28T15:59:43.120816Z",
     "iopub.status.busy": "2024-09-28T15:59:43.120526Z",
     "iopub.status.idle": "2024-09-28T15:59:43.124971Z",
     "shell.execute_reply": "2024-09-28T15:59:43.124399Z"
    }
   },
   "outputs": [
    {
     "data": {
      "text/plain": [
       "58.55000000000001"
      ]
     },
     "execution_count": 25,
     "metadata": {},
     "output_type": "execute_result"
    }
   ],
   "source": [
    "observed_difference"
   ]
  },
  {
   "cell_type": "markdown",
   "id": "46fa2ac5",
   "metadata": {},
   "source": [
    "`observed_difference` looks like it is at the extreme right of the\n",
    "distribution. But - how far to the right? What proportion of the 5000 null\n",
    "hypothesis differences are greater than or equal to the observed value?\n",
    "\n",
    "To test this, we first sort the null hypothesis differences from lowest to\n",
    "highest:"
   ]
  },
  {
   "cell_type": "code",
   "execution_count": 26,
   "id": "17b9770f",
   "metadata": {
    "execution": {
     "iopub.execute_input": "2024-09-28T15:59:43.127487Z",
     "iopub.status.busy": "2024-09-28T15:59:43.127229Z",
     "iopub.status.idle": "2024-09-28T15:59:43.130596Z",
     "shell.execute_reply": "2024-09-28T15:59:43.130032Z"
    }
   },
   "outputs": [],
   "source": [
    "sorted_differences = sorted(shuffled_differences)"
   ]
  },
  {
   "cell_type": "markdown",
   "id": "aafc4065",
   "metadata": {},
   "source": [
    "Next we find how many of these null hypothesis differences are greater than or\n",
    "equal to the `observed_difference`:"
   ]
  },
  {
   "cell_type": "code",
   "execution_count": 27,
   "id": "e772ebbe",
   "metadata": {
    "execution": {
     "iopub.execute_input": "2024-09-28T15:59:43.132908Z",
     "iopub.status.busy": "2024-09-28T15:59:43.132673Z",
     "iopub.status.idle": "2024-09-28T15:59:43.137122Z",
     "shell.execute_reply": "2024-09-28T15:59:43.136603Z"
    }
   },
   "outputs": [],
   "source": [
    "# Go through all the differences one by one.\n",
    "# When we've found a difference greater than or equal to the observed\n",
    "# one, stop.\n",
    "index = 0\n",
    "while index < n_repeats:\n",
    "    # Check the sorted difference at the current index\n",
    "    if sorted_differences[index] >= observed_difference:\n",
    "        # Stop checking, we've found a null hypothesis difference\n",
    "        # greater than or equal to the observed difference.\n",
    "        break\n",
    "    # Otherwise, move on to the next null difference\n",
    "    index = index + 1"
   ]
  },
  {
   "cell_type": "markdown",
   "id": "4a3cc690",
   "metadata": {},
   "source": [
    "So, the index of the first difference greater than or equal to observed\n",
    "difference is:"
   ]
  },
  {
   "cell_type": "code",
   "execution_count": 28,
   "id": "f5f01ef3",
   "metadata": {
    "execution": {
     "iopub.execute_input": "2024-09-28T15:59:43.139552Z",
     "iopub.status.busy": "2024-09-28T15:59:43.139305Z",
     "iopub.status.idle": "2024-09-28T15:59:43.143134Z",
     "shell.execute_reply": "2024-09-28T15:59:43.142623Z"
    }
   },
   "outputs": [
    {
     "data": {
      "text/plain": [
       "4974"
      ]
     },
     "execution_count": 28,
     "metadata": {},
     "output_type": "execute_result"
    }
   ],
   "source": [
    "index"
   ]
  },
  {
   "cell_type": "markdown",
   "id": "ffb581c4",
   "metadata": {},
   "source": [
    "We calculate how many values in `sorted_differences` are greater than or\n",
    "equal to `observed_difference`:"
   ]
  },
  {
   "cell_type": "code",
   "execution_count": 29,
   "id": "45e41757",
   "metadata": {
    "execution": {
     "iopub.execute_input": "2024-09-28T15:59:43.145531Z",
     "iopub.status.busy": "2024-09-28T15:59:43.145281Z",
     "iopub.status.idle": "2024-09-28T15:59:43.149562Z",
     "shell.execute_reply": "2024-09-28T15:59:43.148801Z"
    }
   },
   "outputs": [
    {
     "data": {
      "text/plain": [
       "26"
      ]
     },
     "execution_count": 29,
     "metadata": {},
     "output_type": "execute_result"
    }
   ],
   "source": [
    "n_greater_than_equal = n_repeats - index\n",
    "n_greater_than_equal"
   ]
  },
  {
   "cell_type": "markdown",
   "id": "230849af",
   "metadata": {},
   "source": [
    "Therefore, the *proportion* of the null-hypothesis differences that are\n",
    "greater than or equal to the observed difference is:"
   ]
  },
  {
   "cell_type": "code",
   "execution_count": 30,
   "id": "d6e41158",
   "metadata": {
    "execution": {
     "iopub.execute_input": "2024-09-28T15:59:43.152359Z",
     "iopub.status.busy": "2024-09-28T15:59:43.152089Z",
     "iopub.status.idle": "2024-09-28T15:59:43.156166Z",
     "shell.execute_reply": "2024-09-28T15:59:43.155601Z"
    }
   },
   "outputs": [
    {
     "data": {
      "text/plain": [
       "0.0052"
      ]
     },
     "execution_count": 30,
     "metadata": {},
     "output_type": "execute_result"
    }
   ],
   "source": [
    "prop_greater = n_greater_than_equal / n_repeats\n",
    "prop_greater"
   ]
  },
  {
   "cell_type": "markdown",
   "id": "c3751d6b",
   "metadata": {},
   "source": [
    "This proportion is very small.  Therefore, our observed difference is very\n",
    "unlikely on the null hypothesis that observations in the two groups are\n",
    "equivalent. We might be tempted to reject the null hypothesis, and conclude\n",
    "that the two groups are not equivalent, and therefore, that the supplement\n",
    "really did have an effect on the weight of the chicks, even allowing for the\n",
    "ordinary variation in chick weight."
   ]
  }
 ],
 "metadata": {
  "language_info": {
   "codemirror_mode": {
    "name": "ipython",
    "version": 3
   },
   "file_extension": ".py",
   "mimetype": "text/x-python",
   "name": "python",
   "nbconvert_exporter": "python",
   "pygments_lexer": "ipython3",
   "version": "3.10.14"
  }
 },
 "nbformat": 4,
 "nbformat_minor": 5
}