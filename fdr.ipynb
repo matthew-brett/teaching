{
 "cells": [
  {
   "cell_type": "markdown",
   "id": "3e72cef7",
   "metadata": {},
   "source": [
    "$\\newcommand{L}[1]{\\| #1 \\|}\\newcommand{VL}[1]{\\L{ \\vec{#1} }}\\newcommand{R}[1]{\\operatorname{Re}\\,(#1)}\\newcommand{I}[1]{\\operatorname{Im}\\, (#1)}$\n",
    "\n",
    "## Thresholding with false discovery rate\n",
    "\n",
    "Written with J-B Poline.\n",
    "\n",
    "The false discovery rate is a different *type* of correction than\n",
    "family-wise correction. Instead of controlling for the risk of *any\n",
    "tests* falsely being declared significant under the null hypothesis, FDR\n",
    "will control the *number of tests falsely declared significant as a\n",
    "proportion of the number of all tests declared significant*.\n",
    "\n",
    "A basic idea on how the FDR works is the following.\n",
    "\n",
    "We have got a large number of p values from a set of individual tests.\n",
    "These might be p values from tests on a set of brain voxels.\n",
    "\n",
    "We are trying to a find a p value threshold $\\theta$ to do a\n",
    "reasonable job of distinguishing true positive tests from true\n",
    "negatives. p values that are less than or equal to $\\theta$ are\n",
    "*detections* and $\\theta$ is a *detection threshold*.\n",
    "\n",
    "We want to choose a detection threshold that will only allow a small\n",
    "number of false positive detections.\n",
    "\n",
    "A *detection* can also be called a *discovery*; hence false discovery\n",
    "rate.\n",
    "\n",
    "For the FDR, we will try to find a p value within the family of tests\n",
    "(the set of p values), that we can use as a detection threshold.\n",
    "\n",
    "Let’s look at the p value for a particular test. Let’s say there are\n",
    "$N$ tests, indexed with $i \\in 1 .. N$. We look at a test\n",
    "$i$, and consider using p value from this test as a detection\n",
    "threshold; $\\theta = p(i)$. The expected number of false positives\n",
    "(FP) in N tests at this detection threshold would be:\n",
    "\n",
    "$$\n",
    "E(FP) = N p(i)\n",
    "$$\n",
    "\n",
    "For example, if we had 100 tests, and the particular p value\n",
    "$p(i)$ was 0.1, then the expected number of false positive\n",
    "detections, thresholding at 0.1, is 0.1 \\* 100 = 10.\n",
    "\n",
    "Let’s take some data from a random normal distribution to illustrate:"
   ]
  },
  {
   "cell_type": "code",
   "execution_count": null,
   "id": "d6f68d33",
   "metadata": {},
   "outputs": [],
   "source": [
    "import numpy as np\n",
    "import matplotlib.pyplot as plt"
   ]
  },
  {
   "cell_type": "code",
   "execution_count": null,
   "id": "88cc806e",
   "metadata": {},
   "outputs": [],
   "source": [
    "%matplotlib inline"
   ]
  },
  {
   "cell_type": "code",
   "execution_count": null,
   "id": "31d985b6",
   "metadata": {},
   "outputs": [],
   "source": [
    "np.random.seed(42) # so we always get the same random numbers\n",
    "N = 100\n",
    "z_values = np.random.normal(size=N)"
   ]
  },
  {
   "cell_type": "markdown",
   "id": "557c62b6",
   "metadata": {},
   "source": [
    "Turn the Z values into p values:"
   ]
  },
  {
   "cell_type": "code",
   "execution_count": null,
   "id": "86947000",
   "metadata": {},
   "outputs": [],
   "source": [
    "import scipy.stats as sst\n",
    "normal_distribution = sst.norm(loc=0,scale=1.) #loc is the mean, scale is the variance.\n",
    "# The normal CDF\n",
    "p_values = normal_distribution.cdf(z_values)"
   ]
  },
  {
   "cell_type": "markdown",
   "id": "a5a3a1a3",
   "metadata": {},
   "source": [
    "To make it easier to show, we sort the p values from smallest to\n",
    "largest:"
   ]
  },
  {
   "cell_type": "code",
   "execution_count": null,
   "id": "2160de7b",
   "metadata": {},
   "outputs": [],
   "source": [
    "p_values = np.sort(p_values)\n",
    "i = np.arange(1, N+1) # the 1-based i index of the p values, as in p(i)\n",
    "plt.plot(i, p_values, '.')\n",
    "plt.xlabel('$i$')\n",
    "plt.ylabel('p value')"
   ]
  },
  {
   "cell_type": "markdown",
   "id": "ac65d68f",
   "metadata": {},
   "source": [
    "Notice the (more or less) straight line of p value against $i$\n",
    "index in this case, where there is no signal in the random noise.\n",
    "\n",
    "We want to find a p value threshold $p(i)$ where there is only a\n",
    "small *proportion* of false positives among the detections. For example,\n",
    "we might accept a threshold such that 5% of all detections (discoveries)\n",
    "are likely to be false positives. If $d$ is the number of\n",
    "discoveries at threshold $\\theta$, and $q$ is the proportion\n",
    "of false positives we will accept (e.g. 0.05), then we want a threshold\n",
    "$\\theta$ such that $E(FP) / d < q$ where $E(x)$ is the\n",
    "expectation of $x$, here the number of FP I would get *on average*\n",
    "if I was to repeat my experiment many times.\n",
    "\n",
    "So - what is $d$ in the plot above? Now that we have ordered the p\n",
    "values, for any index $i$, if we threshold at\n",
    "$\\theta \\le p(i)$ we will have $i$ detections\n",
    "($d = i$). Therefore we want to find the largest $p(i)$ such\n",
    "that $E(FP) / i < q$. We know $E(FP) = N p(i)$ so we want\n",
    "the largest $p(i)$ such that:\n",
    "\n",
    "$$\n",
    "N p(i) / i < q \\implies p(i) < q i / N\n",
    "$$\n",
    "\n",
    "Let’s take $q$ (the proportion of false discoveries = detections)\n",
    "as 0.05. We plot $q i / N$ (in red) on the same graph as\n",
    "$p(i)$ (in blue):"
   ]
  },
  {
   "cell_type": "code",
   "execution_count": null,
   "id": "d6ee2bf2",
   "metadata": {},
   "outputs": [],
   "source": [
    "q = 0.05\n",
    "plt.plot(i, p_values, 'b.', label='$p(i)$')\n",
    "plt.plot(i, q * i / N, 'r', label='$q i / N$')\n",
    "plt.xlabel('$i$')\n",
    "plt.ylabel('$p$')\n",
    "plt.legend()"
   ]
  },
  {
   "cell_type": "markdown",
   "id": "bec7fcf8",
   "metadata": {},
   "source": [
    "Our job is to look for the largest $p(i)$ value (blue dot) that is\n",
    "still underneath $q i / N$ (the red line).\n",
    "\n",
    "The red line $q i / N$ is the acceptable number of false positives\n",
    "$q i$ as a proportion of all the tests $N$. Further to the\n",
    "right on the red line corresponds to a larger acceptable number of false\n",
    "positives. For example, for $i = 1$, the acceptable number of\n",
    "false positives $q * i$ is $0.05 * 1$, but at\n",
    "$i = 50$, the acceptable number of expected false positives\n",
    "$q * i$ is $0.05 * 50 = 2.5$.\n",
    "\n",
    "Notice that, if only the first p value passes threshold, then\n",
    "$p(1) < q \\space 1 \\space / \\space N$. So, if $q = 0.05$,\n",
    "$p(1) < 0.05 / N$. This is the Bonferroni correction for $N$\n",
    "tests.\n",
    "\n",
    "The FDR becomes more interesting when there is signal in the noise. In\n",
    "this case there will be p values that are smaller than expected on the\n",
    "null hypothesis. This causes the p value line to start below the\n",
    "diagonal on the ordered plot, because of the high density of low p\n",
    "values."
   ]
  },
  {
   "cell_type": "code",
   "execution_count": null,
   "id": "b93e3302",
   "metadata": {},
   "outputs": [],
   "source": [
    "N_signal = 20\n",
    "N_noise = N - N_signal\n",
    "noise_z_values = np.random.normal(size=N_noise)\n",
    "# Add some signal with very low z scores / p values\n",
    "signal_z_values = np.random.normal(loc=-2.5, size=N_signal)\n",
    "mixed_z_values = np.sort(np.concatenate((noise_z_values, signal_z_values)))\n",
    "mixed_p_values = normal_distribution.cdf(mixed_z_values)\n",
    "plt.plot(i, mixed_p_values, 'b.', label='$p(i)$')\n",
    "plt.plot(i, q * i / N, 'r', label='$q i / N$')\n",
    "plt.xlabel('$i$')\n",
    "plt.ylabel('$p$')\n",
    "plt.legend()"
   ]
  },
  {
   "cell_type": "markdown",
   "id": "7d7f3645",
   "metadata": {},
   "source": [
    "The interesting part is the beginning of the graph, where the blue p\n",
    "values stay below the red line:"
   ]
  },
  {
   "cell_type": "code",
   "execution_count": null,
   "id": "ab602654",
   "metadata": {},
   "outputs": [],
   "source": [
    "first_i = i[:30]\n",
    "plt.plot(first_i, mixed_p_values[:30], 'b.', label='$p(i)$')\n",
    "plt.plot(first_i, q * first_i / N, 'r', label='$q i / N$')\n",
    "plt.xlabel('$i$')\n",
    "plt.ylabel('$p$')\n",
    "plt.legend()"
   ]
  },
  {
   "cell_type": "markdown",
   "id": "2250030a",
   "metadata": {},
   "source": [
    "We are looking for the largest $p(i) < qi/N$, which corresponds to\n",
    "the last blue point below the red line."
   ]
  },
  {
   "cell_type": "code",
   "execution_count": null,
   "id": "ff74042a",
   "metadata": {},
   "outputs": [],
   "source": [
    "below = mixed_p_values < (q * i / N) # True where p(i)<qi/N\n",
    "max_below = np.max(np.where(below)[0]) # Max Python array index where p(i)<qi/N\n",
    "print('p_i:', mixed_p_values[max_below])\n",
    "print('i:', max_below + 1) # Python indices 0-based, we want 1-based"
   ]
  },
  {
   "cell_type": "markdown",
   "id": "26c9c182",
   "metadata": {},
   "source": [
    "The Bonferroni threshold is:"
   ]
  },
  {
   "cell_type": "code",
   "execution_count": null,
   "id": "715309f9",
   "metadata": {},
   "outputs": [],
   "source": [
    "0.05 / N"
   ]
  },
  {
   "cell_type": "markdown",
   "id": "0737ac8a",
   "metadata": {},
   "source": [
    "In this case, where there is signal in the noise, the FDR threshold\n",
    "*adapts* to the presence of the signal, by taking into account that some\n",
    "values have small enough p values that they can be assumed to be signal,\n",
    "so that there are fewer noise comparisons to correct for, and the\n",
    "threshold is correspondingly less stringent.\n",
    "\n",
    "As the FDR threshold becomes less stringent, the number of detections\n",
    "increases, and the expected number of false positive detections\n",
    "increases, because the FDR controls the *proportion* of false positives\n",
    "in the detections. In our case, the expected number of false positives\n",
    "in the detections is $q i = 0.05 * 9 = 0.45$. In other words, at\n",
    "this threshold, we have a 45% chance of seeing a false positive among\n",
    "the detected positive tests.\n",
    "\n",
    "So, there are a number of interesting properties of the FDR - and some\n",
    "not so interesting if you want to do brain imaging.\n",
    "\n",
    "* In the case of no signal at all, the FDR threshold will be the\n",
    "  Bonferroni threshold\n",
    "\n",
    "* Under some conditions (see Benjamini and Hochberg, JRSS-B 1995), the\n",
    "  FDR threshold can be applied to correlated data\n",
    "\n",
    "* FDR is an “adaptive” threshold\n",
    "\n",
    "Not so “interesting”\n",
    "\n",
    "* FDR can be very variable\n",
    "\n",
    "* When there are lots of true positives, and many detections, the\n",
    "  number of false positive detections increases. This can make FDR\n",
    "  detections more difficult to interpret."
   ]
  }
 ],
 "metadata": {},
 "nbformat": 4,
 "nbformat_minor": 5
}