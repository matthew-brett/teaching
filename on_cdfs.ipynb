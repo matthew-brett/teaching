{
 "cells": [
  {
   "cell_type": "markdown",
   "id": "1b09ecae",
   "metadata": {},
   "source": [
    "$\\newcommand{L}[1]{\\| #1 \\|}\\newcommand{VL}[1]{\\L{ \\vec{#1} }}\\newcommand{R}[1]{\\operatorname{Re}\\,(#1)}\\newcommand{I}[1]{\\operatorname{Im}\\, (#1)}$\n",
    "\n",
    "## p values from cumulative distribution functions"
   ]
  },
  {
   "cell_type": "code",
   "execution_count": null,
   "id": "3d9ab97c",
   "metadata": {},
   "outputs": [],
   "source": [
    "import numpy as np\n",
    "np.set_printoptions(precision=4)  # print arrays to 4 decimal places\n",
    "import matplotlib.pyplot as plt"
   ]
  },
  {
   "cell_type": "code",
   "execution_count": null,
   "id": "1d10bad0",
   "metadata": {},
   "outputs": [],
   "source": [
    "%matplotlib inline"
   ]
  },
  {
   "cell_type": "markdown",
   "id": "166fe159",
   "metadata": {},
   "source": [
    "Imagine I have a t statistic with 20 degrees of freedom.\n",
    "\n",
    "[Scipy](https://www.scipy.org/scipylib/index.html) provides a [t distribution class](https://docs.scipy.org/doc/scipy/reference/generated/scipy.stats.t.html) that we can use to get values\n",
    "from the t statistic [probability density function](https://en.wikipedia.org/wiki/Probability_density_function) (PDF).\n",
    "\n",
    "As a start, we plot the PDF for a t statistic with 20 degrees of freedom:"
   ]
  },
  {
   "cell_type": "code",
   "execution_count": null,
   "id": "0c92f970",
   "metadata": {},
   "outputs": [],
   "source": [
    "import scipy.stats\n",
    "# Make a t distribution object for t with 20 degrees of freedom\n",
    "t_dist = scipy.stats.t(20)\n",
    "# Plot the PDF\n",
    "t_values = np.linspace(-4, 4, 1000)\n",
    "plt.plot(t_values, t_dist.pdf(t_values))\n",
    "plt.xlabel('t value')\n",
    "plt.ylabel('probability for t value')\n",
    "plt.title('PDF for t distribution with df=20')"
   ]
  },
  {
   "cell_type": "markdown",
   "id": "ff5fd7df",
   "metadata": {},
   "source": [
    "The t distribution object `t_dist` can also give us the [cumulative\n",
    "distribution function](https://en.wikipedia.org/wiki/Cumulative_distribution_function) (CDF).  The CDF gives the area under the curve of the\n",
    "PDF at and to the left of the given t value:"
   ]
  },
  {
   "cell_type": "code",
   "execution_count": null,
   "id": "a86147aa",
   "metadata": {},
   "outputs": [],
   "source": [
    "# Plot the CDF\n",
    "plt.plot(t_values, t_dist.cdf(t_values))\n",
    "plt.xlabel('t value')\n",
    "plt.ylabel('probability for t value <= t')\n",
    "plt.title('CDF for t distribution with df=20')"
   ]
  },
  {
   "cell_type": "markdown",
   "id": "b145bd98",
   "metadata": {},
   "source": [
    "Say I have a t value $x$ drawn from a t distribution with 20 degrees of\n",
    "freedom.  The PDF gives the probability for given values of $x$.  Because it\n",
    "is a probability density, the sum of the probabilities of all possible\n",
    "values for $x$: $\\infty < x < \\infty$ must be 1.  Therefore the total area\n",
    "under the PDF curve is 1, and the maximum value of the CDF is 1.\n",
    "\n",
    "The CDF gives us the area under the PDF curve at and to the left of a given t\n",
    "value $x$.  Therefore it is the probability that we will observe a value $x <=\n",
    "t$ if we sample a value $x$ from a t distribution of (here) 20 degrees of\n",
    "freedom."
   ]
  },
  {
   "cell_type": "code",
   "execution_count": null,
   "id": "c760e4dc",
   "metadata": {},
   "outputs": [],
   "source": [
    "# Show relationship of PDF and CDF for three example t values.\n",
    "example_values = (-1.5, 0, 1.5)\n",
    "pdf_values = t_dist.pdf(t_values)\n",
    "cdf_values = t_dist.cdf(t_values)\n",
    "fill_color = (0, 0, 0, 0.1)  # Light gray in RGBA format.\n",
    "line_color = (0, 0, 0, 0.5)  # Medium gray in RGBA format.\n",
    "fig, axes = plt.subplots(2, len(example_values), figsize=(10, 6))\n",
    "for i, x in enumerate(example_values):\n",
    "    cdf_ax, pdf_ax = axes[:, i]\n",
    "    cdf_ax.plot(t_values, cdf_values)\n",
    "    pdf_ax.plot(t_values, pdf_values)\n",
    "    # Fill area at and to the left of x.\n",
    "    pdf_ax.fill_between(t_values, pdf_values,\n",
    "                        where=t_values <= x,\n",
    "                        color=fill_color)\n",
    "    pd = t_dist.pdf(x)  # Probability density at this value.\n",
    "    # Line showing position of x on x-axis of PDF plot.\n",
    "    pdf_ax.plot([x, x],\n",
    "                [0, pd], color=line_color)\n",
    "    cd = t_dist.cdf(x)  # Cumulative distribution value for this x.\n",
    "    # Lines showing x and CDF value on CDF plot.\n",
    "    x_ax_min = cdf_ax.axis()[0]  # x position of y axis on plot.\n",
    "    cdf_ax.plot([x, x, x_ax_min],\n",
    "                [0, cd, cd], color=line_color)\n",
    "    cdf_ax.set_title('x = {:.1f}, area = {:.2f}'.format(x, cd))\n",
    "    # Hide top and right axis lines and ticks to reduce clutter.\n",
    "    for ax in (cdf_ax, pdf_ax):\n",
    "        ax.spines['right'].set_visible(False)\n",
    "        ax.spines['top'].set_visible(False)\n",
    "        ax.yaxis.set_ticks_position('left')\n",
    "        ax.xaxis.set_ticks_position('bottom')"
   ]
  },
  {
   "cell_type": "markdown",
   "id": "0f87498b",
   "metadata": {},
   "source": [
    "For example, say I have drawn a t value $x$ at random from a t distribution\n",
    "with 20 degrees of freedom.  The probability that $x <= 1.5$ is:"
   ]
  },
  {
   "cell_type": "code",
   "execution_count": null,
   "id": "f3dc68d7",
   "metadata": {},
   "outputs": [],
   "source": [
    "# Area of PDF at and to the left of 1.5\n",
    "t_dist.cdf(1.5)"
   ]
  },
  {
   "cell_type": "markdown",
   "id": "87df16c8",
   "metadata": {},
   "source": [
    "The total area under the PDF is 1, and the maximum value for the CDF is 1.\n",
    "Therefore the area of the PDF to the *right* of 1.5 must be:"
   ]
  },
  {
   "cell_type": "code",
   "execution_count": null,
   "id": "14b59925",
   "metadata": {},
   "outputs": [],
   "source": [
    "# Area of PDF to the right of 1.5\n",
    "1 - t_dist.cdf(1.5)"
   ]
  },
  {
   "cell_type": "markdown",
   "id": "c80ffc1d",
   "metadata": {},
   "source": [
    "This is the probability that our t value $x$ will be $> 1.5$.  In general,\n",
    "when we sample a value $x$ at random from a t distribution with $d$ degrees of\n",
    "freedom, the probability that $x > q$ is given by:\n",
    "\n",
    "$$\n",
    "\\mathbb{P}(x > q) = 1 - \\mathrm{CDF}_d(q)\n",
    "$$\n",
    "\n",
    "where $\\mathrm{CDF}_d$ is the cumulative distribution function for a t value\n",
    "with $d$ degrees of freedom.\n",
    "\n",
    "<!-- A file containing links and substitutions -->\n",
    "<!-- vim: ft=rst -->\n",
    "<!-- Version control -->\n",
    "<!-- Editors -->\n",
    "<!-- Python and common libraries -->\n",
    "<!-- Virtualenv and helpers -->\n",
    "<!-- Pypi and packaging -->\n",
    "<!-- Mac development -->\n",
    "<!-- Windows development -->\n",
    "<!-- Nipy and friends -->\n",
    "<!-- Mathematics -->\n",
    "<!-- Licenses -->\n",
    "<!-- Neuroimaging stuff -->\n",
    "<!-- People -->\n",
    "<!-- Substitutions -->"
   ]
  }
 ],
 "metadata": {},
 "nbformat": 4,
 "nbformat_minor": 5
}