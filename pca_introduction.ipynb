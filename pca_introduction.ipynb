{
 "cells": [
  {
   "cell_type": "markdown",
   "id": "a0a52a1e",
   "metadata": {},
   "source": [
    "$\\newcommand{L}[1]{\\| #1 \\|}\\newcommand{VL}[1]{\\L{ \\vec{#1} }}\\newcommand{R}[1]{\\operatorname{Re}\\,(#1)}\\newcommand{I}[1]{\\operatorname{Im}\\, (#1)}$\n",
    "\n",
    "## Introducing principal component analysis\n",
    "\n",
    "This page was much inspired by these two excellent tutorials:\n",
    "\n",
    "* [Kendrick Kay’s tutorial on principal component analysis](http://randomanalyses.blogspot.com/2012/01/principal-components-analysis.html);\n",
    "\n",
    "* [Lior Pachter’s tutorial](https://liorpachter.wordpress.com/2014/05/26/what-is-principal-component-analysis).\n",
    "\n",
    "### Background\n",
    "\n",
    "Check that you understand:\n",
    "\n",
    "* [Vector projection](https://matthew-brett.github.io/teaching/vector_projection.html);\n",
    "\n",
    "* matrix multiplication.  See this [Khan academy introduction to matrix\n",
    "  multiplication](https://www.khanacademy.org/math/precalculus/precalc-matrices/multiplying-matrices-by-matrices/v/matrix-multiplication-intro).\n",
    "  I highly recommend [Gilbert Strang’s lecture on matrix multiplication](https://ocw.mit.edu/courses/mathematics/18-06-linear-algebra-spring-2010/video-lectures/lecture-3-multiplication-and-inverse-matrices).\n",
    "\n",
    "### Setting the scene\n",
    "\n",
    "Let’s say I have some data in a 2D array $\\mathbf{X}$.\n",
    "\n",
    "I have taken two different measures for each sample, and 50 samples.  We can\n",
    "also call the measures *variables* or *features*.  So, I have two *features*\n",
    "and 50 *samples*.\n",
    "\n",
    "I arrange the data so each column is one sample (I have 50 columns). Each row\n",
    "is one feature (or measure or variable) (I have two rows).\n",
    "\n",
    "Start by loading the libraries we need, and doing some configuration:"
   ]
  },
  {
   "cell_type": "code",
   "execution_count": null,
   "id": "f9ae16fe",
   "metadata": {},
   "outputs": [],
   "source": [
    "import numpy as np\n",
    "import numpy.linalg as npl\n",
    "# Display array values to 6 digits of precision\n",
    "np.set_printoptions(precision=6, suppress=True)"
   ]
  },
  {
   "cell_type": "code",
   "execution_count": null,
   "id": "4a8ac236",
   "metadata": {},
   "outputs": [],
   "source": [
    "%matplotlib inline"
   ]
  },
  {
   "cell_type": "markdown",
   "id": "dcd68e7e",
   "metadata": {},
   "source": [
    "Make the data:"
   ]
  },
  {
   "cell_type": "code",
   "execution_count": null,
   "id": "c5962b82",
   "metadata": {},
   "outputs": [],
   "source": [
    "# Make some random, but predictable data\n",
    "np.random.seed(1966)\n",
    "X = np.random.multivariate_normal([0, 0], [[3, 1.5], [1.5, 1]], size=50).T\n",
    "X.shape"
   ]
  },
  {
   "cell_type": "markdown",
   "id": "29f8e0ee",
   "metadata": {},
   "source": [
    "To make things simpler, I will subtract the mean across samples from each\n",
    "feature.  As each feature is one row, I need to subtract the mean of each row,\n",
    "from each value in the row:"
   ]
  },
  {
   "cell_type": "code",
   "execution_count": null,
   "id": "37d431ae",
   "metadata": {},
   "outputs": [],
   "source": [
    "# Subtract mean across samples (mean of each feature)\n",
    "x_mean = X.mean(axis=1)\n",
    "X[0] = X[0] - x_mean[0]\n",
    "X[1] = X[1] - x_mean[1]"
   ]
  },
  {
   "cell_type": "markdown",
   "id": "5adea076",
   "metadata": {},
   "source": [
    "The values for the two features (rows) in $\\mathbf{X}$ are somewhat\n",
    "correlated:\n",
    "\n",
    "We want to explain the variation in these data.\n",
    "\n",
    "The variation we want to explain is given by the sum of squares of the data\n",
    "values."
   ]
  },
  {
   "cell_type": "code",
   "execution_count": null,
   "id": "b5d3e86f",
   "metadata": {},
   "outputs": [],
   "source": [
    "squares = X ** 2\n",
    "print(np.sum(squares))"
   ]
  },
  {
   "cell_type": "markdown",
   "id": "de32020b",
   "metadata": {},
   "source": [
    "The sums of squares of the data can be thought of as the squared lengths of\n",
    "the 50 2D vectors in the columns of $\\mathbf{X}$.\n",
    "\n",
    "We can think of each sample as being a point on a 2D coordinate system, where\n",
    "the first feature is the position on the x axis, and the second is the\n",
    "position on the y axis. In fact, this is how we just plotted the values in the\n",
    "scatter plot. We can also think of each column as a 2D *vector*. Call\n",
    "$\\vec{v_j}$ the vector contained in column $j$ of matrix\n",
    "$\\mathbf{X}$, where $j \\in 1..50$.\n",
    "\n",
    "The sum of squares across the features, is also the squared distance of the\n",
    "point (column) from the origin (0, 0). That is the same as saying that the sum\n",
    "of squares is the squared *length* of $\\vec{v_j}$.  This can be written\n",
    "as $\\|\\vec{v_j}\\|^2$\n",
    "\n",
    "Take the first column / point / vector as an example ($\\vec{v_1}$):"
   ]
  },
  {
   "cell_type": "code",
   "execution_count": null,
   "id": "f04bfeaa",
   "metadata": {},
   "outputs": [],
   "source": [
    "v1 = X[:, 0]\n",
    "v1"
   ]
  },
  {
   "cell_type": "markdown",
   "id": "a5270418",
   "metadata": {},
   "source": [
    "So, the sums of squares we are trying to explain can be expressed as the sum\n",
    "of the squared distance of each point from the origin, where the points\n",
    "(vectors) are the columns of $\\mathbf{X}$:\n",
    "\n",
    "Put another way, we are trying to explain the squares of the lengths of the\n",
    "dotted red lines on the plot.\n",
    "\n",
    "At the moment, we have not explained anything, so our current unexplained sum\n",
    "of squares is:"
   ]
  },
  {
   "cell_type": "code",
   "execution_count": null,
   "id": "d6d0581f",
   "metadata": {},
   "outputs": [],
   "source": [
    "print(np.sum(X ** 2))"
   ]
  },
  {
   "cell_type": "markdown",
   "id": "f45aebc5",
   "metadata": {},
   "source": [
    "For the following you will need to know how to use vector dot products to\n",
    "project one vector on another.\n",
    "\n",
    "See [Vectors and dot products](https://matthew-brett.github.io/teaching/on_vectors.html) and [Vector projection](https://matthew-brett.github.io/teaching/vector_projection.html) for the details, and please\n",
    "try the excellent Khan academy videos linked from those pages if you are new to\n",
    "vector dot products or are feeling rusty.\n",
    "\n",
    "Let us now say that we want to try and find a line that will explain the\n",
    "maximum sum of squares in the data.\n",
    "\n",
    "We define our line with a unit vector $\\hat{u}$. All points on the line\n",
    "can be expressed with $c\\hat{u}$ where $c$ is a scalar.\n",
    "\n",
    "Our best fitting line $c\\hat{u}$ is the line that comes closest to the\n",
    "points, in the sense of minimizing the squared distance between the line and\n",
    "points.\n",
    "\n",
    "Put a little more formally, for each point $\\vec{v_j}$ we will find the\n",
    "distance $d_j$ between $\\vec{v_j}$ and the line. We want the line\n",
    "with the smallest $\\sum_j{d_j^2}$.\n",
    "\n",
    "What do we mean by the *distance* in this case? The distance $d_i$ is\n",
    "the distance between the point $\\vec{v_i}$ and the projection of that\n",
    "point onto the line $c\\hat{u}$. The projection of $\\vec{v_i}$ onto\n",
    "the line defined by $\\hat{u}$ is, [as we remember](https://matthew-brett.github.io/teaching/vector_projection.html), given by $c\\hat{u}$ where $c =\n",
    "\\vec{v_i}\\cdot\\hat{u}$.\n",
    "\n",
    "Looking at the scatter plot, we might consider trying a unit vector at 45\n",
    "degrees angle to the x axis:"
   ]
  },
  {
   "cell_type": "code",
   "execution_count": null,
   "id": "58c84fd8",
   "metadata": {},
   "outputs": [],
   "source": [
    "u_guessed = np.array([np.cos(np.pi / 4), np.sin(np.pi / 4)])\n",
    "u_guessed"
   ]
  },
  {
   "cell_type": "markdown",
   "id": "5a17d92e",
   "metadata": {},
   "source": [
    "This is a unit vector:"
   ]
  },
  {
   "cell_type": "code",
   "execution_count": null,
   "id": "71a9d765",
   "metadata": {},
   "outputs": [],
   "source": [
    "np.sum(u_guessed ** 2)"
   ]
  },
  {
   "cell_type": "markdown",
   "id": "faa4ee9f",
   "metadata": {},
   "source": [
    "Let’s project all the points onto that line:"
   ]
  },
  {
   "cell_type": "code",
   "execution_count": null,
   "id": "f13f2759",
   "metadata": {},
   "outputs": [],
   "source": [
    "u_guessed_row = u_guessed.reshape((1, 2))  # A row vector\n",
    "c_values = u_guessed_row.dot(X)  # c values for scaling u\n",
    "# scale u by values to get projection\n",
    "projected = u_guessed_row.T.dot(c_values)"
   ]
  },
  {
   "cell_type": "markdown",
   "id": "3cedcb3a",
   "metadata": {},
   "source": [
    "The projected points (in red), are the positions of the points that can be\n",
    "explained by projection onto the guessed line defined by $\\hat{u}$. The\n",
    "red projected points also have their own sum of squares:"
   ]
  },
  {
   "cell_type": "code",
   "execution_count": null,
   "id": "011c78c7",
   "metadata": {},
   "outputs": [],
   "source": [
    "print(np.sum(projected ** 2))"
   ]
  },
  {
   "cell_type": "markdown",
   "id": "25545e07",
   "metadata": {},
   "source": [
    "Because we are projecting onto a unit vector, $\\|c\\hat{u}\\|^2 = c\\hat{u}\n",
    "\\cdot c\\hat{u} = c^2(\\hat{u} \\cdot \\hat{u}) = c^2$.  Therefore the\n",
    "`c_values` are also the lengths of the projected vectors, so the sum of\n",
    "squares of the `c_values` also gives us the sum of squares of the projected\n",
    "points:"
   ]
  },
  {
   "cell_type": "code",
   "execution_count": null,
   "id": "badb587d",
   "metadata": {},
   "outputs": [],
   "source": [
    "print(np.sum(c_values ** 2))"
   ]
  },
  {
   "cell_type": "markdown",
   "id": "cd2e44cc",
   "metadata": {},
   "source": [
    "As we will see later, this is the sum of squares from the original points that\n",
    "have been explained by projection onto $\\hat{u}$.\n",
    "\n",
    "Once I have the projected points, I can calculate the remaining distance of\n",
    "the actual points from the projected points:"
   ]
  },
  {
   "cell_type": "code",
   "execution_count": null,
   "id": "3a635e0f",
   "metadata": {},
   "outputs": [],
   "source": [
    "remaining = X - projected\n",
    "distances = np.sqrt(np.sum(remaining ** 2, axis=0))\n",
    "distances"
   ]
  },
  {
   "cell_type": "markdown",
   "id": "c2b6479c",
   "metadata": {},
   "source": [
    "I can also express the overall (squared) remaining distance as the sum of\n",
    "squares.  The following is the code version of the formula $\\sum_j{d_j^2}$\n",
    "that you saw [above](https://matthew-brett.github.io/teaching/pca_introduction.html#distance-formula):"
   ]
  },
  {
   "cell_type": "code",
   "execution_count": null,
   "id": "75daaab7",
   "metadata": {},
   "outputs": [],
   "source": [
    "print(np.sum(remaining ** 2))"
   ]
  },
  {
   "cell_type": "markdown",
   "id": "93390b33",
   "metadata": {},
   "source": [
    "I’m going to try a whole lot of different values for $\\hat{u}$, so\n",
    "I will make a function to calculate the result of projecting the data\n",
    "onto a line defined by a unit vector $\\hat{u}$:"
   ]
  },
  {
   "cell_type": "code",
   "execution_count": null,
   "id": "eed011e8",
   "metadata": {},
   "outputs": [],
   "source": [
    "def line_projection(u, X):\n",
    "    \"\"\" Return columns of X projected onto line defined by u\n",
    "    \"\"\"\n",
    "    u = u.reshape(1, 2)  # A row vector\n",
    "    c_values = u.dot(X)  # c values for scaling u\n",
    "    projected = u.T.dot(c_values)\n",
    "    return projected"
   ]
  },
  {
   "cell_type": "markdown",
   "id": "18b822cd",
   "metadata": {},
   "source": [
    "Next a small function to return the vectors remaining after removing the\n",
    "projections:"
   ]
  },
  {
   "cell_type": "code",
   "execution_count": null,
   "id": "be87cbbf",
   "metadata": {},
   "outputs": [],
   "source": [
    "def line_remaining(u, X):\n",
    "    \"\"\" Return vectors remaining after removing cols of X projected onto u\n",
    "    \"\"\"\n",
    "    projected = line_projection(u, X)\n",
    "    remaining = X - projected\n",
    "    return remaining"
   ]
  },
  {
   "cell_type": "markdown",
   "id": "c08039e6",
   "metadata": {},
   "source": [
    "Using these little functions, I get the same answer as before:"
   ]
  },
  {
   "cell_type": "code",
   "execution_count": null,
   "id": "6ef9ef87",
   "metadata": {},
   "outputs": [],
   "source": [
    "print(np.sum(line_remaining(u_guessed, X) ** 2))"
   ]
  },
  {
   "cell_type": "markdown",
   "id": "eb4c65e4",
   "metadata": {},
   "source": [
    "Now I will make lots of $\\hat{u}$ vectors spanning half the circle:"
   ]
  },
  {
   "cell_type": "code",
   "execution_count": null,
   "id": "2f59ae5d",
   "metadata": {},
   "outputs": [],
   "source": [
    "angles = np.linspace(0, np.pi, 10000)\n",
    "x = np.cos(angles)\n",
    "y = np.sin(angles)\n",
    "u_vectors = np.vstack((x, y))\n",
    "u_vectors.shape"
   ]
  },
  {
   "cell_type": "code",
   "execution_count": null,
   "id": "d0a33338",
   "metadata": {},
   "outputs": [],
   "source": [
    "plt.plot(u_vectors[0], u_vectors[1], '+')\n",
    "plt.axis('equal')\n",
    "plt.tight_layout()"
   ]
  },
  {
   "cell_type": "markdown",
   "id": "db8301cf",
   "metadata": {},
   "source": [
    "I then get the remaining sum of squares after projecting onto each of these\n",
    "unit vectors:"
   ]
  },
  {
   "cell_type": "code",
   "execution_count": null,
   "id": "c577a548",
   "metadata": {},
   "outputs": [],
   "source": [
    "remaining_ss = []\n",
    "for u in u_vectors.T: # iterate over columns\n",
    "    remaining = line_remaining(u, X)\n",
    "    remaining_ss.append(np.sum(remaining ** 2))\n",
    "plt.plot(angles, remaining_ss)\n",
    "plt.xlabel('Angle of unit vector')\n",
    "plt.ylabel('Remaining sum of squares')"
   ]
  },
  {
   "cell_type": "markdown",
   "id": "1aa9a6c8",
   "metadata": {},
   "source": [
    "It looks like the minimum value is for a unit vector at around angle 0.5\n",
    "radians:"
   ]
  },
  {
   "cell_type": "code",
   "execution_count": null,
   "id": "f0e12976",
   "metadata": {},
   "outputs": [],
   "source": [
    "min_i = np.argmin(remaining_ss)\n",
    "angle_best = angles[min_i]\n",
    "print(angle_best)"
   ]
  },
  {
   "cell_type": "code",
   "execution_count": null,
   "id": "4f710c9f",
   "metadata": {},
   "outputs": [],
   "source": [
    "u_best = u_vectors[:, min_i]\n",
    "u_best"
   ]
  },
  {
   "cell_type": "markdown",
   "id": "c9daae6b",
   "metadata": {},
   "source": [
    "I plot the data with the new unit vector I found:\n",
    "\n",
    "Do the projections for this best line look better than before?"
   ]
  },
  {
   "cell_type": "code",
   "execution_count": null,
   "id": "d91755f1",
   "metadata": {},
   "outputs": [],
   "source": [
    "projected = line_projection(u_best, X)"
   ]
  },
  {
   "cell_type": "markdown",
   "id": "39f13b6f",
   "metadata": {},
   "source": [
    "Now we have found a reasonable choice for our first best fitting line, we have\n",
    "a set of remaining vectors that we have not explained. These are the vectors\n",
    "between the projected and actual points."
   ]
  },
  {
   "cell_type": "code",
   "execution_count": null,
   "id": "43ed7a01",
   "metadata": {},
   "outputs": [],
   "source": [
    "remaining = X - projected"
   ]
  },
  {
   "cell_type": "markdown",
   "id": "158fc712",
   "metadata": {},
   "source": [
    "What is the next line we need to best explain the remaining sum of squares? We\n",
    "want another unit vector orthogonal to the first.  This is because we have\n",
    "already explained everything that can be explained along the direction of\n",
    "$\\hat{u_{best}}$, and we only have two dimensions, so there is only one\n",
    "remaining direction along which the variation can occur.\n",
    "\n",
    "I get the new $\\hat{u_{orth}}$ vector with a rotation by 90 degrees ($\\pi /\n",
    "2$):"
   ]
  },
  {
   "cell_type": "code",
   "execution_count": null,
   "id": "e550d691",
   "metadata": {},
   "outputs": [],
   "source": [
    "u_best_orth = np.array([np.cos(angle_best + np.pi / 2), np.sin(angle_best + np.pi / 2)])"
   ]
  },
  {
   "cell_type": "markdown",
   "id": "340e54ad",
   "metadata": {},
   "source": [
    "Within error due to the floating point calculations, $\\hat{u_{orth}}$ is\n",
    "orthogonal to $\\hat{u_{best}}$:"
   ]
  },
  {
   "cell_type": "code",
   "execution_count": null,
   "id": "6652202b",
   "metadata": {},
   "outputs": [],
   "source": [
    "np.allclose(u_best.dot(u_best_orth), 0, atol=1e-6)"
   ]
  },
  {
   "cell_type": "markdown",
   "id": "7ffad50a",
   "metadata": {},
   "source": [
    "The projections onto $\\hat{u_{orth}}$ are the same as the remaining\n",
    "points, because the remaining points already lie along the line defined by\n",
    "$\\hat{u_{orth}}$."
   ]
  },
  {
   "cell_type": "code",
   "execution_count": null,
   "id": "ae0409c7",
   "metadata": {},
   "outputs": [],
   "source": [
    "projected_onto_orth = line_projection(u_best_orth, remaining)\n",
    "np.allclose(projected_onto_orth, remaining)"
   ]
  },
  {
   "cell_type": "markdown",
   "id": "d093b9d1",
   "metadata": {},
   "source": [
    "If we have really found the line $\\hat{u_{best}}$ that removes the most\n",
    "sum of squares from the remaining points, then this is the *first principal\n",
    "component* of $\\mathbf{X}$. $\\hat{u_{orth}}$ will be the second\n",
    "principal component of $\\mathbf{X}$.\n",
    "\n",
    "Now for a trick. Remember that the two principal components are orthogonal to\n",
    "one another. That means, that if I project the data onto the second principal\n",
    "component $\\hat{u_{orth}}$, I will (by the definition of orthogonal)\n",
    "pick up no component of the columns of $\\mathbf{X}$ that is colinear\n",
    "(predictable via projection) with $\\hat{u_{best}}$.\n",
    "\n",
    "This means that I can go straight to the projection onto the second component,\n",
    "from the original array $\\mathbf{X}$."
   ]
  },
  {
   "cell_type": "code",
   "execution_count": null,
   "id": "e37f5cf8",
   "metadata": {},
   "outputs": [],
   "source": [
    "# project onto second component direct from data\n",
    "projected_onto_orth_again = line_projection(u_best_orth, X)\n",
    "# Gives same answer as projecting remainder from first component\n",
    "np.allclose(projected_onto_orth_again, projected_onto_orth)"
   ]
  },
  {
   "cell_type": "markdown",
   "id": "3769952a",
   "metadata": {},
   "source": [
    "$\\newcommand{\\X}{\\mathbf{X}}\\newcommand{\\U}{\\mathbf{U}}\\newcommand{\\S}{\\mathbf{\\Sigma}}\\newcommand{\\V}{\\mathbf{V}}\\newcommand{\\C}{\\mathbf{C}}$\n",
    "For the same reason, I can calculate the scalar projections $c$ for both\n",
    "components at the same time, by doing matrix multiplication. First assemble\n",
    "the components into the columns of a 2 by 2 array $\\U$:"
   ]
  },
  {
   "cell_type": "code",
   "execution_count": null,
   "id": "550f4e9a",
   "metadata": {},
   "outputs": [],
   "source": [
    "# Components as columns in a 2 by 2 array\n",
    "U = np.column_stack((u_best, u_best_orth))\n",
    "U"
   ]
  },
  {
   "cell_type": "markdown",
   "id": "b03ff910",
   "metadata": {},
   "source": [
    "Call the 2 by 50 scalar projection values matrix $\\C$. I can calculate $\\C$ in\n",
    "one shot by matrix multiplication:\n",
    "\n",
    "$$\n",
    "\\C = \\U^T \\X\n",
    "$$"
   ]
  },
  {
   "cell_type": "code",
   "execution_count": null,
   "id": "7ac02203",
   "metadata": {},
   "outputs": [],
   "source": [
    "C = U.T.dot(X)"
   ]
  },
  {
   "cell_type": "markdown",
   "id": "e09504e4",
   "metadata": {},
   "source": [
    "The first row of $\\C$ has the scalar projections for the first component (the\n",
    "first component is the first column of $\\U$).  The second row has the scalar\n",
    "projections for the second component.\n",
    "\n",
    "Finally, we can get the projections of the vectors in $\\X$ onto the components\n",
    "in $\\U$ by taking the dot products of the columns in $\\U$ with the scalar\n",
    "projections in $\\C$:"
   ]
  },
  {
   "cell_type": "code",
   "execution_count": null,
   "id": "315d0717",
   "metadata": {},
   "outputs": [],
   "source": [
    "# Result of projecting on first component, via array dot\n",
    "# np.outer does the equivalent of a matrix multiply of a column vector\n",
    "# with a row vector, to give a matrix.\n",
    "projected_onto_1 = np.outer(U[:, 0], C[0, :])\n",
    "# The same as doing the original calculation\n",
    "np.allclose(projected_onto_1, line_projection(u_best, X))"
   ]
  },
  {
   "cell_type": "code",
   "execution_count": null,
   "id": "9b779957",
   "metadata": {},
   "outputs": [],
   "source": [
    "# Result of projecting on second component, via np.outer\n",
    "projected_onto_2 = np.outer(U[:, 1], C[1, :])\n",
    "# The same as doing the original calculation\n",
    "np.allclose(projected_onto_2, line_projection(u_best_orth, X))"
   ]
  },
  {
   "cell_type": "markdown",
   "id": "d4b5c968",
   "metadata": {},
   "source": [
    "# The principal component lines are new axes to express the data\n",
    "\n",
    "My original points were expressed in the orthogonal, standard x and y axes. My\n",
    "principal components give new orthogonal axes. When I project, I have just\n",
    "re-expressed my original points on these new orthogonal axes. Let’s call the\n",
    "projections of $\\vec{v_1}$ onto the first and second components:\n",
    "$proj_1\\vec{v_1}$, $proj_2\\vec{v_1}$.\n",
    "\n",
    "For example, here is my original first point $\\vec{v_1}$ expressed using\n",
    "the projections onto the principal component axes:\n",
    "\n",
    "We have re-expressed $\\vec{v_1}$ by two new orthogonal vectors\n",
    "$proj_1\\vec{v_1}$ plus $proj_2\\vec{v_1}$. In symbols:\n",
    "$\\vec{v_1} = proj_1\\vec{v_1} + proj_2\\vec{v_1}$.\n",
    "\n",
    "The sum of component 1 projections and the component 2 projections add up to\n",
    "the original vectors (points).\n",
    "\n",
    "Sure enough, if I sum up the data projected onto the first component and the\n",
    "data projected onto the second, I get back the original data:"
   ]
  },
  {
   "cell_type": "code",
   "execution_count": null,
   "id": "dc180933",
   "metadata": {},
   "outputs": [],
   "source": [
    "np.allclose(projected_onto_1 + projected_onto_2, X)"
   ]
  },
  {
   "cell_type": "markdown",
   "id": "8e19209e",
   "metadata": {},
   "source": [
    "Doing the sum above is the same operation as matrix multiplication of the\n",
    "components $\\U$ with the scalar projections $\\C$.  Seeing that this is so\n",
    "involves writing out a few cells of the matrix multiplication in symbols and\n",
    "staring at it for a while."
   ]
  },
  {
   "cell_type": "code",
   "execution_count": null,
   "id": "6a561f6e",
   "metadata": {},
   "outputs": [],
   "source": [
    "data_again = U.dot(C)\n",
    "np.allclose(data_again, X)"
   ]
  },
  {
   "cell_type": "markdown",
   "id": "6d77dd0b",
   "metadata": {},
   "source": [
    "# The components partition the sums of squares\n",
    "\n",
    "Notice also that I have partitioned the sums of squares of the data into a\n",
    "part that can be explained by the first component, and a part that can be\n",
    "explained by the second:"
   ]
  },
  {
   "cell_type": "code",
   "execution_count": null,
   "id": "1fe9d69d",
   "metadata": {},
   "outputs": [],
   "source": [
    "# Total sum of squares\n",
    "print(np.sum(X ** 2))"
   ]
  },
  {
   "cell_type": "code",
   "execution_count": null,
   "id": "1dc1befe",
   "metadata": {},
   "outputs": [],
   "source": [
    "# Sum of squares in the projection onto the first\n",
    "ss_in_first = np.sum(projected_onto_1 ** 2)\n",
    "# Sum of squares in the projection onto the second\n",
    "ss_in_second = np.sum(projected_onto_2 ** 2)\n",
    "# They add up to the total sum of squares\n",
    "print((ss_in_first, ss_in_second, ss_in_first + ss_in_second))"
   ]
  },
  {
   "cell_type": "markdown",
   "id": "7eb43399",
   "metadata": {},
   "source": [
    "Why is this?\n",
    "\n",
    "Consider the first vector in $\\mathbf{X}$ : $\\vec{v_1}$. We have\n",
    "re-expressed the squared length of $\\vec{v_1}$ with the squared length\n",
    "of $proj_1\\vec{v_1}$ plus the squared length of $proj_2\\vec{v_1}$.\n",
    "The length of $\\vec{v_1}$ is unchanged, but we now have two new\n",
    "orthogonal vectors making up the sides of the right angled triangle of which\n",
    "$\\vec{v_1}$ is the hypotenuse. The total sum of squares in the data is\n",
    "given by:\n",
    "\n",
    "$$\n",
    "\\sum_j x^2 + \\sum_j y^2 = \\\\\n",
    "\\sum_j \\left( x^2 + y^2 \\right) = \\\\\n",
    "\\sum_j \\|\\vec{v_1}\\|^2 = \\\\\n",
    "\\sum_j \\left( \\|proj_1\\vec{v_1}\\|^2 + \\|proj_2\\vec{v_1}\\|^2 \\right) = \\\\\n",
    "\\sum_j \\|proj_1\\vec{v_1}\\|^2 + \\sum_j \\|proj_2\\vec{v_1}\\|^2 \\\\\n",
    "$$\n",
    "\n",
    "where $j$ indexes samples - $j \\in 1..50$ in our case.\n",
    "\n",
    "The first line shows the partition of the sum of squares into standard x and y\n",
    "coordinates, and the last line shows the partition into the first and second\n",
    "principal components.\n",
    "\n",
    "# Finding the principal components with SVD\n",
    "\n",
    "You now know what a principal component analysis is.\n",
    "\n",
    "It turns out there is a much quicker way to find the components than the slow\n",
    "and dumb search that I did above.\n",
    "\n",
    "For reasons that we don’t have space to go into, we can get the components\n",
    "using [Singular Value Decomposition](https://en.wikipedia.org/wiki/Singular_value_decomposition) (SVD) of\n",
    "$\\mathbf{X}$.\n",
    "\n",
    "See [http://arxiv.org/abs/1404.1100](http://arxiv.org/abs/1404.1100) for more detail.\n",
    "\n",
    "The SVD on an array containing only real (not complex) values such as\n",
    "$\\mathbf{X}$ is defined as:\n",
    "\n",
    "$$\n",
    "\\X = \\U \\Sigma \\V^T\n",
    "$$\n",
    "\n",
    "If $\\X$ is shape $M$ by $N$ then $\\U$ is an $M$ by $M$ [orthogonal\n",
    "matrix](https://en.wikipedia.org/wiki/Orthogonal_matrix), $\\S$ is a\n",
    "[diagonal matrix](https://en.wikipedia.org/wiki/Diagonal_matrix) shape $M$\n",
    "by $N$, and $\\V^T$ is an $N$ by $N$ orthogonal matrix."
   ]
  },
  {
   "cell_type": "code",
   "execution_count": null,
   "id": "c4c2462f",
   "metadata": {},
   "outputs": [],
   "source": [
    "U, S, VT = npl.svd(X)\n",
    "U.shape\n",
    "VT.shape"
   ]
  },
  {
   "cell_type": "markdown",
   "id": "19b512be",
   "metadata": {},
   "source": [
    "The components are in the columns of the returned matrix $\\U$."
   ]
  },
  {
   "cell_type": "code",
   "execution_count": null,
   "id": "d83e1fbc",
   "metadata": {},
   "outputs": [],
   "source": [
    "U"
   ]
  },
  {
   "cell_type": "markdown",
   "id": "9e6373aa",
   "metadata": {},
   "source": [
    "Remember that a vector $\\vec{r}$ defines the same line as the\n",
    "vector $-\\vec{r}$, so we do not care about a flip in the sign of\n",
    "the principal components:"
   ]
  },
  {
   "cell_type": "code",
   "execution_count": null,
   "id": "2c32ee9a",
   "metadata": {},
   "outputs": [],
   "source": [
    "u_best"
   ]
  },
  {
   "cell_type": "code",
   "execution_count": null,
   "id": "83952a8e",
   "metadata": {},
   "outputs": [],
   "source": [
    "u_best_orth"
   ]
  },
  {
   "cell_type": "markdown",
   "id": "d1d31707",
   "metadata": {},
   "source": [
    "The returned vector `S` gives the $M$ [singular\n",
    "values](https://en.wikipedia.org/wiki/Singular_value) that form the\n",
    "main diagonal of the $M$ by $N$ diagonal matrix $\\S$. The values in `S` give\n",
    "the square root of the explained sum of squares for each component:"
   ]
  },
  {
   "cell_type": "code",
   "execution_count": null,
   "id": "6b785ac3",
   "metadata": {},
   "outputs": [],
   "source": [
    "S ** 2"
   ]
  },
  {
   "cell_type": "markdown",
   "id": "f6f1b0dc",
   "metadata": {},
   "source": [
    "The formula above is for the “full” SVD.  When the number of rows in $\\X$\n",
    "($= M$) is less than the number of columns ($= N$) the SVD formula above\n",
    "requires an $M$ by $N$ matrix $\\S$ padded on the right with $N - M$ all zero\n",
    "columns, and an $N$ by $N$ matrix $\\V^T$, where the last $N - M$ rows will be\n",
    "discarded by matrix multiplication with the all zero rows in $\\S$.  A variant\n",
    "of the full SVD is the [thin SVD](https://en.wikipedia.org/wiki/Singular_value_decomposition#Thin_SVD), where\n",
    "we discard the useless columns and rows and return $\\S$ as a diagonal matrix\n",
    "$M x M$ and $\\V^T$ with shape $M x N$.  This is the `full_matrices=False`\n",
    "variant in NumPy:"
   ]
  },
  {
   "cell_type": "code",
   "execution_count": null,
   "id": "5464f321",
   "metadata": {},
   "outputs": [],
   "source": [
    "U, S, VT = npl.svd(X, full_matrices=False)\n",
    "U.shape\n",
    "VT.shape"
   ]
  },
  {
   "cell_type": "markdown",
   "id": "837cced3",
   "metadata": {},
   "source": [
    "By the definition of the SVD, $\\U$ and $\\V^T$ are orthogonal matrices, so\n",
    "$\\U^T$ is the inverse of $\\U$ and $\\U^T \\U = I$.  Therefore:\n",
    "\n",
    "$$\n",
    "\\X = \\U \\Sigma \\V^T \\implies\n",
    "\\U^T \\X = \\Sigma \\V^T\n",
    "$$\n",
    "\n",
    "You may recognize $\\U^T \\X$ as the matrix of scalar projections $\\C$ above:"
   ]
  },
  {
   "cell_type": "code",
   "execution_count": null,
   "id": "51478e85",
   "metadata": {},
   "outputs": [],
   "source": [
    "C = U.T.dot(X)\n",
    "np.allclose(np.diag(S).dot(VT), C)"
   ]
  },
  {
   "cell_type": "markdown",
   "id": "af8ad593",
   "metadata": {},
   "source": [
    "Because $\\V^T$ is also an orthogonal matrix, it has row lengths of 1, and we\n",
    "can get the values in $\\S$ from the row lengths of $\\C$:"
   ]
  },
  {
   "cell_type": "code",
   "execution_count": null,
   "id": "e4f69fd0",
   "metadata": {},
   "outputs": [],
   "source": [
    "S_from_C = np.sqrt(np.sum(C ** 2, axis=1))\n",
    "np.allclose(S_from_C, S)"
   ]
  },
  {
   "cell_type": "markdown",
   "id": "44163604",
   "metadata": {},
   "source": [
    "Now we can reconstruct $\\V^T$:"
   ]
  },
  {
   "cell_type": "code",
   "execution_count": null,
   "id": "72531463",
   "metadata": {},
   "outputs": [],
   "source": [
    "# Divide out reconstructed S values\n",
    "S_as_column = S_from_C.reshape((2, 1))\n",
    "np.allclose(C / S_as_column, VT)"
   ]
  },
  {
   "cell_type": "markdown",
   "id": "38f27ce1",
   "metadata": {},
   "source": [
    "The SVD is quick to compute for a small matrix like `X`, but when the larger\n",
    "dimension of $\\X$ becomes large, it is more efficient in CPU time and memory\n",
    "to calculate $\\U$ and $\\S$ by doing the SVD on the variance / covariance\n",
    "matrix of the features.\n",
    "\n",
    "Here’s why that works:\n",
    "\n",
    "$$\n",
    "\\U \\S \\V^T = \\X \\\\\n",
    "(\\U \\S \\V^T)(\\U \\S \\V^T)^T = \\X \\X^T\n",
    "$$\n",
    "\n",
    "By the matrix transpose rule and associativity of matrix multiplication:\n",
    "\n",
    "$$\n",
    "\\U \\S \\V^T \\V \\S^T \\U^T = \\X \\X^T\n",
    "$$\n",
    "\n",
    "$\\V^T$ is an orthogonal matrix, so $\\V^T = \\V^{-1}$ and $\\V^T \\V = I$. $\\S$ is\n",
    "a diagonal matrix so $\\S \\S^T = \\S^2$, where $\\S^2$ is a square diagonal\n",
    "matrix shape $M$ by $M$ containing the squares of the singular values from\n",
    "$\\S$:\n",
    "\n",
    "$$\n",
    "\\U \\S^2 \\U^T = \\X \\X^T\n",
    "$$\n",
    "\n",
    "This last formula is the formula for the SVD of $\\X \\X^T$. So, we can get our\n",
    "$\\U$ and $\\S$ from the SVD on $\\X \\X^T$."
   ]
  },
  {
   "cell_type": "code",
   "execution_count": null,
   "id": "9b6c493e",
   "metadata": {},
   "outputs": [],
   "source": [
    "# Finding principal components using SVD on X X^T\n",
    "unscaled_cov = X.dot(X.T)\n",
    "U_vcov, S_vcov, VT_vcov = npl.svd(unscaled_cov)\n",
    "U_vcov"
   ]
  },
  {
   "cell_type": "markdown",
   "id": "02f92d00",
   "metadata": {},
   "source": [
    "We know from the derivation above that `VT_vcov` is just the transpose of\n",
    "$\\U$:"
   ]
  },
  {
   "cell_type": "code",
   "execution_count": null,
   "id": "8f1a8e9b",
   "metadata": {},
   "outputs": [],
   "source": [
    "np.allclose(U, VT_vcov.T)"
   ]
  },
  {
   "cell_type": "markdown",
   "id": "6231a28d",
   "metadata": {},
   "source": [
    "The returned vector `S_vcov` from the SVD on $\\X \\X^T$ now contains the\n",
    "explained sum of squares for each component:"
   ]
  },
  {
   "cell_type": "code",
   "execution_count": null,
   "id": "5b245ba0",
   "metadata": {},
   "outputs": [],
   "source": [
    "S_vcov"
   ]
  },
  {
   "cell_type": "markdown",
   "id": "2f415e0b",
   "metadata": {},
   "source": [
    "## Sums of squares and variance from PCA\n",
    "\n",
    "We have done the SVD on the *unscaled* variance / covariance matrix.\n",
    "*Unscaled* means that the values in the matrix have not been divided by\n",
    "$N$, or $N-1$, where $N$ is the number of samples.  This\n",
    "matters little for our case, but sometimes it is useful to think in terms of\n",
    "the variance explained by the components, rather than the sums of squares.\n",
    "\n",
    "The standard *variance* of a vector $\\vec{x}$ with $N$\n",
    "elements $x_1, x_2, ... x_N$ indexed by $i$ is given by\n",
    "$\\frac{1}{N-1} \\sum_i \\left( x_i - \\bar{x} \\right)^2$.\n",
    "$\\bar{x}$ is the mean of $\\vec{x}$:\n",
    "$\\bar{x} = \\frac{1}{N} \\sum_i x_i$. If $\\vec{q}$ already has\n",
    "zero mean, then the variance of $\\vec{q}$ is also given by\n",
    "$\\frac{1}{N-1} \\vec{q} \\cdot \\vec{q}$.\n",
    "\n",
    "The $N-1$ divisor for the variance comes from [Bessel’s\n",
    "correction](http://en.wikipedia.org/wiki/Bessel%27s_correction) for\n",
    "bias.\n",
    "\n",
    "The covariance between two vectors $\\vec{x}, \\vec{y}$ is\n",
    "$\\frac{1}{N-1} \\sum_i \\left( x_i - \\bar{x} \\right) \\left( y_i - \\bar{y} \\right)$.\n",
    "If vectors $\\vec{q}, \\vec{p}$ already both have zero mean, then\n",
    "the covariance is given by $\\frac{1}{N-1} \\vec{q} \\cdot \\vec{p}$.\n",
    "\n",
    "Our unscaled variance covariance has removed the mean and done the dot\n",
    "products above, but it has not applied the $\\frac{1}{N-1}$\n",
    "scaling, to get the true variance / covariance.\n",
    "\n",
    "For example, the standard numpy covariance function `np.cov` completes\n",
    "the calculation of true covariance by dividing by $N-1$."
   ]
  },
  {
   "cell_type": "code",
   "execution_count": null,
   "id": "d2735d16",
   "metadata": {},
   "outputs": [],
   "source": [
    "# Calculate unscaled variance covariance again\n",
    "unscaled_cov = X.dot(X.T)\n",
    "# When divided by N-1, same as result of 'np.cov'\n",
    "N = X.shape[1]\n",
    "np.allclose(unscaled_cov / (N - 1), np.cov(X))"
   ]
  },
  {
   "cell_type": "markdown",
   "id": "8dbca19f",
   "metadata": {},
   "source": [
    "We could have run our SVD on the true variance covariance matrix. The\n",
    "result would give us exactly the same components. This might make sense\n",
    "from the fact that the lengths of the components are always scaled to 1\n",
    "(unit vectors):"
   ]
  },
  {
   "cell_type": "code",
   "execution_count": null,
   "id": "5716bdba",
   "metadata": {},
   "outputs": [],
   "source": [
    "scaled_U, scaled_S, scaled_VT = npl.svd(np.cov(X))\n",
    "np.allclose(scaled_U, U), np.allclose(scaled_VT, VT_vcov)"
   ]
  },
  {
   "cell_type": "markdown",
   "id": "4a6508ac",
   "metadata": {},
   "source": [
    "The difference is only in the *singular values* in the vector `S`:"
   ]
  },
  {
   "cell_type": "code",
   "execution_count": null,
   "id": "48f06ac3",
   "metadata": {},
   "outputs": [],
   "source": [
    "S_vcov"
   ]
  },
  {
   "cell_type": "code",
   "execution_count": null,
   "id": "07ec845b",
   "metadata": {},
   "outputs": [],
   "source": [
    "scaled_S"
   ]
  },
  {
   "cell_type": "markdown",
   "id": "12f78e2c",
   "metadata": {},
   "source": [
    "As you remember, the singular values from the unscaled covariance matrix were\n",
    "the sum of squares explained by each component. The singular values from the\n",
    "true covariance matrix are the *variances* explained by each component. The\n",
    "variances are just the sum of squares divided by the correction in the\n",
    "denominator, in our case, $N-1$:"
   ]
  },
  {
   "cell_type": "code",
   "execution_count": null,
   "id": "ac6028c8",
   "metadata": {},
   "outputs": [],
   "source": [
    "S_vcov / (N - 1)"
   ]
  },
  {
   "cell_type": "markdown",
   "id": "c20f60c2",
   "metadata": {},
   "source": [
    "So far we have described the PCA as breaking up the sum of squares into parts\n",
    "explained by the components. If we do the SVD on the true covariance matrix,\n",
    "then we can describe the PCA as breaking up the *variance* of the data (across\n",
    "samples) into parts explained by the components. The only difference between\n",
    "these two is the scaling of the `S` vector.\n",
    "\n",
    "<!-- A file containing links and substitutions -->\n",
    "<!-- vim: ft=rst -->\n",
    "<!-- Version control -->\n",
    "<!-- Editors -->\n",
    "<!-- Python and common libraries -->\n",
    "<!-- Virtualenv and helpers -->\n",
    "<!-- Pypi and packaging -->\n",
    "<!-- Mac development -->\n",
    "<!-- Windows development -->\n",
    "<!-- Nipy and friends -->\n",
    "<!-- Mathematics -->\n",
    "<!-- Licenses -->\n",
    "<!-- Neuroimaging stuff -->\n",
    "<!-- People -->\n",
    "<!-- Substitutions -->"
   ]
  }
 ],
 "metadata": {},
 "nbformat": 4,
 "nbformat_minor": 5
}