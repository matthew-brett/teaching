{
 "cells": [
  {
   "cell_type": "markdown",
   "id": "30748065",
   "metadata": {},
   "source": [
    "$\\newcommand{L}[1]{\\| #1 \\|}\\newcommand{VL}[1]{\\L{ \\vec{#1} }}\\newcommand{R}[1]{\\operatorname{Re}\\,(#1)}\\newcommand{I}[1]{\\operatorname{Im}\\, (#1)}$\n",
    "\n",
    "## Smoothing as convolution\n",
    "\n",
    "We load and configure the libraries we need:"
   ]
  },
  {
   "cell_type": "code",
   "execution_count": null,
   "id": "7a4cefb5",
   "metadata": {},
   "outputs": [],
   "source": [
    "# Import numerical and plotting libraries\n",
    "import numpy as np\n",
    "import numpy.linalg as npl\n",
    "import matplotlib.pyplot as plt"
   ]
  },
  {
   "cell_type": "code",
   "execution_count": null,
   "id": "a4da6852",
   "metadata": {},
   "outputs": [],
   "source": [
    "%matplotlib inline"
   ]
  },
  {
   "cell_type": "markdown",
   "id": "ff291d87",
   "metadata": {},
   "source": [
    "## Smoothing as weighted average\n",
    "\n",
    "In the introduction to smoothing tutorial, we had the following random\n",
    "data:"
   ]
  },
  {
   "cell_type": "code",
   "execution_count": null,
   "id": "13572cfe",
   "metadata": {},
   "outputs": [],
   "source": [
    "np.random.seed(5) # To get predictable random numbers\n",
    "n_points = 40\n",
    "x_vals = np.arange(n_points)\n",
    "y_vals = np.random.normal(size=n_points)\n",
    "plt.bar(x_vals, y_vals)"
   ]
  },
  {
   "cell_type": "markdown",
   "id": "8307740c",
   "metadata": {},
   "source": [
    "In the example, we generated a Gaussian kernel over the x axis at index\n",
    "13. The kernel had a full-width-at-half-maximum value of 4. This\n",
    "corresponds to a Gaussian sigma value of about 1.7:"
   ]
  },
  {
   "cell_type": "code",
   "execution_count": null,
   "id": "3d4b60a6",
   "metadata": {},
   "outputs": [],
   "source": [
    "def fwhm2sigma(fwhm):\n",
    "    return fwhm / np.sqrt(8 * np.log(2))"
   ]
  },
  {
   "cell_type": "code",
   "execution_count": null,
   "id": "faa7d29c",
   "metadata": {},
   "outputs": [],
   "source": [
    "sigma = fwhm2sigma(4)\n",
    "sigma"
   ]
  },
  {
   "cell_type": "code",
   "execution_count": null,
   "id": "1420ab7f",
   "metadata": {},
   "outputs": [],
   "source": [
    "x_position = 13\n",
    "# Make Gaussian centered at 13 with given sigma\n",
    "kernel_at_pos = np.exp(-(x_vals - x_position) ** 2 / (2 * sigma ** 2))\n",
    "# Make kernel sum to 1\n",
    "kernel_at_pos = kernel_at_pos / sum(kernel_at_pos)\n",
    "plt.bar(x_vals, kernel_at_pos)"
   ]
  },
  {
   "cell_type": "markdown",
   "id": "321e7c2a",
   "metadata": {},
   "source": [
    "The new smoothed value for x=13 is the sum of the data y values\n",
    "($y_i : i \\in 0, 1, .. 39$) multiplied by their respective kernel\n",
    "y values ($k_i : i \\in 0, 1, .. 39$):\n",
    "\n",
    "$$\n",
    "y_{13} = \\sum _{i=0} ^{i=39} y_i k_i\n",
    "$$"
   ]
  },
  {
   "cell_type": "code",
   "execution_count": null,
   "id": "eb16e2c1",
   "metadata": {},
   "outputs": [],
   "source": [
    "print(np.sum(y_vals * kernel_at_pos))"
   ]
  },
  {
   "cell_type": "markdown",
   "id": "3895babd",
   "metadata": {},
   "source": [
    "Of course this is also the [dot\n",
    "product](https://en.wikipedia.org/wiki/Dot_product) of the two\n",
    "vectors:"
   ]
  },
  {
   "cell_type": "code",
   "execution_count": null,
   "id": "6e0a3ae6",
   "metadata": {},
   "outputs": [],
   "source": [
    "print(y_vals.dot(kernel_at_pos))"
   ]
  },
  {
   "cell_type": "markdown",
   "id": "7435d1e3",
   "metadata": {},
   "source": [
    "# Using a finite width for the kernel\n",
    "\n",
    "Looking at the plot of the kernel, it looks like we have many zero\n",
    "values, far from the central x=13 point. Maybe we could be more\n",
    "efficient, by only doing the y value multiplication for kernel values\n",
    "that are larger than some threshold, like 0.0001.\n",
    "\n",
    "Let’s have another look at the Gaussian"
   ]
  },
  {
   "cell_type": "code",
   "execution_count": null,
   "id": "22088063",
   "metadata": {},
   "outputs": [],
   "source": [
    "# Make a +/- x range large enough to let kernel drop to zero\n",
    "x_for_kernel = np.arange(-10, 10)\n",
    "# Calculate kernel\n",
    "kernel = np.exp(-(x_for_kernel) ** 2 / (2 * sigma ** 2))\n",
    "# Threshold\n",
    "kernel_above_thresh = kernel > 0.0001\n",
    "# Find x values where kernel is above threshold\n",
    "x_within_thresh = x_for_kernel[kernel_above_thresh]\n",
    "plt.plot(x_for_kernel, kernel)\n",
    "plt.plot(min(x_within_thresh), 0, marker=7, markersize=40)\n",
    "plt.plot(max(x_within_thresh), 0, marker=7, markersize=40)"
   ]
  },
  {
   "cell_type": "markdown",
   "id": "746def72",
   "metadata": {},
   "source": [
    "We can make a new kernel, with finite width, where the near-zero values\n",
    "have been trimmed:"
   ]
  },
  {
   "cell_type": "code",
   "execution_count": null,
   "id": "4b4eb072",
   "metadata": {},
   "outputs": [],
   "source": [
    "finite_kernel = kernel[kernel_above_thresh]\n",
    "# Make kernel sum to 1 again\n",
    "finite_kernel = finite_kernel / finite_kernel.sum()\n",
    "plt.plot(x_within_thresh, finite_kernel)"
   ]
  },
  {
   "cell_type": "markdown",
   "id": "7c7829d0",
   "metadata": {},
   "source": [
    "This kernel has a finite width:"
   ]
  },
  {
   "cell_type": "code",
   "execution_count": null,
   "id": "c38dcb99",
   "metadata": {},
   "outputs": [],
   "source": [
    "len(finite_kernel)"
   ]
  },
  {
   "cell_type": "markdown",
   "id": "351be00a",
   "metadata": {},
   "source": [
    "To get our smoothed value for x=13, we can shift this trimmed kernel be\n",
    "centered over x=13, and only multiply by the y values that are within\n",
    "the kernel width:"
   ]
  },
  {
   "cell_type": "code",
   "execution_count": null,
   "id": "7b291c01",
   "metadata": {},
   "outputs": [],
   "source": [
    "# Number of kernel points before center (at 0)\n",
    "kernel_n_below_0 = int((len(finite_kernel) - 1) / 2.)\n",
    "kernel_n_below_0"
   ]
  },
  {
   "cell_type": "markdown",
   "id": "3951e829",
   "metadata": {},
   "source": [
    "Because we cut the kernel at a low threshold, the result from using the\n",
    "finite kernel is very similar to using the infinite kernel that we used\n",
    "above:"
   ]
  },
  {
   "cell_type": "code",
   "execution_count": null,
   "id": "6fd03448",
   "metadata": {},
   "outputs": [],
   "source": [
    "# Multiply and sum y values within the finite kernel\n",
    "kernel_starts_at = 13 - kernel_n_below_0\n",
    "y_within_kernel = y_vals[kernel_starts_at : kernel_starts_at + len(finite_kernel)]\n",
    "print(np.dot(finite_kernel, y_within_kernel))"
   ]
  },
  {
   "cell_type": "markdown",
   "id": "72aa83b4",
   "metadata": {},
   "source": [
    "# Smoothing as convolution\n",
    "\n",
    "If are you [familiar with convolution](https://matthew-brett.github.io/teaching/on_convolution.html) the smoothing\n",
    "procedure may be familiar.\n",
    "\n",
    "With convolution, we also have a kernel, and we also generate values by\n",
    "taking the sum of the products of values within the kernel.\n",
    "\n",
    "With convolution, we *reverse* the convolution *kernel* and the step\n",
    "through the y values, cross-multiplying the y signal with the reversed\n",
    "kernel.\n",
    "\n",
    "That could work here too. There is no need for us to reverse the kernel,\n",
    "because it is symmetrical.\n",
    "\n",
    "In fact, it might be possible to see that, we can get exactly our\n",
    "required result for x=13, by convolving the y values with the finite\n",
    "smoothing kernel."
   ]
  },
  {
   "cell_type": "code",
   "execution_count": null,
   "id": "09bd2665",
   "metadata": {},
   "outputs": [],
   "source": [
    "convolved_y = np.convolve(y_vals, finite_kernel)\n",
    "print(convolved_y[13+ kernel_n_below_0])"
   ]
  },
  {
   "cell_type": "markdown",
   "id": "366b3f20",
   "metadata": {},
   "source": [
    "Why have I printed out the value at `13 + kernel_n_below_0` ? Because\n",
    "this is the convolution value that corresponds to the weighted sum we\n",
    "did with our original multiplication. When the convolution algorithm\n",
    "gets to this index, it applies the reversed smoothing kernel to this\n",
    "index and the `len(finite_kernel) - 1` values before it. This is the\n",
    "exact same set of multiplications we did for the original\n",
    "multiplication. Thus, in order to get the same smoothed values as we did\n",
    "when we were multiplying by a centered kernel, we have to get the values\n",
    "from the convolved output from half the kernel width ahead of the index\n",
    "we are interested in."
   ]
  },
  {
   "cell_type": "code",
   "execution_count": null,
   "id": "1010f60e",
   "metadata": {},
   "outputs": [],
   "source": [
    "smoothed_by_convolving = convolved_y[kernel_n_below_0:(n_points+kernel_n_below_0)]\n",
    "plt.bar(x_vals, smoothed_by_convolving)"
   ]
  },
  {
   "cell_type": "markdown",
   "id": "d7868d25",
   "metadata": {},
   "source": [
    "Here we were able to get the effect of an offset in the kernel, by\n",
    "taking an offset (`kernel_n_below_0`) in the output data. We have made\n",
    "use of the [translation\n",
    "invariance](https://en.wikipedia.org/wiki/Convolution#Translation_invariance)\n",
    "property of convolution.\n",
    "\n",
    "# Convolution and edges\n",
    "\n",
    "If you were very observant, you may have noticed that the convolution\n",
    "results above differ slightly from the convolution using the simple\n",
    "crude method in the [An introduction to smoothing](https://matthew-brett.github.io/teaching/smoothing_intro.html).\n",
    "\n",
    "Here are those results for comparison:"
   ]
  },
  {
   "cell_type": "code",
   "execution_count": null,
   "id": "7e0bb87b",
   "metadata": {},
   "outputs": [],
   "source": [
    "smoothed_vals = np.zeros(y_vals.shape)\n",
    "for x_position in x_vals:\n",
    "     kernel = np.exp(-(x_vals - x_position) ** 2 / (2 * sigma ** 2))\n",
    "     kernel = kernel / sum(kernel)\n",
    "     smoothed_vals[x_position] = sum(y_vals * kernel)\n",
    "plt.bar(x_vals, smoothed_vals)"
   ]
  },
  {
   "cell_type": "markdown",
   "id": "bd78059a",
   "metadata": {},
   "source": [
    "Notice that this plot has higher values at the edges of the data.\n",
    "\n",
    "The reason is that the simple method above only evaluates the kernel for\n",
    "the x points present in the data. Therefore, at the left and right\n",
    "edges, this method is only applying half a Gaussian to the data. On the\n",
    "left it is applying the right half of the Gaussian, and on the right it\n",
    "is applying the left half of the Gaussian. Notice too that this simple\n",
    "method always makes the kernel sum to zero, so, when smoothing the\n",
    "points at the edges, with the half kernel, the remaining points get more\n",
    "weight.\n",
    "\n",
    "This is one technique for dealing with the edges called *truncating the\n",
    "kernel*.\n",
    "\n",
    "Convolution, by default, does not truncate the kernel, but assumes that\n",
    "data outside the x points we have are all zero. This is called *zero\n",
    "padding*. Using zero padding, the points towards the edge get pulled\n",
    "down towards zero because they are part-made of the result of taking the\n",
    "product of zero with the kernel values.\n",
    "\n",
    "When we do spatial smoothing, this can be a significant problem. For\n",
    "example, imagine smoothing close to the bottom (inferior) edge of a\n",
    "brain image, where the edge voxels are likely to have brain signal. If\n",
    "we use zero padding then the values near the edge will get pulled\n",
    "towards zero causing a strong signal change from smoothing.\n",
    "\n",
    "In this case we might prefer some other method of dealing with the data\n",
    "off the edge of the image, for example by assuming the signal is a\n",
    "flipped version of the signal going towards the edge. See the\n",
    "description of the `mode` argument in the docstring for\n",
    "`scipy.ndimage.gaussian_filter` for some other options."
   ]
  }
 ],
 "metadata": {},
 "nbformat": 4,
 "nbformat_minor": 5
}