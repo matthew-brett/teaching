{
 "cells": [
  {
   "cell_type": "markdown",
   "id": "f1df119a",
   "metadata": {},
   "source": [
    "$\\newcommand{L}[1]{\\| #1 \\|}\\newcommand{VL}[1]{\\L{ \\vec{#1} }}\\newcommand{R}[1]{\\operatorname{Re}\\,(#1)}\\newcommand{I}[1]{\\operatorname{Im}\\, (#1)}$\n",
    "\n",
    "## Correlated regressors\n",
    "\n",
    "Written with J-B Poline.\n",
    "\n",
    "Load and configure libraries:"
   ]
  },
  {
   "cell_type": "code",
   "execution_count": null,
   "id": "7acdf84e",
   "metadata": {},
   "outputs": [],
   "source": [
    "import numpy as np\n",
    "import numpy.linalg as npl\n",
    "import matplotlib.pyplot as plt\n",
    "# Make numpy print 4 significant digits for prettiness\n",
    "np.set_printoptions(precision=4, suppress=True)\n",
    "# Seed random number generator\n",
    "np.random.seed(42)"
   ]
  },
  {
   "cell_type": "code",
   "execution_count": null,
   "id": "8f0acb67",
   "metadata": {},
   "outputs": [],
   "source": [
    "%matplotlib inline"
   ]
  },
  {
   "cell_type": "markdown",
   "id": "d941e4c7",
   "metadata": {},
   "source": [
    "Imagine we have a TR (image) every 2 seconds, for 30 seconds. Here are\n",
    "the times of the TR onsets, in seconds:"
   ]
  },
  {
   "cell_type": "code",
   "execution_count": null,
   "id": "9a2fb84d",
   "metadata": {},
   "outputs": [],
   "source": [
    "times = np.arange(0, 30, 2)\n",
    "times"
   ]
  },
  {
   "cell_type": "markdown",
   "id": "60a8d521",
   "metadata": {},
   "source": [
    "Now we make a function returning an HRF shape for an input vector of\n",
    "times:"
   ]
  },
  {
   "cell_type": "code",
   "execution_count": null,
   "id": "0c87a762",
   "metadata": {},
   "outputs": [],
   "source": [
    "# Gamma distribution from scipy\n",
    "from scipy.stats import gamma"
   ]
  },
  {
   "cell_type": "code",
   "execution_count": null,
   "id": "cbad075a",
   "metadata": {},
   "outputs": [],
   "source": [
    "def spm_hrf(times):\n",
    "    \"\"\" Return values for SPM-like HRF at given times \"\"\"\n",
    "    # Make output vector\n",
    "    values = np.zeros(len(times))\n",
    "    # Only evaluate gamma above 0 (undefined at <= 0)\n",
    "    valid_times = times[times > 0]\n",
    "    # Gamma pdf for the peak\n",
    "    peak_values = gamma.pdf(valid_times, 6)\n",
    "    # Gamma pdf for the undershoot\n",
    "    undershoot_values = gamma.pdf(valid_times, 12)\n",
    "    # Combine them, put back into values vector\n",
    "    values[times > 0] = peak_values - 0.35 * undershoot_values\n",
    "    # Scale area under curve to 1\n",
    "    return values / np.sum(values)"
   ]
  },
  {
   "cell_type": "markdown",
   "id": "001b62ed",
   "metadata": {},
   "source": [
    "Sample the HRF at the given times (to simulate an event starting at time\n",
    "0), and at times - 2 (simulating an event starting at time 2):"
   ]
  },
  {
   "cell_type": "code",
   "execution_count": null,
   "id": "722765dd",
   "metadata": {},
   "outputs": [],
   "source": [
    "hrf1 = spm_hrf(times)\n",
    "hrf2 = spm_hrf(times - 2) # An HRF with 2 seconds (one TR) delay\n",
    "hrf1 = (hrf1 - hrf1.mean()) # Rescale and mean center\n",
    "hrf2 = (hrf2 - hrf2.mean())\n",
    "plt.plot(times, hrf1)\n",
    "plt.plot(times, hrf2)"
   ]
  },
  {
   "cell_type": "markdown",
   "id": "b13b314c",
   "metadata": {},
   "source": [
    "The Pearson correlation coefficient between the HRFs for the two events:"
   ]
  },
  {
   "cell_type": "code",
   "execution_count": null,
   "id": "d0653ebe",
   "metadata": {},
   "outputs": [],
   "source": [
    "np.corrcoef(hrf1, hrf2)"
   ]
  },
  {
   "cell_type": "markdown",
   "id": "3b8ba00c",
   "metadata": {},
   "source": [
    "Make a signal that comes from the combination of the two HRFs:"
   ]
  },
  {
   "cell_type": "code",
   "execution_count": null,
   "id": "7bb844e0",
   "metadata": {},
   "outputs": [],
   "source": [
    "signal = hrf1 + hrf2\n",
    "plt.plot(hrf1, label='hrf1')\n",
    "plt.plot(hrf2, label='hrf2')\n",
    "plt.plot(signal, label='signal (combined hrfs)')\n",
    "plt.legend()"
   ]
  },
  {
   "cell_type": "markdown",
   "id": "d7193d9c",
   "metadata": {},
   "source": [
    "We’re going to make our simulated data from taking the signal (the two HRFs)\n",
    "and adding some random noise:"
   ]
  },
  {
   "cell_type": "code",
   "execution_count": null,
   "id": "fd0fe0ff",
   "metadata": {},
   "outputs": [],
   "source": [
    "noise = np.random.normal(size=times.shape)\n",
    "Y = signal + noise\n",
    "plt.plot(times, signal)\n",
    "plt.plot(times, Y, '+')"
   ]
  },
  {
   "cell_type": "markdown",
   "id": "ae3d546f",
   "metadata": {},
   "source": [
    "We are going to model this simulated signal in several different ways.  First,\n",
    "we make a model that only has the first HRF as a regressor (plus a column of\n",
    "ones to model the mean of the data):"
   ]
  },
  {
   "cell_type": "code",
   "execution_count": null,
   "id": "abc87082",
   "metadata": {},
   "outputs": [],
   "source": [
    "X_one = np.vstack((hrf1, np.ones_like(hrf1))).T\n",
    "plt.imshow(X_one, interpolation='nearest', cmap='gray')\n",
    "plt.title('Model with first HRF regressor only')"
   ]
  },
  {
   "cell_type": "markdown",
   "id": "cf89f5c9",
   "metadata": {},
   "source": [
    "Next we make a model where we also include the second HRF as a regressor:"
   ]
  },
  {
   "cell_type": "code",
   "execution_count": null,
   "id": "e26585e3",
   "metadata": {},
   "outputs": [],
   "source": [
    "X_both = np.vstack((hrf1, hrf2, np.ones_like(hrf1))).T\n",
    "plt.imshow(X_both, interpolation='nearest', cmap='gray')\n",
    "plt.title('Model with both HRF regressors')"
   ]
  },
  {
   "cell_type": "markdown",
   "id": "6d14616a",
   "metadata": {},
   "source": [
    "Now we make a very large number of data vectors, each with the signal\n",
    "(both HRFs) plus a different vector of noise."
   ]
  },
  {
   "cell_type": "code",
   "execution_count": null,
   "id": "9e33dbb0",
   "metadata": {},
   "outputs": [],
   "source": [
    "T = len(times)\n",
    "iters = 10000\n",
    "# Make 10000 Y vectors (new noise for each colum)\n",
    "noise_vectors = np.random.normal(size=(T, iters))\n",
    "# add signal to make data vectors\n",
    "Ys = noise_vectors + signal[:, np.newaxis]\n",
    "Ys.shape"
   ]
  },
  {
   "cell_type": "markdown",
   "id": "2312d22a",
   "metadata": {},
   "source": [
    "We first fit the model with only the first HRF regressor to every (signal +\n",
    "noise) sample vector."
   ]
  },
  {
   "cell_type": "code",
   "execution_count": null,
   "id": "b85e7e3d",
   "metadata": {},
   "outputs": [],
   "source": [
    "# Fit X_one to signals + noise\n",
    "B_ones = npl.pinv(X_one).dot(Ys)"
   ]
  },
  {
   "cell_type": "markdown",
   "id": "f16d45e3",
   "metadata": {},
   "source": [
    "Next fit the model with both HRFs as regressors:"
   ]
  },
  {
   "cell_type": "code",
   "execution_count": null,
   "id": "658f07dc",
   "metadata": {},
   "outputs": [],
   "source": [
    "# Fit X_both to signals + noise\n",
    "B_boths = npl.pinv(X_both).dot(Ys)"
   ]
  },
  {
   "cell_type": "markdown",
   "id": "b6b7266d",
   "metadata": {},
   "source": [
    "Remember that the students-t statistic is:\n",
    "\n",
    "$$\n",
    "t = \\frac{c^T \\hat\\beta}{\\sqrt{\\mathrm{var}(c^T \\hat\\beta)}}\n",
    "$$\n",
    "\n",
    "which works out to:\n",
    "\n",
    "$$\n",
    "t = \\frac{c^T \\hat\\beta}{\\sqrt{\\hat{\\sigma}^2 c^T (X^T X)^+ c}}\n",
    "$$\n",
    "\n",
    "where $\\hat{\\sigma}^2$ is our estimate of variance in the residuals, and\n",
    "$(X^T X)^+$ is the [pseudo-inverse](https://en.wikipedia.org/wiki/Moore%E2%80%93Penrose_pseudoinverse) of\n",
    "$X^T X$.\n",
    "\n",
    "That’s the theory. So, what is the distribution of the estimates we get for\n",
    "the first beta, in the single-HRF model?"
   ]
  },
  {
   "cell_type": "code",
   "execution_count": null,
   "id": "2cafe506",
   "metadata": {},
   "outputs": [],
   "source": [
    "plt.hist(B_ones[0], bins=50)\n",
    "print(np.std(B_ones[0]))"
   ]
  },
  {
   "cell_type": "markdown",
   "id": "05c4594b",
   "metadata": {},
   "source": [
    "The standard deviation of the estimates is what we observe. Does this\n",
    "match what we would predict from the t-statistic formula above?"
   ]
  },
  {
   "cell_type": "code",
   "execution_count": null,
   "id": "9b8eca48",
   "metadata": {},
   "outputs": [],
   "source": [
    "C_one = np.array([1, 0])[:, None]  # column vector\n",
    "np.sqrt(C_one.T.dot(npl.pinv(X_one.T.dot(X_one)).dot(C_one)))"
   ]
  },
  {
   "cell_type": "markdown",
   "id": "6700262e",
   "metadata": {},
   "source": [
    "Notice that the mean of the estimates, is somewhere above one, even\n",
    "though we only added 1 times the first HRF as the signal:"
   ]
  },
  {
   "cell_type": "code",
   "execution_count": null,
   "id": "34047d52",
   "metadata": {},
   "outputs": [],
   "source": [
    "print(np.mean(B_ones[0]))"
   ]
  },
  {
   "cell_type": "markdown",
   "id": "4bf822da",
   "metadata": {},
   "source": [
    "This is because the single first regresssor has to fit *both* the first HRF in\n",
    "the signal, and as much as possible of the second HRF in the signal, because\n",
    "there is nothing else in the model to fit the second HRF shape.\n",
    "\n",
    "What estimates do we get for the first regressor, when we have both regressors\n",
    "in the model?"
   ]
  },
  {
   "cell_type": "code",
   "execution_count": null,
   "id": "1609ce78",
   "metadata": {},
   "outputs": [],
   "source": [
    "plt.hist(B_boths[0], bins=50)\n",
    "print(np.mean(B_boths[0]), np.std(B_boths[0]))"
   ]
  },
  {
   "cell_type": "markdown",
   "id": "642d1d2c",
   "metadata": {},
   "source": [
    "Two things have happened now we added the second (correlated) hrf2 regressor.\n",
    "First, the mean of the parameter for the hrf1 regressor has dropped to 1,\n",
    "because hrf1 is no longer having to model the signal from the second HRF.\n",
    "Second, the variability of the estimate has increased.  This is what the\n",
    "bottom half of the t-statistic predicts:"
   ]
  },
  {
   "cell_type": "code",
   "execution_count": null,
   "id": "35ad6187",
   "metadata": {},
   "outputs": [],
   "source": [
    "C_both = np.array([1, 0, 0])[:, None]  # column vector\n",
    "np.sqrt(C_both.T.dot(npl.pinv(X_both.T.dot(X_both)).dot(C_both)))"
   ]
  },
  {
   "cell_type": "markdown",
   "id": "1f444796",
   "metadata": {},
   "source": [
    "The estimate of the parameter for hrf2 has a mean of around 1, like the\n",
    "parameter estimates for hrf1. This is what we expect because we have 1 x hrf1\n",
    "and 1 x hrf2 in the signal. Not surprisingly, the hrf2 parameter estimate has\n",
    "a similar variability to that for the hrf1 parameter estimate:"
   ]
  },
  {
   "cell_type": "code",
   "execution_count": null,
   "id": "f724a3cb",
   "metadata": {},
   "outputs": [],
   "source": [
    "plt.hist(B_boths[1], bins=50)\n",
    "print(np.mean(B_boths[1]), np.std(B_boths[1]))"
   ]
  },
  {
   "cell_type": "code",
   "execution_count": null,
   "id": "d80588e4",
   "metadata": {},
   "outputs": [],
   "source": [
    "C_both_1 = np.array([0, 1, 0])[:, None]  # column vector\n",
    "np.sqrt(C_both_1.T.dot(npl.pinv(X_both.T.dot(X_both)).dot(C_both_1)))"
   ]
  },
  {
   "cell_type": "markdown",
   "id": "bfe37dbb",
   "metadata": {},
   "source": [
    "The parameter estimates for hrf1 and hrf2 are anti-correlated:"
   ]
  },
  {
   "cell_type": "code",
   "execution_count": null,
   "id": "80ea3201",
   "metadata": {},
   "outputs": [],
   "source": [
    "# Relationship of estimated parameter of hrf1 and hrf2\n",
    "plt.plot(B_boths[0], B_boths[1], '.')\n",
    "np.corrcoef(B_boths[0], B_boths[1])"
   ]
  },
  {
   "cell_type": "markdown",
   "id": "7ae14d3e",
   "metadata": {},
   "source": [
    "## Orthogonalizing hrf2 with respect to hrf1\n",
    "\n",
    "hrf2 is correlated with hrf1. That means that we can split up hrf2 into two\n",
    "vectors, one being a multiple of hrf1, and the other being the remaining\n",
    "unique contribution of hrf2. The sum of the two vectors is the original hrf2\n",
    "regressor. Like this:"
   ]
  },
  {
   "cell_type": "code",
   "execution_count": null,
   "id": "08b19c73",
   "metadata": {},
   "outputs": [],
   "source": [
    "# Regress hrf2 against hrf1 to get best fit of hrf2 using just hrf1\n",
    "y = hrf2\n",
    "X = hrf1[:, np.newaxis]  # hrf1 as column vector\n",
    "B_hrf1_in_hrf2 = npl.pinv(X).dot(y)  # scalar multiple of hrf1 to best fit hrf2\n",
    "hrf1_in_hrf2 = X.dot(B_hrf1_in_hrf2)  # portion of hrf2 that can be explained by hrf1\n",
    "unique_hrf2 = hrf2 - hrf1_in_hrf2  # portion of hrf2 that cannot be explained by hrf1\n",
    "plt.plot(times, hrf1, label='hrf1')\n",
    "plt.plot(times, hrf2, label='hrf2')\n",
    "plt.plot(times, hrf1_in_hrf2, label='hrf1 in hrf2')\n",
    "plt.plot(times, unique_hrf2, label='hrf2 orth wrt hrf1')\n",
    "plt.legend()\n",
    "# hrf1 part of hrf2, plus unique part, equals original hrf2\n",
    "np.allclose(hrf2, hrf1_in_hrf2 + unique_hrf2)"
   ]
  },
  {
   "cell_type": "markdown",
   "id": "f6862f62",
   "metadata": {},
   "source": [
    "How much of the first regressor did we find in the second regressor?"
   ]
  },
  {
   "cell_type": "code",
   "execution_count": null,
   "id": "4457d324",
   "metadata": {},
   "outputs": [],
   "source": [
    "B_hrf1_in_hrf2"
   ]
  },
  {
   "cell_type": "markdown",
   "id": "391bcf7d",
   "metadata": {},
   "source": [
    "When we have the model with both hrf1 and hrf2, we are effectively multiplying\n",
    "both parts of hrf2 by the same beta parameter, to fit the data. That is, we\n",
    "are applying the same scaling to the part of hrf2 that is the same shape as\n",
    "hrf1 and the part of hrf2 that cannot be formed from the hrf1 shape.\n",
    "\n",
    "Now, what happens if we replace hrf2, by just the part of hrf2, that cannot be\n",
    "explained by hrf1? Our second regressor is now hrf2 *orthogonalized with\n",
    "respect to* hrf1:"
   ]
  },
  {
   "cell_type": "code",
   "execution_count": null,
   "id": "89c08604",
   "metadata": {},
   "outputs": [],
   "source": [
    "X_both_o = np.vstack((hrf1, unique_hrf2, np.ones_like(hrf1))).T\n",
    "plt.imshow(X_both_o, interpolation='nearest', cmap='gray')"
   ]
  },
  {
   "cell_type": "code",
   "execution_count": null,
   "id": "f0973c36",
   "metadata": {},
   "outputs": [],
   "source": [
    "plt.plot(times, X_both_o[:,0], times, X_both_o[:,1])"
   ]
  },
  {
   "cell_type": "markdown",
   "id": "73aa4bd5",
   "metadata": {},
   "source": [
    "What will happen when we fit this model?"
   ]
  },
  {
   "cell_type": "code",
   "execution_count": null,
   "id": "4da17dc5",
   "metadata": {},
   "outputs": [],
   "source": [
    "B_boths_o = npl.pinv(X_both_o).dot(Ys)\n",
    "# Distribution of parameter for hrf1 in orth model\n",
    "plt.hist(B_boths_o[0], bins=50)\n",
    "print(np.mean(B_boths_o[0]), np.std(B_boths_o[0]))"
   ]
  },
  {
   "cell_type": "code",
   "execution_count": null,
   "id": "da870780",
   "metadata": {},
   "outputs": [],
   "source": [
    "# Predicted variance of hrf1 parameter is the same as for the\n",
    "# model with hrf1 on its own\n",
    "np.sqrt(C_both.T.dot(npl.pinv(X_both_o.T.dot(X_both_o)).dot(C_both)))"
   ]
  },
  {
   "cell_type": "markdown",
   "id": "88961711",
   "metadata": {},
   "source": [
    "The parameter for the hrf1 regressor has now returned to the same value and\n",
    "variance as it had when hrf1 was the only regressor in the model (apart from\n",
    "the mean). For the orthogonalized model, we removed the part of hrf2 that\n",
    "could be explained by hrf1. Now, the amount of hrf1, that we could find in\n",
    "hrf2, has been added back to the parameter for hrf1, in order to make the\n",
    "fitted $\\hat{y}$ values the same as for the model with both HRFs."
   ]
  },
  {
   "cell_type": "code",
   "execution_count": null,
   "id": "26de4815",
   "metadata": {},
   "outputs": [],
   "source": [
    "np.mean(B_boths[0, :]) + B_hrf1_in_hrf2"
   ]
  },
  {
   "cell_type": "markdown",
   "id": "79f15db6",
   "metadata": {},
   "source": [
    "The hrf1 parameter in the orthogonalized model is the same as for the model\n",
    "that only includes hrf1 - as if the orthogonalized hrf2 was not present. The\n",
    "parameter for orthogonalized hrf2 is the same as the parameter for hrf2 in the\n",
    "not-orthogonalized model. We still need the same amount of the *orthogonal\n",
    "part* of the second regressor to explain the signal:"
   ]
  },
  {
   "cell_type": "code",
   "execution_count": null,
   "id": "de2212fd",
   "metadata": {},
   "outputs": [],
   "source": [
    "# Example parameters from the single model\n",
    "B_ones[:,:5]"
   ]
  },
  {
   "cell_type": "code",
   "execution_count": null,
   "id": "c0416e19",
   "metadata": {},
   "outputs": [],
   "source": [
    "# Example parameters from the non-orth model\n",
    "B_boths[:,:5]"
   ]
  },
  {
   "cell_type": "code",
   "execution_count": null,
   "id": "d24a75cb",
   "metadata": {},
   "outputs": [],
   "source": [
    "# Example parameters from the orth model\n",
    "B_boths_o[:,:5]"
   ]
  },
  {
   "cell_type": "code",
   "execution_count": null,
   "id": "ca8c1599",
   "metadata": {},
   "outputs": [],
   "source": [
    "# The parameter for the hrf1 regressor in the orth model\n",
    "# is the same as the parameter for the hrf1 regressor in the\n",
    "# single regressor model\n",
    "plt.plot(B_ones[0], B_boths_o[0], '.')\n",
    "np.allclose(B_ones[0], B_boths_o[0])"
   ]
  },
  {
   "cell_type": "code",
   "execution_count": null,
   "id": "9d956f74",
   "metadata": {},
   "outputs": [],
   "source": [
    "# The parameter for the orthogonalized hrf2 regressor is the same as the\n",
    "# parameter for the non-orthogonalize hrf2 regressor in the\n",
    "# non-orthogonalized model\n",
    "plt.plot(B_boths[1], B_boths_o[1], '.')\n",
    "np.allclose(B_boths[1], B_boths_o[1])"
   ]
  },
  {
   "cell_type": "code",
   "execution_count": null,
   "id": "db0544d7",
   "metadata": {},
   "outputs": [],
   "source": [
    "# The parameter for the hrf1 regressor in the non-orth model\n",
    "# is correlated with the parameter for the hrf1 regressor\n",
    "# in the orth model.\n",
    "plt.plot(B_boths[0], B_boths_o[0], '.')\n",
    "np.corrcoef(B_boths[0], B_boths_o[0])"
   ]
  },
  {
   "cell_type": "code",
   "execution_count": null,
   "id": "d85ac7a4",
   "metadata": {},
   "outputs": [],
   "source": [
    "# Relationship of estimated parameters for hrf1 and orthogonalized hrf2\n",
    "# (they should be independent)\n",
    "plt.plot(B_boths_o[0], B_boths_o[1], '+')\n",
    "np.corrcoef(B_boths_o[0], B_boths_o[1])"
   ]
  }
 ],
 "metadata": {},
 "nbformat": 4,
 "nbformat_minor": 5
}