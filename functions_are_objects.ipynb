{
 "cells": [
  {
   "cell_type": "markdown",
   "id": "cad78813",
   "metadata": {},
   "source": [
    "$\\newcommand{L}[1]{\\| #1 \\|}\\newcommand{VL}[1]{\\L{ \\vec{#1} }}\\newcommand{R}[1]{\\operatorname{Re}\\,(#1)}\\newcommand{I}[1]{\\operatorname{Im}\\, (#1)}$\n",
    "\n",
    "## Functions are objects\n",
    "\n",
    "In Python, functions are objects, like any other object.\n",
    "\n",
    "If I make a string in Python:"
   ]
  },
  {
   "cell_type": "code",
   "execution_count": null,
   "id": "4909d046",
   "metadata": {},
   "outputs": [],
   "source": [
    "name = 'Matthew'"
   ]
  },
  {
   "cell_type": "markdown",
   "id": "3b4d2102",
   "metadata": {},
   "source": [
    "then I have a Python object of type `str`:"
   ]
  },
  {
   "cell_type": "code",
   "execution_count": null,
   "id": "a831a9a1",
   "metadata": {},
   "outputs": [],
   "source": [
    "type(name)"
   ]
  },
  {
   "cell_type": "markdown",
   "id": "b5e0e0a3",
   "metadata": {},
   "source": [
    "Let’s say I defined a function `add`:"
   ]
  },
  {
   "cell_type": "code",
   "execution_count": null,
   "id": "19a38833",
   "metadata": {},
   "outputs": [],
   "source": [
    "def add(a, b):\n",
    "    return a + b"
   ]
  },
  {
   "cell_type": "markdown",
   "id": "a270ddf9",
   "metadata": {},
   "source": [
    "Now I have another Python object, of type `function`:"
   ]
  },
  {
   "cell_type": "code",
   "execution_count": null,
   "id": "d38afc12",
   "metadata": {},
   "outputs": [],
   "source": [
    "type(add)"
   ]
  },
  {
   "cell_type": "markdown",
   "id": "ed179ef5",
   "metadata": {},
   "source": [
    "With my string, I can refer to the same string object, with a different\n",
    "variable name:"
   ]
  },
  {
   "cell_type": "code",
   "execution_count": null,
   "id": "41a6869c",
   "metadata": {},
   "outputs": [],
   "source": [
    "prisoner = name\n",
    "prisoner"
   ]
  },
  {
   "cell_type": "markdown",
   "id": "be07e76b",
   "metadata": {},
   "source": [
    "It’s the same for functions, because functions are objects too:"
   ]
  },
  {
   "cell_type": "code",
   "execution_count": null,
   "id": "f61a0a18",
   "metadata": {},
   "outputs": [],
   "source": [
    "my_add = add\n",
    "type(my_add)"
   ]
  },
  {
   "cell_type": "markdown",
   "id": "dcf7f50b",
   "metadata": {},
   "source": [
    "Functions are objects you can “call” by appending parentheses enclosing\n",
    "arguments you want to pass:"
   ]
  },
  {
   "cell_type": "code",
   "execution_count": null,
   "id": "7987b14e",
   "metadata": {},
   "outputs": [],
   "source": [
    "add(1, 2)"
   ]
  },
  {
   "cell_type": "code",
   "execution_count": null,
   "id": "968532ce",
   "metadata": {},
   "outputs": [],
   "source": [
    "my_add(1, 2)"
   ]
  },
  {
   "cell_type": "markdown",
   "id": "ae18a9f8",
   "metadata": {},
   "source": [
    "As for any other object in Python, you can pass function objects to other\n",
    "functions:"
   ]
  },
  {
   "cell_type": "code",
   "execution_count": null,
   "id": "dbc14708",
   "metadata": {},
   "outputs": [],
   "source": [
    "def run_a_func(func, arg1, arg2):\n",
    "    result = func(arg1, arg2)\n",
    "    print('Result was', result)"
   ]
  },
  {
   "cell_type": "code",
   "execution_count": null,
   "id": "014df8ae",
   "metadata": {},
   "outputs": [],
   "source": [
    "run_a_func(add, 1, 2)"
   ]
  },
  {
   "cell_type": "code",
   "execution_count": null,
   "id": "b27c05e2",
   "metadata": {},
   "outputs": [],
   "source": [
    "run_a_func(my_add, 1, 2)"
   ]
  },
  {
   "cell_type": "code",
   "execution_count": null,
   "id": "3b9f8cd8",
   "metadata": {},
   "outputs": [],
   "source": [
    "def sub(a, b):\n",
    "    return a - b"
   ]
  },
  {
   "cell_type": "code",
   "execution_count": null,
   "id": "9f83abf3",
   "metadata": {},
   "outputs": [],
   "source": [
    "run_a_func(sub, 1, 2)"
   ]
  }
 ],
 "metadata": {},
 "nbformat": 4,
 "nbformat_minor": 5
}