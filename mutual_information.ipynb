{
 "cells": [
  {
   "cell_type": "markdown",
   "id": "b20a1357",
   "metadata": {},
   "source": [
    "$\\newcommand{L}[1]{\\| #1 \\|}\\newcommand{VL}[1]{\\L{ \\vec{#1} }}\\newcommand{R}[1]{\\operatorname{Re}\\,(#1)}\\newcommand{I}[1]{\\operatorname{Im}\\, (#1)}$\n",
    "\n",
    "## Mutual information as an image matching metric\n",
    "\n",
    "In which we look at the mutual information measure for comparing images."
   ]
  },
  {
   "cell_type": "code",
   "execution_count": null,
   "id": "5d024eef",
   "metadata": {},
   "outputs": [],
   "source": [
    "# - import common modules\n",
    "import numpy as np  # the Python array package\n",
    "import matplotlib.pyplot as plt  # the Python plotting package"
   ]
  },
  {
   "cell_type": "code",
   "execution_count": null,
   "id": "3f86eb4a",
   "metadata": {},
   "outputs": [],
   "source": [
    "# - set gray colormap and nearest neighbor interpolation by default\n",
    "plt.rcParams['image.cmap'] = 'gray'\n",
    "plt.rcParams['image.interpolation'] = 'nearest'"
   ]
  },
  {
   "cell_type": "code",
   "execution_count": null,
   "id": "d5054e1c",
   "metadata": {},
   "outputs": [],
   "source": [
    "%matplotlib inline"
   ]
  },
  {
   "cell_type": "markdown",
   "id": "bc8d5d4f",
   "metadata": {},
   "source": [
    "When the images to match are the same modality and are well aligned, the\n",
    "signal should be similar in corresponding voxels. In that case, a metric like\n",
    "correlation is useful as a measure of how well the images are matched.\n",
    "\n",
    "If images are of different modalities, they may well have different signal\n",
    "intensities for the same tissue.\n",
    "\n",
    "For example, T1-weighted MRI images have low signal in the cerebro-spinal\n",
    "fluid (CSF), but T2-weighted images have high signal in the CSF.\n",
    "\n",
    "When the T1 and T2 images are well aligned, the voxels containing CSF will\n",
    "correspond spatially, but they will have very different signal. In that case a\n",
    "simple measure like correlation will not capture how well the two images are\n",
    "matched.\n",
    "\n",
    "Mutual information is a measure of image matching, that does not require the\n",
    "signal to be the same in the two images. It is a measure of how well you can\n",
    "predict the signal in the second image, given the signal intensity in the\n",
    "first.\n",
    "\n",
    "First let us look at a T1 and T2 image. In fact these images are from the\n",
    "Montreal Neurological Institute (MNI) standard brain atlas :\n",
    "[http://www.bic.mni.mcgill.ca/ServicesAtlases/ICBM152NLin2009](http://www.bic.mni.mcgill.ca/ServicesAtlases/ICBM152NLin2009). See the\n",
    "[LICENSE](https://matthew-brett.github.io/teaching/_downloads/9879d6db96fd29134fc802214163b95a/LICENSE) file for copyright and usage of these images."
   ]
  },
  {
   "cell_type": "code",
   "execution_count": null,
   "id": "bdc4196b",
   "metadata": {},
   "outputs": [],
   "source": [
    "import nibabel as nib\n",
    "t1_img = nib.load('mni_icbm152_t1_tal_nlin_asym_09a.nii')\n",
    "t1_data = t1_img.get_fdata()\n",
    "t2_img = nib.load('mni_icbm152_t2_tal_nlin_asym_09a.nii')\n",
    "t2_data = t2_img.get_fdata()"
   ]
  },
  {
   "cell_type": "code",
   "execution_count": null,
   "id": "43424c73",
   "metadata": {},
   "outputs": [],
   "source": [
    "# Show the images by stacking them left-right with hstack\n",
    "t1_slice = t1_data[:, :, 94]\n",
    "t2_slice = t2_data[:, :, 94]\n",
    "plt.imshow(np.hstack((t1_slice, t2_slice)))"
   ]
  },
  {
   "cell_type": "markdown",
   "id": "6f16bde6",
   "metadata": {},
   "source": [
    "The one-dimensional histograms of the example slices:"
   ]
  },
  {
   "cell_type": "code",
   "execution_count": null,
   "id": "13236109",
   "metadata": {},
   "outputs": [],
   "source": [
    "fig, axes = plt.subplots(1, 2)\n",
    "axes[0].hist(t1_slice.ravel(), bins=20)\n",
    "axes[0].set_title('T1 slice histogram')\n",
    "axes[1].hist(t2_slice.ravel(), bins=20)\n",
    "axes[1].set_title('T2 slice histogram')"
   ]
  },
  {
   "cell_type": "markdown",
   "id": "4fca382e",
   "metadata": {},
   "source": [
    "Plotting the signal in the T1 slice against the signal in the T2 slice:"
   ]
  },
  {
   "cell_type": "code",
   "execution_count": null,
   "id": "cdbd4dc1",
   "metadata": {},
   "outputs": [],
   "source": [
    "plt.plot(t1_slice.ravel(), t2_slice.ravel(), '.')\n",
    "plt.xlabel('T1 signal')\n",
    "plt.ylabel('T2 signal')\n",
    "plt.title('T1 vs T2 signal')\n",
    "np.corrcoef(t1_slice.ravel(), t2_slice.ravel())[0, 1]"
   ]
  },
  {
   "cell_type": "markdown",
   "id": "cf44d46c",
   "metadata": {},
   "source": [
    "Notice that we can predict the T2 signal given the T1 signal, but it is not a\n",
    "linear relationship. For example, for T1 signal between 20 and 30, most\n",
    "corresponding T2 signal is low, but there is some T2 signal that is high. This\n",
    "pairing of high T2 signal with low T1 signal is from the CSF, which is dark\n",
    "(low signal) in the T1, and bright in the T2."
   ]
  },
  {
   "cell_type": "code",
   "execution_count": null,
   "id": "8d37699c",
   "metadata": {},
   "outputs": [],
   "source": [
    "# Array that is True if T1 signal >= 20, <= 30, False otherwise\n",
    "t1_20_30 = (t1_slice >= 20) & (t1_slice <= 30)\n",
    "# Show T1 slice, mask for T1 between 20 and 30, T2 slice\n",
    "fig, axes = plt.subplots(1, 3, figsize=(8, 3))\n",
    "axes[0].imshow(t1_slice)\n",
    "axes[0].set_title('T1 slice')\n",
    "axes[1].imshow(t1_20_30)\n",
    "axes[1].set_title('20<=T1<=30')\n",
    "axes[2].imshow(t2_slice)\n",
    "axes[2].set_title('T2 slice')"
   ]
  },
  {
   "cell_type": "markdown",
   "id": "98246697",
   "metadata": {},
   "source": [
    "We can capture this more complicated relationship by doing a 2D histogram.\n",
    "This is a histogram that divides the scatterplot into squares, and counts the\n",
    "number of observations inside each square.\n",
    "\n",
    "Look again at the [scatterplot for the T1 and T2 values](https://matthew-brett.github.io/teaching/mutual_information.html#t1-t2-scatter).\n",
    "We get the 1D histogram for T1 values by splitting the x axis into bins, and\n",
    "taking the number of observations contained in each column defined by the\n",
    "bins.  The T2 histogram comes from splitting the y axis into bins and taking\n",
    "the number of observations contained in each row defined by the bins.  The 2D\n",
    "histogram comes from dividing both the x and the y axis into bins and taking\n",
    "the number of observations in each square defined by the intersection of the\n",
    "rows and columns:\n",
    "\n",
    "Numpy has a function for doing the 2D histogram calculation:"
   ]
  },
  {
   "cell_type": "code",
   "execution_count": null,
   "id": "e517146f",
   "metadata": {},
   "outputs": [],
   "source": [
    "hist_2d, x_edges, y_edges = np.histogram2d(\n",
    "    t1_slice.ravel(),\n",
    "    t2_slice.ravel(),\n",
    "    bins=20)\n",
    "# Plot as image, arranging axes as for scatterplot\n",
    "# We transpose to put the T1 bins on the horizontal axis\n",
    "# and use 'lower' to put 0, 0 at the bottom of the plot\n",
    "plt.imshow(hist_2d.T, origin='lower')\n",
    "plt.xlabel('T1 signal bin')\n",
    "plt.ylabel('T2 signal bin')"
   ]
  },
  {
   "cell_type": "markdown",
   "id": "b02405c4",
   "metadata": {},
   "source": [
    "The histogram is easier to see if we show the log values to reduce the effect\n",
    "of the bins with a very large number of values:"
   ]
  },
  {
   "cell_type": "code",
   "execution_count": null,
   "id": "a719490f",
   "metadata": {},
   "outputs": [],
   "source": [
    "# Show log histogram, avoiding divide by 0\n",
    "hist_2d_log = np.zeros(hist_2d.shape)\n",
    "non_zeros = hist_2d != 0\n",
    "hist_2d_log[non_zeros] = np.log(hist_2d[non_zeros])\n",
    "plt.imshow(hist_2d_log.T, origin='lower')\n",
    "plt.xlabel('T1 signal bin')\n",
    "plt.ylabel('T2 signal bin')"
   ]
  },
  {
   "cell_type": "markdown",
   "id": "f8d2d1b5",
   "metadata": {},
   "source": [
    "Mutual information is a metric from the joint (2D) histogram. The metric is\n",
    "high when the signal is highly concentrated in few bins (squares), and low\n",
    "when the signal is spread across many bins (squares).\n",
    "\n",
    "Mutual information is defined as:\n",
    "\n",
    "$$\n",
    "I(X;Y) = \\sum_{y \\in Y} \\sum_{x \\in X}\n",
    "                 p(x,y) \\log{ \\left(\\frac{p(x,y)}{p(x)\\,p(y)}\n",
    "                              \\right) }\n",
    "$$\n",
    "\n",
    "See [http://en.wikipedia.org/wiki/Mutual_information](http://en.wikipedia.org/wiki/Mutual_information)"
   ]
  },
  {
   "cell_type": "code",
   "execution_count": null,
   "id": "4b05b935",
   "metadata": {},
   "outputs": [],
   "source": [
    "def mutual_information(hgram):\n",
    "    \"\"\" Mutual information for joint histogram\n",
    "    \"\"\"\n",
    "    # Convert bins counts to probability values\n",
    "    pxy = hgram / float(np.sum(hgram))\n",
    "    px = np.sum(pxy, axis=1) # marginal for x over y\n",
    "    py = np.sum(pxy, axis=0) # marginal for y over x\n",
    "    px_py = px[:, None] * py[None, :] # Broadcast to multiply marginals\n",
    "    # Now we can do the calculation using the pxy, px_py 2D arrays\n",
    "    nzs = pxy > 0 # Only non-zero pxy values contribute to the sum\n",
    "    return np.sum(pxy[nzs] * np.log(pxy[nzs] / px_py[nzs]))"
   ]
  },
  {
   "cell_type": "code",
   "execution_count": null,
   "id": "3e4a160b",
   "metadata": {},
   "outputs": [],
   "source": [
    "mutual_information(hist_2d)"
   ]
  },
  {
   "cell_type": "markdown",
   "id": "9d03817e",
   "metadata": {},
   "source": [
    "If we move the T2 image 15 pixels down, we make the images less well\n",
    "registered."
   ]
  },
  {
   "cell_type": "code",
   "execution_count": null,
   "id": "14426f2f",
   "metadata": {},
   "outputs": [],
   "source": [
    "t2_slice_moved = np.zeros(t2_slice.shape)\n",
    "t2_slice_moved[15:, :] = t2_slice[:-15, :]\n",
    "plt.imshow(np.hstack((t1_slice, t2_slice_moved)))"
   ]
  },
  {
   "cell_type": "markdown",
   "id": "fd902b66",
   "metadata": {},
   "source": [
    "Now the scatterplot is a lot more diffuse:"
   ]
  },
  {
   "cell_type": "code",
   "execution_count": null,
   "id": "1d9af6ea",
   "metadata": {},
   "outputs": [],
   "source": [
    "plt.plot(t1_slice.ravel(), t2_slice_moved.ravel(), '.')\n",
    "plt.xlabel('T1 signal')\n",
    "plt.ylabel('T2 (moved) signal')\n",
    "plt.title('T1 vs T2 signal after moving T2 image')"
   ]
  },
  {
   "cell_type": "markdown",
   "id": "9069f45a",
   "metadata": {},
   "source": [
    "The joint (2D) histogram shows the same thing:"
   ]
  },
  {
   "cell_type": "code",
   "execution_count": null,
   "id": "6e548979",
   "metadata": {},
   "outputs": [],
   "source": [
    "hist_2d_moved, x_edges, y_edges = np.histogram2d(\n",
    "    t1_slice.ravel(),\n",
    "    t2_slice_moved.ravel(),\n",
    "    bins=20)"
   ]
  },
  {
   "cell_type": "code",
   "execution_count": null,
   "id": "af5899ee",
   "metadata": {},
   "outputs": [],
   "source": [
    "# Show log histogram, avoiding divide by 0\n",
    "hist_2d_moved_log = np.zeros(hist_2d_moved.shape)\n",
    "non_zeros = hist_2d_moved != 0\n",
    "hist_2d_moved_log[non_zeros] = np.log(hist_2d_moved[non_zeros])\n",
    "plt.imshow(hist_2d_moved_log.T, origin='lower')\n",
    "plt.xlabel('T1 signal bin')\n",
    "plt.ylabel('T2 signal bin')"
   ]
  },
  {
   "cell_type": "markdown",
   "id": "92139872",
   "metadata": {},
   "source": [
    "Because the signal is less concentrated into a small number of bins, the\n",
    "mutual information has dropped:"
   ]
  },
  {
   "cell_type": "code",
   "execution_count": null,
   "id": "e5107238",
   "metadata": {},
   "outputs": [],
   "source": [
    "mutual_information(hist_2d_moved)"
   ]
  }
 ],
 "metadata": {},
 "nbformat": 4,
 "nbformat_minor": 5
}