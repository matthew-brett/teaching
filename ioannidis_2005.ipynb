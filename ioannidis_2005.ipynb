{
 "cells": [
  {
   "cell_type": "markdown",
   "id": "ebf7b473",
   "metadata": {},
   "source": [
    "$\\newcommand{L}[1]{\\| #1 \\|}\\newcommand{VL}[1]{\\L{ \\vec{#1} }}\\newcommand{R}[1]{\\operatorname{Re}\\,(#1)}\\newcommand{I}[1]{\\operatorname{Im}\\, (#1)}$\n",
    "\n",
    "## The argument in “Why most published research findings are false”\n",
    "\n",
    "I spent some time trying to understand the argument in this paper:\n",
    "\n",
    "* Ioannidis, John PA. 2005. “Why most published research findings are\n",
    "  false.” *PLoS medicine* 2 (8): e124.\n",
    "\n",
    "These papers were useful for understanding the argument:\n",
    "\n",
    "* Goodman, Steven, and Sander Greenland. 2007. “Assessing the\n",
    "  unreliability of the medical literature: a response to ‘why most\n",
    "  published research findings are false.’” *Johns Hopkins University,\n",
    "  Dept. of Biostatistics Working Papers*.\n",
    "\n",
    "* Kass, Robert E., and Adrian E. Raftery. 1995. “Bayes factors.”\n",
    "  *Journal of the American Statistical Association* 90 (430): 773–795.\n",
    "\n",
    "* Wacholder, Sholom, Stephen Chanock, Montserrat Garcia-Closas,\n",
    "  Nathaniel Rothman, and others. 2004. “Assessing the probability that\n",
    "  a positive report is false: an approach for molecular epidemiology\n",
    "  studies.” *Journal of the National Cancer Institute* 96 (6): 434–442.\n",
    "\n",
    "## “The practice of science is profoundly broken”. Discuss? - no - model and test!\n",
    "\n",
    "The point that Ioannidis makes is:\n",
    "\n",
    "We know that the scientific process is flawed in a variety of ways. We\n",
    "assume that these flaws do not have a large effect on the outcome. But,\n",
    "if we model some of the flaws, we see that their effect can be\n",
    "catastrophic, in the sense that a large proportion of scientific\n",
    "findings are likely to be wrong.\n",
    "\n",
    "We scientists commit ourselves to rational thinking. In this case,\n",
    "rational thinking is asking, “how likely is it that we are getting the\n",
    "answers wrong”?. We have to ask this question in a rational way. This is\n",
    "what Ioannidis sets out to do in this paper.\n",
    "\n",
    "## Different ways of phrasing the argument\n",
    "\n",
    "The basis of Ioannidis’ argument comes from [Wacholder et al\n",
    "2004](http://jnci.oxfordjournals.org/content/96/6/434.long) (see\n",
    "appendix table 1). [Goodman and Greenland\n",
    "2007](http://www.plosmedicine.org/article/info%3Adoi%2F10.1371%2Fjournal.pmed.0040168)\n",
    "explain Ioannidis in terms of Bayes theorem.\n",
    "\n",
    "Both Ioannidis and Goodman & Greenland use odds ratios rather than\n",
    "probability values in their exposition. I found it easier to think in\n",
    "terms of probabilities.\n",
    "\n",
    "## Some terms\n",
    "\n",
    "We’ve done an experiment, and we have conducted a statistical test:\n",
    "\n",
    "* $H_A$ - alternative hypothesis\n",
    "\n",
    "* $H_0$ - null hypothesis\n",
    "\n",
    "* $\\alpha$ : false positive rate - probability for test to reject\n",
    "  $H_0$ when $H_0$ is true ($H_A$ is false)\n",
    "\n",
    "* $\\beta$ : false negative rate - probability for test to accept\n",
    "  $H_0$ when $H_A$ is true ($H_0$ is false)\n",
    "\n",
    "* $1 - \\beta$ : power - probability we will reject $H_0$ if\n",
    "  $H_A$ is true ($H_0$ is false)\n",
    "\n",
    "Let’s say that the test can either be “significant” (test gives\n",
    "$p \\le \\alpha$) or “not significant” ($p > \\alpha$). Denote\n",
    "“test is significant” by $T_S$, “test not significant” by\n",
    "$T_N$.\n",
    "\n",
    "Before we did the experiment there were two possibilities - $H_A$\n",
    "is true, or $H_0$ is true. After we have four possibilities:\n",
    "\n",
    "* $H_A \\land T_S$ : $H_A$ is true, test is significant;\n",
    "\n",
    "* $H_A \\land T_N$ : $H_A$ is true, test is not significant;\n",
    "\n",
    "* $H_0 \\land T_S$ : $H_0$ is true ($H_A$ is false) -\n",
    "  test is significant;\n",
    "\n",
    "* $H_0 \\land T_N$ : $H_0$ is true ($H_A$ is false) -\n",
    "  test is not significant.\n",
    "\n",
    "## What does a “significant” statistical test result tell us?\n",
    "\n",
    "In this section we work up slowly to Ioannidis table 1.\n",
    "\n",
    "First we need to load functions for symbolic mathematics from the Sympy\n",
    "library:"
   ]
  },
  {
   "cell_type": "code",
   "execution_count": null,
   "id": "c40419ed",
   "metadata": {},
   "outputs": [],
   "source": [
    "from sympy import symbols, Eq, solve, simplify, lambdify, init_printing, latex\n",
    "init_printing(use_latex=True, order='old')"
   ]
  },
  {
   "cell_type": "markdown",
   "id": "19e2f9ce",
   "metadata": {},
   "source": [
    "If we do not take any prior probabilities into account, then we have the\n",
    "following probabilities:\n",
    "\n",
    "$\\newcommand{Frac}[2]{\\frac{\\displaystyle #1}{\\displaystyle #2}}$\n",
    "\n",
    "Some new terms:\n",
    "\n",
    "* $Pr(H_A)$ - prior probability of $H_A$ - probability of\n",
    "  $H_A$ before the experiment was conducted.\n",
    "\n",
    "* $Pr(H_0)$ - prior probability of $H_0$ =\n",
    "  $1 - Pr(H_A)$ - probability of null hypothesis before\n",
    "  experiment conducted\n",
    "\n",
    "We are interested in updating the probability of $H_A$ and\n",
    "$H_0$ as a result of a test on some collected data. This updated\n",
    "probability is $Pr(H_A | T)$ - the probability of $H_A$\n",
    "given the test result $T$. $Pr(H_A | T)$ is called the\n",
    "*posterior* probability because it is the probability after the test\n",
    "result.\n",
    "\n",
    "The test result $T$ is assumed to have arisen under either\n",
    "$H_A$ or $H_0$.\n",
    "\n",
    "$Pr(T) = Pr(T | H_A) Pr(H_A) + Pr(T | H_0) Pr(H_0)$\n",
    "\n",
    "Also the probability of a *signficant* result of the test $T_S$ is\n",
    "from the same formula:\n",
    "\n",
    "$Pr(T_S) = Pr(T_S | H_A) Pr(H_A) + Pr(T_S | H_0) Pr(H_0)$\n",
    "\n",
    "(From Kass & Rafferty 1995)\n",
    "\n",
    "Remembering [Bayes\n",
    "theorem](http://en.wikipedia.org/wiki/Bayes'_theorem#Derivation):\n",
    "\n",
    "$P(A | B) = \\Frac{P(B | A) P(A)}{P(B)}$\n",
    "\n",
    "Bayes theorem gives:\n",
    "\n",
    "$P(H_A | T) = \\Frac{Pr(T | H_A) Pr(H_A)}{Pr(T)} = \\Frac{Pr(T | H_A) Pr(H_A)}{Pr(T | H_A) Pr(H_A) + Pr(T | H_0) Pr(H_0)}$\n",
    "\n",
    "Consider only the test result $T_S$ (the test is significant). What is\n",
    "the posterior probability of $H_A$ given that the test is significant?\n",
    "\n",
    "$P(H_A | T_S) = \\Frac{Pr(T_S | H_A) Pr(H_A)}{Pr(T_S | H_A) Pr(H_A) + Pr(T_S | H_0) Pr(H_0)}$\n",
    "\n",
    "We have $Pr(T_S | H_A)$, $Pr(T_S | H_0)$ from the first\n",
    "column of the table above. Substituting into the equation:\n",
    "\n",
    "$P(H_A | T_S) = \\Frac{(1 - \\beta) Pr(H_A)}{(1 - \\beta) Pr(H_A) + \\alpha Pr(H_0)}$\n",
    "\n",
    "To make this a little less cluttered, define:\n",
    "\n",
    "$\\pi := Pr(H_A)$\n",
    "\n",
    "So\n",
    "\n",
    "$1 - \\pi = Pr(H_0)$\n",
    "\n",
    "and:\n",
    "\n",
    "$P(H_A | T_S) = \\Frac{(1 - \\beta) \\pi}{(1 - \\beta) \\pi + \\alpha (1 - \\pi)}$\n",
    "\n",
    "Let’s put that formula into Sympy for later:"
   ]
  },
  {
   "cell_type": "code",
   "execution_count": null,
   "id": "7a7fb428",
   "metadata": {},
   "outputs": [],
   "source": [
    "from sympy.abc import alpha, beta, pi # get symbolic variables\n",
    "post_prob = (1 - beta) * pi / ((1 - beta) * pi + alpha * (1 - pi))\n",
    "post_prob"
   ]
  },
  {
   "cell_type": "markdown",
   "id": "83ddb2b8",
   "metadata": {},
   "source": [
    "A table shows the new probabilities that take the prior into account:\n",
    "\n",
    "This table is equivalent to Ioannidis table 1. The first column of the\n",
    "table gives the probabilities in the case we’re interested in, of\n",
    "$T_S$. The posterior probability is the first row, first column -\n",
    "$Pr(T_S | H_A)$, divided by the total row, first column -\n",
    "$Pr(T_S)$.\n",
    "\n",
    "Ioannidis uses “positive predictive value” (PPV) for the posterior\n",
    "probability $P(H_A | T_S)$. Goodman and Greenland complain,\n",
    "reasonably enough, that “positive predictive value” is a confusing new\n",
    "term for a standard concept.\n",
    "\n",
    "Ioannidis also prefers his equations in terms of $R$ - the *prior\n",
    "odds ratio*. $R := \\Frac{Pr(H_A)}{Pr(H_0)}$. Also (from\n",
    "$\\pi := Pr(H_A)$ and $Pr(H_0) = 1 - Pr(H_A)$):\n",
    "$R = \\Frac{\\pi}{1 - \\pi}$.\n",
    "\n",
    "Ioannidis’ formula for PPV is\n",
    "$\\Frac{(1 - \\beta) R}{R - \\beta R + \\alpha}$. This is the same as\n",
    "our formula above, only rephrased in terms of $R$:"
   ]
  },
  {
   "cell_type": "code",
   "execution_count": null,
   "id": "a08b618a",
   "metadata": {},
   "outputs": [],
   "source": [
    "R = pi / (1 - pi)\n",
    "ppv = (1 - beta) * R / (R - beta * R + alpha)\n",
    "# Is this the same as our formula above?\n",
    "simplify(ppv - post_prob) == 0"
   ]
  },
  {
   "cell_type": "markdown",
   "id": "91f9d9a6",
   "metadata": {},
   "source": [
    "The posterior probability is our estimate of whether $H_A$ is\n",
    "true, given our prior knowledge $Pr(H_A) = \\pi$ combined with the\n",
    "new information from the test result.\n",
    "\n",
    "# What is a finding that is likely to be true?\n",
    "\n",
    "A finding that is likely to be true is one for which the posterior\n",
    "probability $Pr(H_A | T_S) > 0.5$. That is, the likelihood of the\n",
    "tested hypothesis, given the reported significant test result, is\n",
    "greater than $0.5$\n",
    "\n",
    "# Whether a finding is likely to be true depends on the power of the experiment\n",
    "\n",
    "Assume that $\\alpha = 0.05$ (standard significance threshold for\n",
    "null hypothesis test).\n",
    "\n",
    "Let’s have a look at the posterior probability as a function of power\n",
    "and prior probability:\n",
    "\n",
    "The posterior probability depends on the power. If the power is low and\n",
    "$H_A$ is true, the likelihood of getting a significant test result\n",
    "is small. Assuming $\\pi = Pr(H_A) = 0.5$, our posterior\n",
    "probability is given by\n",
    "$\\Frac{(1 - \\beta)}{(1 - \\beta) + \\alpha}$. As the chance of\n",
    "finding a true positive $= 1-\\beta$ drops towards the chance of\n",
    "finding a false negative $= \\alpha$, our confidence in the truth\n",
    "of the significant result must drop too.\n",
    "\n",
    "The posterior likelihood also depends on the prior. When the prior\n",
    "$Pr(H_A)$ drops then we become more wary of the (apriori more\n",
    "unlikely) true positive compared to the (apriori more likely) false\n",
    "positive.\n",
    "\n",
    "As you can see from the figure. When power is 0.2, and the prior\n",
    "probability is less than around 0.2, then even if there is a significant\n",
    "test result, the null is still more likely than the $H_A$\n",
    "(posterior < 0.5).\n",
    "\n",
    "# Quantifying the effect of bias\n",
    "\n",
    "Working scientists know that working scientists have many sources of\n",
    "bias in data collection and analysis.\n",
    "\n",
    "We tend to assume that the effect of this bias is relatively minor. Is\n",
    "this true?\n",
    "\n",
    "Ioannidis quantifies bias with a parameter $u$. $u$ is the\n",
    "proportion of not-significant findings that become significant as a\n",
    "result of bias. Put another way, the effect of bias is the result of\n",
    "taking the second column in the probability table above (the\n",
    "not-significant findings) and multiplying by $u$. We add this\n",
    "effect to the first column (significant findings) and subtract from the\n",
    "second column (not-significant findings). Before applying the priors,\n",
    "this looks like:"
   ]
  },
  {
   "cell_type": "code",
   "execution_count": null,
   "id": "d5f0a69f",
   "metadata": {},
   "outputs": [],
   "source": [
    "u = symbols('u')\n",
    "bias_assoc_noprior = dict(t_s = (1 - beta) + u * beta,\n",
    "                          t_ns = beta - u * beta,\n",
    "                          f_s = alpha + u * (1 - alpha),\n",
    "                          f_ns = (1 - alpha) - u * (1 - alpha))"
   ]
  },
  {
   "cell_type": "markdown",
   "id": "7ae9e457",
   "metadata": {},
   "source": [
    "After applying the prior:"
   ]
  },
  {
   "cell_type": "code",
   "execution_count": null,
   "id": "370f83eb",
   "metadata": {},
   "outputs": [],
   "source": [
    "bias_assoc = bias_assoc_noprior.copy()\n",
    "bias_assoc['t_s'] *= pi\n",
    "bias_assoc['t_ns'] *= pi\n",
    "bias_assoc['f_s'] *= 1 - pi\n",
    "bias_assoc['f_ns'] *= 1 - pi"
   ]
  },
  {
   "cell_type": "markdown",
   "id": "e96794f3",
   "metadata": {},
   "source": [
    "The first cell in the table is $Pr(T_S | H_A) Pr(H_A)$. The total\n",
    "for the first column gives $Pr(T_S)$. Therefore the posterior\n",
    "probability $Pr(H_A | T_S)$ is:"
   ]
  },
  {
   "cell_type": "code",
   "execution_count": null,
   "id": "4d5393a8",
   "metadata": {},
   "outputs": [],
   "source": [
    "post_prob_bias = bias_assoc['t_s'] / (bias_assoc['t_s'] +\n",
    "                                      bias_assoc['f_s'])\n",
    "post_prob_bias"
   ]
  },
  {
   "cell_type": "code",
   "execution_count": null,
   "id": "0eb0d733",
   "metadata": {},
   "outputs": [],
   "source": [
    "# Same as Ioannidis formulation?\n",
    "# This from Ioannidis 2005:\n",
    "ppv_bias = (\n",
    "    ((1 - beta) * R + u * beta * R) /\n",
    "    (R + alpha - beta * R + u - u * alpha + u * beta * R)\n",
    "   )\n",
    "# Is this the same as our formula above?\n",
    "simplify(ppv_bias - post_prob_bias) == 0"
   ]
  },
  {
   "cell_type": "markdown",
   "id": "8394d445",
   "metadata": {},
   "source": [
    "What effect does bias have on the posterior probabilities?\n",
    "\n",
    "As we’d expect, as bias increases to 1, the result of the experiment has\n",
    "less and less effect on our posterior estimate. If the analysis was\n",
    "entirely biased, then our posterior estimate is unchanged from the prior\n",
    "(diagonal line on the graph).\n",
    "\n",
    "# The effect of multiple studies\n",
    "\n",
    "Ioannidis makes the point that when a field is particularly fashionable,\n",
    "there may be many research groups working on the same question.\n",
    "\n",
    "Given publication bias for positive findings, it is possible that only\n",
    "positive research findings will be published. If $n$ research\n",
    "groups have done the same experiment, then the probability that *all*\n",
    "the $n$ studies will be not significant, given $H_A$ is\n",
    "true, is $\\beta^n$. Conversely the probability that there is at\n",
    "least one positive finding in the $n$ tests is\n",
    "$1 - \\beta^n$. Similarly the probability that all $n$\n",
    "studies will be not significant, given $H_0$, is\n",
    "$(1 - \\alpha)^n$. The probability of at least one false positive\n",
    "is $1 - (1 - \\alpha)^n$.\n",
    "\n",
    "The probability table (without the priors) is:"
   ]
  },
  {
   "cell_type": "code",
   "execution_count": null,
   "id": "d4f63029",
   "metadata": {},
   "outputs": [],
   "source": [
    "n = symbols('n')\n",
    "multi_assoc_noprior = dict(t_s = (1 - beta ** n),\n",
    "                          t_ns = beta ** n,\n",
    "                          f_s = 1 - (1 - alpha) ** n,\n",
    "                          f_ns = (1 - alpha) ** n)"
   ]
  },
  {
   "cell_type": "markdown",
   "id": "8f3bee0f",
   "metadata": {},
   "source": [
    "Considering the prior:"
   ]
  },
  {
   "cell_type": "code",
   "execution_count": null,
   "id": "6ed0b8f4",
   "metadata": {},
   "outputs": [],
   "source": [
    "multi_assoc = multi_assoc_noprior.copy()\n",
    "multi_assoc['t_s'] *= pi\n",
    "multi_assoc['t_ns'] *= pi\n",
    "multi_assoc['f_s'] *= 1 - pi\n",
    "multi_assoc['f_ns'] *= 1 - pi"
   ]
  },
  {
   "cell_type": "markdown",
   "id": "540a8fdc",
   "metadata": {},
   "source": [
    "Giving posterior probability of:"
   ]
  },
  {
   "cell_type": "code",
   "execution_count": null,
   "id": "a696f3a6",
   "metadata": {},
   "outputs": [],
   "source": [
    "post_prob_multi = multi_assoc['t_s'] / (multi_assoc['t_s'] + multi_assoc['f_s'])\n",
    "post_prob_multi"
   ]
  },
  {
   "cell_type": "code",
   "execution_count": null,
   "id": "ac3e34a4",
   "metadata": {},
   "outputs": [],
   "source": [
    "# Formula from Ioannidis 2005:\n",
    "ppv_multi = R * (1 - beta ** n) / (R + 1 - (1 - alpha) ** n - R * beta ** n)\n",
    "# Is this the same as our formula above?\n",
    "simplify(ppv_multi - post_prob_multi) == 0"
   ]
  },
  {
   "cell_type": "markdown",
   "id": "12e68382",
   "metadata": {},
   "source": [
    "# Putting it together\n",
    "\n",
    "Considering analysis bias and positive publication bias together:"
   ]
  },
  {
   "cell_type": "code",
   "execution_count": null,
   "id": "533ed7c0",
   "metadata": {},
   "outputs": [],
   "source": [
    "multi_bias_assoc_noprior = dict(\n",
    "   t_s = (1 - beta ** n) + u * beta ** n,\n",
    "   t_ns = beta ** n - u * beta ** n,\n",
    "   f_s = 1 - (1 - alpha) ** n + u * (1 - alpha) ** n,\n",
    "   f_ns = (1 - alpha) ** n - u * (1 - alpha)**n)"
   ]
  },
  {
   "cell_type": "code",
   "execution_count": null,
   "id": "960ca538",
   "metadata": {},
   "outputs": [],
   "source": [
    "multi_bias_assoc = multi_bias_assoc_noprior.copy()\n",
    "multi_bias_assoc['t_s'] *= pi\n",
    "multi_bias_assoc['t_ns'] *= pi\n",
    "multi_bias_assoc['f_s'] *= 1 - pi\n",
    "multi_bias_assoc['f_ns'] *= 1 - pi"
   ]
  },
  {
   "cell_type": "code",
   "execution_count": null,
   "id": "3088d2af",
   "metadata": {},
   "outputs": [],
   "source": [
    "post_prob_multi_bias = (\n",
    "   multi_bias_assoc['t_s'] /\n",
    "   (multi_bias_assoc['t_s'] + multi_bias_assoc['f_s'])\n",
    "   )\n",
    "post_prob_multi_bias"
   ]
  },
  {
   "cell_type": "markdown",
   "id": "79084fd1",
   "metadata": {},
   "source": [
    "Now we make a numerical version of this symbolic expression, so we can\n",
    "evaluate it for different values of $\\alpha, \\beta, \\pi, u, n$:"
   ]
  },
  {
   "cell_type": "code",
   "execution_count": null,
   "id": "926569d1",
   "metadata": {},
   "outputs": [],
   "source": [
    "# Make numerical version of symbolic expression\n",
    "pp_mb_func = lambdify((alpha, beta, pi, u, n), post_prob_multi_bias)"
   ]
  },
  {
   "cell_type": "markdown",
   "id": "eb7f7ac5",
   "metadata": {},
   "source": [
    "Let’s assume that two groups are doing more or less the same study, and\n",
    "only the positive study publishes ($n = 2$). There is an analysis\n",
    "bias of 10% ($u= 0.1$). We take the power from the Button et al\n",
    "estimate for neuroimaging studies = 0.08. Therefore\n",
    "$\\beta = 1 - 0.08 = 0.92$:\n",
    "\n",
    "* Button, Katherine S., John PA Ioannidis, Claire Mokrysz, Brian A.\n",
    "  Nosek, Jonathan Flint, Emma SJ Robinson, and Marcus R. Munafò. 2013.\n",
    "  “Power failure: why small sample size undermines the reliability of\n",
    "  neuroscience.” *Nature Reviews Neuroscience*.\n",
    "\n",
    "This graph tells us that, for a study with average power in\n",
    "neuroimaging, with some mild analysis bias and positive publication\n",
    "bias, the significant finding $T_S$ does not change our posterior\n",
    "very much from our prior.\n",
    "\n",
    "If we do some study with an hypothesis that is suitably unlikely apriori\n",
    "- say $Pr(H_A) = 0.25$ - then our posterior probability is:"
   ]
  },
  {
   "cell_type": "code",
   "execution_count": null,
   "id": "893c00ae",
   "metadata": {},
   "outputs": [],
   "source": [
    "print(pp_mb_func(0.05, 0.92, 0.25, 0.1, 2))"
   ]
  },
  {
   "cell_type": "markdown",
   "id": "6e7abbbb",
   "metadata": {},
   "source": [
    "What if the result was significant at $p < 0.01$?:"
   ]
  },
  {
   "cell_type": "code",
   "execution_count": null,
   "id": "e47bc48d",
   "metadata": {},
   "outputs": [],
   "source": [
    "print(pp_mb_func(0.01, 0.92, 0.25, 0.1, 2))"
   ]
  },
  {
   "cell_type": "markdown",
   "id": "b6e219f3",
   "metadata": {},
   "source": [
    "So, even if our result is significant at $p < 0.01$, the\n",
    "probability that $H_A$ is correct is still less than $0.5$."
   ]
  }
 ],
 "metadata": {},
 "nbformat": 4,
 "nbformat_minor": 5
}