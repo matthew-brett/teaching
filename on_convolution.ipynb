{
 "cells": [
  {
   "cell_type": "markdown",
   "id": "a0154a44",
   "metadata": {},
   "source": [
    "$\\newcommand{L}[1]{\\| #1 \\|}\\newcommand{VL}[1]{\\L{ \\vec{#1} }}\\newcommand{R}[1]{\\operatorname{Re}\\,(#1)}\\newcommand{I}[1]{\\operatorname{Im}\\, (#1)}$\n",
    "\n",
    "## Convolution\n",
    "\n",
    "### Neural and hemodynamic models\n",
    "\n",
    "In functional MRI (FMRI), we often have the subjects do a task in the scanner.\n",
    "For example, we might have the subject lying looking at a fixation cross on\n",
    "the screen for most of the time, and sometimes show a very brief burst of\n",
    "visual stimulation, such as a flashing checkerboard.\n",
    "\n",
    "We will call each burst of stimulation an *event*.\n",
    "\n",
    "The FMRI signal comes about first through changes in neuronal firing, and then\n",
    "by blood flow responses to the changes in neuronal firing.  In order to\n",
    "predict the FMRI signal to an event, we first need a prediction (model) of the\n",
    "changes in neuronal firing, and second we need a prediction (model) of how\n",
    "the blood flow will change in response to the neuronal firing.\n",
    "\n",
    "So we have a two-stage problem:\n",
    "\n",
    "* predict the neuronal firing to the event (make a *neuronal firing model*);\n",
    "\n",
    "* predict the blood flow changes caused by the neuronal firing (a *hemodynamic\n",
    "  model*).\n",
    "\n",
    "[Convolution](https://en.wikipedia.org/wiki/Convolution) is a simple way to create a hemodynamic model from a neuronal\n",
    "firing model.\n",
    "\n",
    "#### The neuronal firing model\n",
    "\n",
    "The neuronal firing model is our prediction of the profile of neural activity\n",
    "in response to the event.\n",
    "\n",
    "For example, in this case, with a single stimulation, we might predict that,\n",
    "as soon as the visual stimulation went on, the cells in the visual cortex\n",
    "instantly increased their firing, and kept firing at the same rate while the\n",
    "stimulation was on.\n",
    "\n",
    "In that case, our *neural* model of an event starting at 4 seconds, lasting 5\n",
    "seconds, might look like this:"
   ]
  },
  {
   "cell_type": "code",
   "execution_count": null,
   "id": "a14b1880",
   "metadata": {},
   "outputs": [],
   "source": [
    "import numpy as np\n",
    "import matplotlib.pyplot as plt"
   ]
  },
  {
   "cell_type": "code",
   "execution_count": null,
   "id": "eecc8a96",
   "metadata": {},
   "outputs": [],
   "source": [
    "%matplotlib inline"
   ]
  },
  {
   "cell_type": "code",
   "execution_count": null,
   "id": "0e713e25",
   "metadata": {},
   "outputs": [],
   "source": [
    "times = np.arange(0, 40, 0.1)\n",
    "n_time_points = len(times)\n",
    "neural_signal = np.zeros(n_time_points)\n",
    "neural_signal[(times >= 4) & (times < 9)] = 1\n",
    "plt.plot(times, neural_signal)\n",
    "plt.xlabel('time (seconds)')\n",
    "plt.ylabel('neural signal')\n",
    "plt.ylim(0, 1.2)\n",
    "plt.title(\"Neural model for 5 second event starting at time 4\")"
   ]
  },
  {
   "cell_type": "markdown",
   "id": "e751a74c",
   "metadata": {},
   "source": [
    "This type of simple off - on - off model is a [boxcar function](https://en.wikipedia.org/wiki/Boxcar_function).\n",
    "\n",
    "Of course we could have had another neural model, with the activity gradually\n",
    "increasing, or starting high and then dropping, but let us stick to this\n",
    "simple model for now.\n",
    "\n",
    "Now we need to predict our hemodynamic signal, given our prediction of neuronal\n",
    "firing.\n",
    "\n",
    "# The impulse response\n",
    "\n",
    "Let’s simplify a little by specifying that the event was really short.  Call\n",
    "this event — an *impulse*.  This simplifies our neural model to a single\n",
    "spike in time instead of the sustained rise of the box-car function."
   ]
  },
  {
   "cell_type": "code",
   "execution_count": null,
   "id": "731cdec9",
   "metadata": {},
   "outputs": [],
   "source": [
    "neural_signal = np.zeros(n_time_points)\n",
    "i_time_4 = np.where(times == 4)[0][0]  # index of value 4 in \"times\"\n",
    "neural_signal[i_time_4] = 1  # A single spike at time == 4\n",
    "plt.plot(times, neural_signal)\n",
    "plt.xlabel('time (seconds)')\n",
    "plt.ylabel('neural signal')\n",
    "plt.ylim(0, 1.2)\n",
    "plt.title(\"Neural model for very brief event at time 4\")"
   ]
  },
  {
   "cell_type": "markdown",
   "id": "301fbc45",
   "metadata": {},
   "source": [
    "Let us now imagine that I know what the hemodynamic *response* will be to such\n",
    "an impulse.  I might have got this estimate from taking the FMRI signal\n",
    "following very brief events, and averaging over many events.  Here is one such\n",
    "estimate of the hemodynamic *response* to a very brief stimulus:"
   ]
  },
  {
   "cell_type": "code",
   "execution_count": null,
   "id": "a2cf17d2",
   "metadata": {},
   "outputs": [],
   "source": [
    "def hrf(t):\n",
    "    \"A hemodynamic response function\"\n",
    "    return t ** 8.6 * np.exp(-t / 0.547)"
   ]
  },
  {
   "cell_type": "code",
   "execution_count": null,
   "id": "1c5278c6",
   "metadata": {},
   "outputs": [],
   "source": [
    "hrf_times = np.arange(0, 20, 0.1)\n",
    "hrf_signal = hrf(hrf_times)\n",
    "plt.plot(hrf_times, hrf_signal)\n",
    "plt.xlabel('time (seconds)')\n",
    "plt.ylabel('BOLD signal')\n",
    "plt.title('Estimated BOLD signal for event at time 0')"
   ]
  },
  {
   "cell_type": "markdown",
   "id": "381973ef",
   "metadata": {},
   "source": [
    "This is the hemodynamic response to a neural impulse.  In signal processing\n",
    "terms this is the hemodynamic [impulse response function](impulseresponse).\n",
    "It is usually called the hemodynamic response function (HRF), because it is a\n",
    "function that gives the predicted hemodynamic response at any given time\n",
    "following an impulse at time 0.\n",
    "\n",
    "# Building the hemodynamic output from the neural input\n",
    "\n",
    "We now have an easy way to predict the hemodynamic output from our single impulse\n",
    "at time 4.  We take the HRF (prediction for an impulse starting at time 0), and\n",
    "shift it by 4 seconds-worth to give our predicted output:"
   ]
  },
  {
   "cell_type": "code",
   "execution_count": null,
   "id": "9aa7282d",
   "metadata": {},
   "outputs": [],
   "source": [
    "n_hrf_points = len(hrf_signal)\n",
    "bold_signal = np.zeros(n_time_points)\n",
    "bold_signal[i_time_4:i_time_4 + n_hrf_points] = hrf_signal\n",
    "plt.plot(times, bold_signal)\n",
    "plt.xlabel('time (seconds)')\n",
    "plt.ylabel('bold signal')\n",
    "plt.title('Output BOLD signal for event at time=4')"
   ]
  },
  {
   "cell_type": "markdown",
   "id": "3fb5be07",
   "metadata": {},
   "source": [
    "Our impulse so far has an amplitude of 1.  What if the impulse was twice as\n",
    "strong, with an amplitude of 2?"
   ]
  },
  {
   "cell_type": "code",
   "execution_count": null,
   "id": "439254d8",
   "metadata": {},
   "outputs": [],
   "source": [
    "neural_signal[i_time_4] = 2  # An impulse with amplitude 2\n",
    "plt.plot(times, neural_signal)\n",
    "plt.xlabel('time (seconds)')\n",
    "plt.ylabel('neural signal')\n",
    "plt.ylim(0, 2.2)\n",
    "plt.title('Neural model for amplitude 2 impulse')"
   ]
  },
  {
   "cell_type": "markdown",
   "id": "5beb2cec",
   "metadata": {},
   "source": [
    "Maybe I can make the assumption that, if the impulse is twice as large then the\n",
    "response will be twice as large.  This is the assumption that the response\n",
    "scales linearly with the impulse.\n",
    "\n",
    "Now I can predict the output for an impulse of amplitude 2 by taking my HRF,\n",
    "shifting by 4, as before, and then multiplying the HRF by 2:"
   ]
  },
  {
   "cell_type": "code",
   "execution_count": null,
   "id": "9c4c0206",
   "metadata": {},
   "outputs": [],
   "source": [
    "bold_signal = np.zeros(n_time_points)\n",
    "bold_signal[i_time_4:i_time_4 + n_hrf_points] = hrf_signal * 2\n",
    "plt.plot(times, bold_signal)\n",
    "plt.xlabel('time (seconds)')\n",
    "plt.ylabel('bold signal')\n",
    "plt.title('Output BOLD signal for amplitude 2 impulse')"
   ]
  },
  {
   "cell_type": "markdown",
   "id": "1911d5d8",
   "metadata": {},
   "source": [
    "What if I have several impulses?  For example, imagine I had an impulse\n",
    "amplitude 2 at time == 4, then another of amplitude 1 at time == 10, and another\n",
    "of amplitude 3 at time == 20."
   ]
  },
  {
   "cell_type": "code",
   "execution_count": null,
   "id": "2679d923",
   "metadata": {},
   "outputs": [],
   "source": [
    "neural_signal[i_time_4] = 2  # An impulse with amplitude 2\n",
    "i_time_10 = np.where(times == 10)[0][0]  # index of value 10 in \"times\"\n",
    "neural_signal[i_time_10] = 1  # An impulse with amplitude 1\n",
    "i_time_20 = np.where(times == 20)[0][0]  # index of value 20 in \"times\"\n",
    "neural_signal[i_time_20] = 3  # An impulse with amplitude 3\n",
    "plt.plot(times, neural_signal)\n",
    "plt.xlabel('time (seconds)')\n",
    "plt.ylabel('neural signal')\n",
    "plt.ylim(0, 3.2)\n",
    "plt.title('Neural model for three impulses')"
   ]
  },
  {
   "cell_type": "markdown",
   "id": "39d882a6",
   "metadata": {},
   "source": [
    "Maybe I can also make the assumption that the response to an impulse will be\n",
    "exactly the same over time.  The response to any given impulse at time 10 will\n",
    "be the same as the response to the same impulse at time 4 or at time 30.\n",
    "\n",
    "In that case my job is still simple.  For the impulse amplitude 2 at time == 4,\n",
    "I add the HRF shifted to start at time == 4, and scaled by 2.  To that result I\n",
    "then add the HRF shifted to time == 10 and scaled by 1.  Finally, I further add\n",
    "the HRF shifted to time == 20 and scaled by 3:"
   ]
  },
  {
   "cell_type": "code",
   "execution_count": null,
   "id": "5b1077b0",
   "metadata": {},
   "outputs": [],
   "source": [
    "bold_signal = np.zeros(n_time_points)\n",
    "bold_signal[i_time_4:i_time_4 + n_hrf_points] = hrf_signal * 2\n",
    "bold_signal[i_time_10:i_time_10 + n_hrf_points] += hrf_signal * 1\n",
    "bold_signal[i_time_20:i_time_20 + n_hrf_points] += hrf_signal * 3\n",
    "plt.plot(times, bold_signal)\n",
    "plt.xlabel('time (seconds)')\n",
    "plt.ylabel('bold signal')\n",
    "plt.title('Output BOLD signal for three impulses')"
   ]
  },
  {
   "cell_type": "markdown",
   "id": "f255d6d7",
   "metadata": {},
   "source": [
    "At the moment, an *impulse* is an event that lasts for just one time point. In\n",
    "our case, the time vector (`times` in the code above) has one point for every\n",
    "0.1 seconds (10 time points per second).\n",
    "\n",
    "What happens if an event lasts for 0.5 seconds?  Maybe I can assume that an\n",
    "event lasting 0.5 seconds has exactly the same effect as 5 impulses 0.1\n",
    "seconds apart:"
   ]
  },
  {
   "cell_type": "code",
   "execution_count": null,
   "id": "0ea86b24",
   "metadata": {},
   "outputs": [],
   "source": [
    "neural_signal[i_time_4:i_time_4 + 5] = 2\n",
    "plt.plot(times, neural_signal)\n",
    "plt.xlabel('time (seconds)')\n",
    "plt.ylabel('neural signal')\n",
    "plt.ylim(0, 3.2)\n",
    "plt.title('Neural model including event lasting 0.5 seconds')"
   ]
  },
  {
   "cell_type": "markdown",
   "id": "96c307ae",
   "metadata": {},
   "source": [
    "Now I need to add a new shifted HRF for the impulse corresponding to time == 4,\n",
    "and for time == 4.1 and so on until time == 4.4:"
   ]
  },
  {
   "cell_type": "code",
   "execution_count": null,
   "id": "7ac9175e",
   "metadata": {},
   "outputs": [],
   "source": [
    "bold_signal = np.zeros(n_time_points)\n",
    "for i in range(5):\n",
    "    bold_signal[i_time_4 + i:i_time_4  + i + n_hrf_points] += hrf_signal * 2\n",
    "bold_signal[i_time_10:i_time_10 + n_hrf_points] += hrf_signal * 1\n",
    "bold_signal[i_time_20:i_time_20 + n_hrf_points] += hrf_signal * 3\n",
    "plt.plot(times, bold_signal)\n",
    "plt.xlabel('time (seconds)')\n",
    "plt.ylabel('bold signal')\n",
    "plt.title('Output BOLD signal with event lasting 0.5 seconds')"
   ]
  },
  {
   "cell_type": "markdown",
   "id": "c236e7ca",
   "metadata": {},
   "source": [
    "# Working out an algorithm\n",
    "\n",
    "Now we have a general algorithm for making our output hemodynamic signal from\n",
    "our input neural signal:\n",
    "\n",
    "1. Start with an output vector that is a vector of zeros;\n",
    "\n",
    "1. For each index $i$ in the *input vector* (the neural signal):\n",
    "\n",
    "   > 1. Prepare a shifted copy of the HRF vector, starting at $i$. Call this the\n",
    "   >    *shifted HRF vector*;\n",
    "\n",
    "   > 1. Multiply the shifted HRF vector by the value in the input at index $i$,\n",
    "   >    to give the *shifted, scaled HRF vector*;\n",
    "\n",
    "   > 1. Add the shifted scaled HRF vector to the output.\n",
    "\n",
    "There is a little problem with our algorithm — the length of the output\n",
    "vector.\n",
    "\n",
    "Imagine that our input (neural) vector is N time points long.  Say the original\n",
    "HRF vector is M time points long.\n",
    "\n",
    "In our algorithm, when the iteration gets to the last index of the *input\n",
    "vector* ($i = N-1$), the shifted scaled HRF vector will, as ever, be M points\n",
    "long.  If the output vector is the same length as the input vector, we can add\n",
    "only the first point of the new scaled HRF vector to the last point of the\n",
    "output vector, but all the subsequent values of the scaled HRF vector extend\n",
    "off the end of the output vector and have no corresponding index in the\n",
    "output.  The way to solve this is to extend the output vector by the necessary\n",
    "M-1 points. Now we can do our algorithm in code."
   ]
  },
  {
   "cell_type": "code",
   "execution_count": null,
   "id": "fd2b21aa",
   "metadata": {},
   "outputs": [],
   "source": [
    "N = n_time_points\n",
    "M = n_hrf_points\n",
    "bold_signal = np.zeros(N + M - 1)  # adding the tail\n",
    "for i in range(N):\n",
    "    input_value = neural_signal[i]\n",
    "    # Adding the shifted, scaled HRF\n",
    "    bold_signal[i : i + n_hrf_points] += hrf_signal * input_value\n",
    "# We have to extend 'times' to deal with more points in 'bold_signal'\n",
    "extra_times = np.arange(n_hrf_points - 1) * 0.1 + 40\n",
    "times_and_tail = np.concatenate((times, extra_times))\n",
    "plt.plot(times_and_tail, bold_signal)\n",
    "plt.xlabel('time (seconds)')\n",
    "plt.ylabel('bold signal')\n",
    "plt.title('Output BOLD signal using our algorithm')"
   ]
  },
  {
   "cell_type": "markdown",
   "id": "e35d73f9",
   "metadata": {},
   "source": [
    "# We have *convolution*\n",
    "\n",
    "We now have — convolution.  Here’s the same thing using the numpy\n",
    "`convolve` function:"
   ]
  },
  {
   "cell_type": "code",
   "execution_count": null,
   "id": "b760f514",
   "metadata": {},
   "outputs": [],
   "source": [
    "bold_signal = np.convolve(neural_signal, hrf_signal)\n",
    "plt.plot(times_and_tail, bold_signal)\n",
    "plt.xlabel('time (seconds)')\n",
    "plt.ylabel('bold signal')\n",
    "plt.title('Our algorithm is the same as convolution')"
   ]
  },
  {
   "cell_type": "markdown",
   "id": "b90219d4",
   "metadata": {},
   "source": [
    "# Convolution with matrices\n",
    "\n",
    "For what follows, it is a bit easier to see what is going on with a lower time\n",
    "resolution — say one time point per second.  This time we’ll make the first\n",
    "event last 3 seconds:"
   ]
  },
  {
   "cell_type": "code",
   "execution_count": null,
   "id": "7c187d2a",
   "metadata": {},
   "outputs": [],
   "source": [
    "times = np.arange(0, 40)  # One time point per second\n",
    "n_time_points = len(times)\n",
    "neural_signal = np.zeros(n_time_points)\n",
    "neural_signal[4:7] = 1  # A 3 second event\n",
    "neural_signal[10] = 1\n",
    "neural_signal[20] = 3\n",
    "hrf_times = np.arange(20)\n",
    "hrf_signal = hrf(hrf_times)  # The HRF at one second time resolution\n",
    "n_hrf_points = len(hrf_signal)\n",
    "bold_signal = np.convolve(neural_signal, hrf_signal)\n",
    "times_and_tail = np.arange(n_time_points + n_hrf_points - 1)\n",
    "fig, axes = plt.subplots(3, 1, figsize=(8, 15))\n",
    "axes[0].plot(times, neural_signal)\n",
    "axes[0].set_title('Neural signal, 1 second resolution')\n",
    "axes[1].plot(hrf_times, hrf_signal)\n",
    "axes[1].set_title('Hemodynamic impulse response, 1 second resolution')\n",
    "axes[2].plot(times_and_tail, bold_signal)\n",
    "axes[2].set_title('Predicted BOLD signal from convolution, 1 second resolution')"
   ]
  },
  {
   "cell_type": "markdown",
   "id": "85df10a4",
   "metadata": {},
   "source": [
    "Our algorithm, which turned out to give convolution, had us add a shifted,\n",
    "scaled version of the HRF to the output, for every index.  This is step 5 of our\n",
    "algorithm.\n",
    "\n",
    "Now let us go back to our convolution algorithm.  Imagine that, instead of\n",
    "adding the shifted scaled HRF to the output vector, we store each shifted scaled\n",
    "HRF as a row in an array, that has one row for each index in the input vector.\n",
    "Then we can get the same output vector as before by taking the sum across the\n",
    "columns of this array:"
   ]
  },
  {
   "cell_type": "code",
   "execution_count": null,
   "id": "7d69c4df",
   "metadata": {},
   "outputs": [],
   "source": [
    "N = n_time_points\n",
    "M = n_hrf_points\n",
    "shifted_scaled_hrfs = np.zeros((N, N + M - 1))\n",
    "for i in range(N):\n",
    "    input_value = neural_signal[i]\n",
    "    # Storing the shifted, scaled HRF\n",
    "    shifted_scaled_hrfs[i, i : i + n_hrf_points] = hrf_signal * input_value\n",
    "bold_signal_again = np.sum(shifted_scaled_hrfs, axis=0)"
   ]
  },
  {
   "cell_type": "code",
   "execution_count": null,
   "id": "f1f792ad",
   "metadata": {},
   "outputs": [],
   "source": [
    "# We check that the result is almost exactly the same\n",
    "# (allowing for tiny differences due to the order of +, * operations)\n",
    "import numpy.testing as npt\n",
    "npt.assert_almost_equal(bold_signal, bold_signal_again)"
   ]
  },
  {
   "cell_type": "markdown",
   "id": "240ddb41",
   "metadata": {},
   "source": [
    "We can also do exactly the same operation by first making an array with the\n",
    "*shifted* HRFs, without scaling, and then multiplying each row by the\n",
    "corresponding input value, before doing the sum.  Here we are doing the shifting\n",
    "first, and then the scaling, and then the sum.  It all adds up to the same\n",
    "operation:"
   ]
  },
  {
   "cell_type": "code",
   "execution_count": null,
   "id": "9d3159f9",
   "metadata": {},
   "outputs": [],
   "source": [
    "# First we make the shifted HRFs\n",
    "shifted_hrfs = np.zeros((N, N + M - 1))\n",
    "for i in range(N):\n",
    "    # Storing the shifted HRF without scaling\n",
    "    shifted_hrfs[i, i : i + n_hrf_points] = hrf_signal\n",
    "# Then do the scaling\n",
    "shifted_scaled_hrfs = np.zeros((N, N + M - 1))\n",
    "for i in range(N):\n",
    "    input_value = neural_signal[i]\n",
    "    # Scaling the stored HRF by the input value\n",
    "    shifted_scaled_hrfs[i, :] = shifted_hrfs[i, :] * input_value\n",
    "# Then the sum\n",
    "bold_signal_again = np.sum(shifted_scaled_hrfs, axis=0)\n",
    "# This gives the same result, once again\n",
    "npt.assert_almost_equal(bold_signal, bold_signal_again)"
   ]
  },
  {
   "cell_type": "markdown",
   "id": "0158f47a",
   "metadata": {},
   "source": [
    "The `shifted_hrfs` array looks like this as an image:"
   ]
  },
  {
   "cell_type": "code",
   "execution_count": null,
   "id": "30e108b2",
   "metadata": {},
   "outputs": [],
   "source": [
    "plt.imshow(shifted_hrfs, cmap='gray', interpolation='nearest')"
   ]
  },
  {
   "cell_type": "markdown",
   "id": "ac87076b",
   "metadata": {},
   "source": [
    "Each new row of `shifted_hrfs` corresponds to the HRF, shifted by one more\n",
    "column to the right:"
   ]
  },
  {
   "cell_type": "code",
   "execution_count": null,
   "id": "7ab359af",
   "metadata": {},
   "outputs": [],
   "source": [
    "fig, axes = plt.subplots(5, 1)\n",
    "for row_no in range(5):\n",
    "    axes[row_no].plot(shifted_hrfs[row_no, :])"
   ]
  },
  {
   "cell_type": "markdown",
   "id": "5f4a34b4",
   "metadata": {},
   "source": [
    "Now remember matrix multiplication:\n",
    "\n",
    "$$\n",
    "\\begin{pmatrix}\n",
    "    xa + yb + zc   \\\\\n",
    "    xd + ye + zf\n",
    "\\end{pmatrix}\n",
    "=\n",
    "\\begin{pmatrix}\n",
    "    x & y & z\n",
    "\\end{pmatrix}\n",
    "\\begin{pmatrix}\n",
    "    a & d \\\\\n",
    "    b & e \\\\\n",
    "    c & f\n",
    "\\end{pmatrix}\n",
    "$$\n",
    "\n",
    "Now let us make our input neural vector into a 1 by N row vector.  If we *matrix\n",
    "multiply* this vector onto the `shifted_hrfs` array (matrix), then we do the\n",
    "scaling of the HRFs and the sum operation, all in one go.  Like this:"
   ]
  },
  {
   "cell_type": "code",
   "execution_count": null,
   "id": "9eaf2c14",
   "metadata": {},
   "outputs": [],
   "source": [
    "def as_row_vector(v):\n",
    "    \" Convert 1D vector to row vector \"\n",
    "    return v.reshape((1, -1))"
   ]
  },
  {
   "cell_type": "code",
   "execution_count": null,
   "id": "6bb96711",
   "metadata": {},
   "outputs": [],
   "source": [
    "neural_vector = as_row_vector(neural_signal)\n",
    "# The scaling and summing by the magic of matrix multiplication\n",
    "bold_signal_again = neural_vector.dot(shifted_hrfs)\n",
    "# This gives the same result as previously, yet one more time\n",
    "npt.assert_almost_equal(as_row_vector(bold_signal), bold_signal_again)"
   ]
  },
  {
   "cell_type": "markdown",
   "id": "a65c1a3c",
   "metadata": {},
   "source": [
    "The matrix transpose rule says $(A B)^T = B^T A^T$ where $A^T$ is the transpose\n",
    "of matrix $A$.  So we could also do this exact same operation by doing a matrix\n",
    "multiply of the transpose of `shifted_hrfs` onto the `neural_signal` as a\n",
    "column vector:"
   ]
  },
  {
   "cell_type": "code",
   "execution_count": null,
   "id": "28286509",
   "metadata": {},
   "outputs": [],
   "source": [
    "bold_signal_again = shifted_hrfs.T.dot(neural_vector.T)\n",
    "# Exactly the same, but transposed\n",
    "npt.assert_almost_equal(as_row_vector(bold_signal), bold_signal_again.T)"
   ]
  },
  {
   "cell_type": "markdown",
   "id": "5eb7188f",
   "metadata": {},
   "source": [
    "In this last formulation, the `shifted_hrfs` matrix is the *convolution*\n",
    "matrix, in that (as we have just shown) you can apply the convolution of the\n",
    "HRF by matrix multiplying onto an input vector.\n",
    "\n",
    "# Convolution is like cross-correlation with the reversed HRF\n",
    "\n",
    "We are now ready to show something slightly odd that arises from the way that\n",
    "convolution works.\n",
    "\n",
    "Consider index $i$ in the input (neural) vector.  Let’s say $i = 25$.  We want to get\n",
    "value index $i$ in the output (hemodynamic vector). What do we need to do?\n",
    "\n",
    "Looking at our non-transposed matrix formulation, we see that value $i$ in the\n",
    "output is the matrix multiplication of the neural signal (row vector) by\n",
    "column $i$ in `shifted_hrfs`.  Here is a plot of column 25 in\n",
    "`shifted_hrfs`:"
   ]
  },
  {
   "cell_type": "code",
   "execution_count": null,
   "id": "1fc07bad",
   "metadata": {},
   "outputs": [],
   "source": [
    "plt.plot(shifted_hrfs[:, 25])"
   ]
  },
  {
   "cell_type": "markdown",
   "id": "8de83975",
   "metadata": {},
   "source": [
    "The column contains a *reversed* copy of the HRF signal, where the first value\n",
    "from the original HRF signal is at index 25 ($i$), the second value is at\n",
    "index 24 ($i - 1$) and so on back to index 25 - 20 = 5.  The reversed HRF\n",
    "follows from the way we constructed the rows of the original matrix.  Each new\n",
    "HRF row was shifted across by one column, therefore, reading up the columns\n",
    "from the diagonals, will also give you the HRF shape.\n",
    "\n",
    "Let us rephrase the matrix multiplication that gives us the value at index $i$\n",
    "in the output vector.  Call the neural input vector $\\mathbf{n}$ with values\n",
    "$n_0, n_1 ... n_{N-1}$.  Call the `shifted_hrfs` array $\\mathbf{S}$ with $N$\n",
    "rows and $N + M - 1$ columns.  $\\mathbf{S}_{:,i}$ is column $i$ in\n",
    "$\\mathbf{S}$.\n",
    "\n",
    "So, the output value $o_i$ is given by the matrix multiplication of row\n",
    "$\\mathbf{n}$ onto column $\\mathbf{S}_{:,i}$.  The matrix multiplication (dot\n",
    "product) gives us the usual sum of products as the output:\n",
    "\n",
    "$$\n",
    "o_i = \\sum_{j=0}^{N-1}{n_j S_{j,i}}\n",
    "$$\n",
    "\n",
    "The formula above describes what is happening in the matrix multiplication in\n",
    "this piece of code:"
   ]
  },
  {
   "cell_type": "code",
   "execution_count": null,
   "id": "4ddcbe58",
   "metadata": {},
   "outputs": [],
   "source": [
    "i = 25\n",
    "bold_i = neural_vector.dot(shifted_hrfs[:, i])"
   ]
  },
  {
   "cell_type": "code",
   "execution_count": null,
   "id": "099a11a0",
   "metadata": {},
   "outputs": [],
   "source": [
    "npt.assert_almost_equal(bold_i, bold_signal[i])"
   ]
  },
  {
   "cell_type": "markdown",
   "id": "444e74e8",
   "metadata": {},
   "source": [
    "Can we simplify the formula without using the `shifted_hrfs` $\\mathbf{S}$\n",
    "matrix?  We saw above that column $i$ in `shifted_hrfs` contains a reversed\n",
    "HRF, starting at index $i$ and going backwards towards index 0.\n",
    "\n",
    "The 1-second resolution HRF is our array `hrf_signal`.  So `shifted_hrfs[i,\n",
    "i]` contains `hrf_signal[0]`, `shifted_hrfs[i-1, i]` contains\n",
    "`hrf_signal[1]` and so on.  In general, for any index $j$ into\n",
    "`shifted_hrfs[:, i]`, `shifted_hrfs[j, i] == hrf_signal[i-j]` (assuming\n",
    "we return zero for any `hrf_signal[i-j]` where `i-j` is outside the\n",
    "bounds of the vector, with `i-j` < 0 or >= M).\n",
    "\n",
    "Realizing this, we can replace $\\mathbf{S}_{:,i}$ in our equation above.  Call\n",
    "our `hrf_signal` vector $\\mathbf{h}$ with values $h_0, h_1, ... h_{M-1}$.\n",
    "Then:\n",
    "\n",
    "$$\n",
    "o_i = \\sum_{j=0}^{N-1}{n_j h_{i-j}}\n",
    "$$\n",
    "\n",
    "This is the sum of the {products of the elements of $\\mathbf{n}$ with the\n",
    "matching elements from the [reversed HRF vector $\\mathbf{h}$, shifted by $i$\n",
    "elements]}.\n",
    "\n",
    "# The mathematical definition for convolution\n",
    "\n",
    "This brings us to the abstract definition of convolution for continuous\n",
    "functions.\n",
    "\n",
    "In general, call the continuous input a function $f$.  In our case the input\n",
    "signal is the neuronal model, that is a function of time.  This is the\n",
    "continuous generalization of the vector $\\mathbf{n}$ in our discrete model.\n",
    "The continuous function to convolve with is $g$.  In our case $g$ is the HRF,\n",
    "also a function of time.  $g$ is the generalized continuous version of the\n",
    "vector $\\mathbf{h}$ in the previous section.  The convolution of $f$ and $g$\n",
    "is often written $(f * g)$ and for any given $t$ is defined as:\n",
    "\n",
    "$$\n",
    "(f * g )(t) \\stackrel{\\mathrm{def}}{=}\\ \\int_{-\\infty}^\\infty f(\\tau)\\,\n",
    "g(t - \\tau)\\, d\\tau\n",
    "$$\n",
    "\n",
    "As you can see, and as we have already discovered in the discrete case, the\n",
    "convolution is the integral of the product of the two functions as the second\n",
    "function $g$ is reversed and shifted.\n",
    "\n",
    "See : the [wikipedia convolution definition section](https://en.wikipedia.org/wiki/Convolution#Definition) for more discussion.\n",
    "\n",
    "<!-- A file containing links and substitutions -->\n",
    "<!-- vim: ft=rst -->\n",
    "<!-- Version control -->\n",
    "<!-- Editors -->\n",
    "<!-- Python and common libraries -->\n",
    "<!-- Virtualenv and helpers -->\n",
    "<!-- Pypi and packaging -->\n",
    "<!-- Mac development -->\n",
    "<!-- Windows development -->\n",
    "<!-- Nipy and friends -->\n",
    "<!-- Mathematics -->\n",
    "<!-- Licenses -->\n",
    "<!-- Neuroimaging stuff -->\n",
    "<!-- People -->\n",
    "<!-- Substitutions -->"
   ]
  }
 ],
 "metadata": {},
 "nbformat": 4,
 "nbformat_minor": 5
}